{
 "cells": [
  {
   "cell_type": "code",
   "execution_count": 1,
   "metadata": {
    "collapsed": false
   },
   "outputs": [],
   "source": [
    "%matplotlib inline\n",
    "\n",
    "import pandas\n",
    "from sklearn.model_selection import train_test_split\n",
    "import Recommender"
   ]
  },
  {
   "cell_type": "markdown",
   "metadata": {},
   "source": [
    "# Load music data"
   ]
  },
  {
   "cell_type": "markdown",
   "source": [],
   "metadata": {
    "collapsed": false
   }
  },
  {
   "cell_type": "code",
   "execution_count": 3,
   "metadata": {
    "collapsed": false
   },
   "outputs": [
    {
     "data": {
      "text/plain": "                    SongNumber  AlbumID                   AlbumName  \\\nSongID                                                                \nSOCIWDW12A8C13D406           2   300822                  Dimensions   \nSOCIWDW12A8C13D406           2   300822                  Dimensions   \nSOCIWDW12A8C13D406           2   300822                  Dimensions   \nSOCIWDW12A8C13D406           2   300822                  Dimensions   \nSOCIWDW12A8C13D406           2   300822                  Dimensions   \n...                        ...      ...                         ...   \nSOFAOMI12A6D4FA2D8       10000    64501  Once Upon A Shattered Life   \nSOFAOMI12A6D4FA2D8       10000    64501  Once Upon A Shattered Life   \nSOFAOMI12A6D4FA2D8       10000    64501  Once Upon A Shattered Life   \nSOFAOMI12A6D4FA2D8       10000    64501  Once Upon A Shattered Life   \nSOFAOMI12A6D4FA2D8       10000    64501  Once Upon A Shattered Life   \n\n                              ArtistID           ArtistName   Duration  \\\nSongID                                                                   \nSOCIWDW12A8C13D406  ARMJAGH1187FB546F3         The Box Tops  148.03546   \nSOCIWDW12A8C13D406  ARMJAGH1187FB546F3         The Box Tops  148.03546   \nSOCIWDW12A8C13D406  ARMJAGH1187FB546F3         The Box Tops  148.03546   \nSOCIWDW12A8C13D406  ARMJAGH1187FB546F3         The Box Tops  148.03546   \nSOCIWDW12A8C13D406  ARMJAGH1187FB546F3         The Box Tops  148.03546   \n...                                ...                  ...        ...   \nSOFAOMI12A6D4FA2D8  ARYXOV81187B99831D  Seventh Day Slumber  209.73669   \nSOFAOMI12A6D4FA2D8  ARYXOV81187B99831D  Seventh Day Slumber  209.73669   \nSOFAOMI12A6D4FA2D8  ARYXOV81187B99831D  Seventh Day Slumber  209.73669   \nSOFAOMI12A6D4FA2D8  ARYXOV81187B99831D  Seventh Day Slumber  209.73669   \nSOFAOMI12A6D4FA2D8  ARYXOV81187B99831D  Seventh Day Slumber  209.73669   \n\n                      Tempo  TimeSignature           Title  ArtistFamiliarity  \\\nSongID                                                                          \nSOCIWDW12A8C13D406  121.274              4       Soul Deep           0.630630   \nSOCIWDW12A8C13D406  121.274              4       Soul Deep           0.630630   \nSOCIWDW12A8C13D406  121.274              4       Soul Deep           0.630630   \nSOCIWDW12A8C13D406  121.274              4       Soul Deep           0.630630   \nSOCIWDW12A8C13D406  121.274              4       Soul Deep           0.630630   \n...                     ...            ...             ...                ...   \nSOFAOMI12A6D4FA2D8  150.575              4  Shattered Life           0.609182   \nSOFAOMI12A6D4FA2D8  150.575              4  Shattered Life           0.609182   \nSOFAOMI12A6D4FA2D8  150.575              4  Shattered Life           0.609182   \nSOFAOMI12A6D4FA2D8  150.575              4  Shattered Life           0.609182   \nSOFAOMI12A6D4FA2D8  150.575              4  Shattered Life           0.609182   \n\n                    ArtistHotttnesss  Loudness  StartOfFadeOut  \\\nSongID                                                           \nSOCIWDW12A8C13D406          0.417500    -9.843         137.915   \nSOCIWDW12A8C13D406          0.417500    -9.843         137.915   \nSOCIWDW12A8C13D406          0.417500    -9.843         137.915   \nSOCIWDW12A8C13D406          0.417500    -9.843         137.915   \nSOCIWDW12A8C13D406          0.417500    -9.843         137.915   \n...                              ...       ...             ...   \nSOFAOMI12A6D4FA2D8          0.509243    -5.324         193.167   \nSOFAOMI12A6D4FA2D8          0.509243    -5.324         193.167   \nSOFAOMI12A6D4FA2D8          0.509243    -5.324         193.167   \nSOFAOMI12A6D4FA2D8          0.509243    -5.324         193.167   \nSOFAOMI12A6D4FA2D8          0.509243    -5.324         193.167   \n\n                                                      UserID  playCount  \\\nSongID                                                                    \nSOCIWDW12A8C13D406  84ce6a9b05c928a12f052c78554ac74a88fb28b5          3   \nSOCIWDW12A8C13D406  6280dcb18e0a8d7e5b1e578b6e1d4edea1cfb9c8          1   \nSOCIWDW12A8C13D406  793a4e91553a4c61e516b66dc5bc9600a05ce1a3          1   \nSOCIWDW12A8C13D406  577304f2958b48b89e6acfa490e61ac5b643703b          2   \nSOCIWDW12A8C13D406  cd6f72af6795e918979be23251f5b14c642c9a00          1   \n...                                                      ...        ...   \nSOFAOMI12A6D4FA2D8  0e22f172b4023358903998b836a6fa392b2304e6          2   \nSOFAOMI12A6D4FA2D8  e593c4a4d6c5baa14a2dc69c39c54cd89bbc6a2c          1   \nSOFAOMI12A6D4FA2D8  ea762927a6f57267acdcca2b0d4b080b17ef85f9          4   \nSOFAOMI12A6D4FA2D8  1cdd1def9f4926dd04ae41a7b8d59b43bce5bf29          2   \nSOFAOMI12A6D4FA2D8  735fa62d5853d49654caebe7f88ef5fcd3dccd1a          2   \n\n                                                    song  \nSongID                                                    \nSOCIWDW12A8C13D406              Soul Deep - The Box Tops  \nSOCIWDW12A8C13D406              Soul Deep - The Box Tops  \nSOCIWDW12A8C13D406              Soul Deep - The Box Tops  \nSOCIWDW12A8C13D406              Soul Deep - The Box Tops  \nSOCIWDW12A8C13D406              Soul Deep - The Box Tops  \n...                                                  ...  \nSOFAOMI12A6D4FA2D8  Shattered Life - Seventh Day Slumber  \nSOFAOMI12A6D4FA2D8  Shattered Life - Seventh Day Slumber  \nSOFAOMI12A6D4FA2D8  Shattered Life - Seventh Day Slumber  \nSOFAOMI12A6D4FA2D8  Shattered Life - Seventh Day Slumber  \nSOFAOMI12A6D4FA2D8  Shattered Life - Seventh Day Slumber  \n\n[771510 rows x 16 columns]",
      "text/html": "<div>\n<style scoped>\n    .dataframe tbody tr th:only-of-type {\n        vertical-align: middle;\n    }\n\n    .dataframe tbody tr th {\n        vertical-align: top;\n    }\n\n    .dataframe thead th {\n        text-align: right;\n    }\n</style>\n<table border=\"1\" class=\"dataframe\">\n  <thead>\n    <tr style=\"text-align: right;\">\n      <th></th>\n      <th>SongNumber</th>\n      <th>AlbumID</th>\n      <th>AlbumName</th>\n      <th>ArtistID</th>\n      <th>ArtistName</th>\n      <th>Duration</th>\n      <th>Tempo</th>\n      <th>TimeSignature</th>\n      <th>Title</th>\n      <th>ArtistFamiliarity</th>\n      <th>ArtistHotttnesss</th>\n      <th>Loudness</th>\n      <th>StartOfFadeOut</th>\n      <th>UserID</th>\n      <th>playCount</th>\n      <th>song</th>\n    </tr>\n    <tr>\n      <th>SongID</th>\n      <th></th>\n      <th></th>\n      <th></th>\n      <th></th>\n      <th></th>\n      <th></th>\n      <th></th>\n      <th></th>\n      <th></th>\n      <th></th>\n      <th></th>\n      <th></th>\n      <th></th>\n      <th></th>\n      <th></th>\n      <th></th>\n    </tr>\n  </thead>\n  <tbody>\n    <tr>\n      <th>SOCIWDW12A8C13D406</th>\n      <td>2</td>\n      <td>300822</td>\n      <td>Dimensions</td>\n      <td>ARMJAGH1187FB546F3</td>\n      <td>The Box Tops</td>\n      <td>148.03546</td>\n      <td>121.274</td>\n      <td>4</td>\n      <td>Soul Deep</td>\n      <td>0.630630</td>\n      <td>0.417500</td>\n      <td>-9.843</td>\n      <td>137.915</td>\n      <td>84ce6a9b05c928a12f052c78554ac74a88fb28b5</td>\n      <td>3</td>\n      <td>Soul Deep - The Box Tops</td>\n    </tr>\n    <tr>\n      <th>SOCIWDW12A8C13D406</th>\n      <td>2</td>\n      <td>300822</td>\n      <td>Dimensions</td>\n      <td>ARMJAGH1187FB546F3</td>\n      <td>The Box Tops</td>\n      <td>148.03546</td>\n      <td>121.274</td>\n      <td>4</td>\n      <td>Soul Deep</td>\n      <td>0.630630</td>\n      <td>0.417500</td>\n      <td>-9.843</td>\n      <td>137.915</td>\n      <td>6280dcb18e0a8d7e5b1e578b6e1d4edea1cfb9c8</td>\n      <td>1</td>\n      <td>Soul Deep - The Box Tops</td>\n    </tr>\n    <tr>\n      <th>SOCIWDW12A8C13D406</th>\n      <td>2</td>\n      <td>300822</td>\n      <td>Dimensions</td>\n      <td>ARMJAGH1187FB546F3</td>\n      <td>The Box Tops</td>\n      <td>148.03546</td>\n      <td>121.274</td>\n      <td>4</td>\n      <td>Soul Deep</td>\n      <td>0.630630</td>\n      <td>0.417500</td>\n      <td>-9.843</td>\n      <td>137.915</td>\n      <td>793a4e91553a4c61e516b66dc5bc9600a05ce1a3</td>\n      <td>1</td>\n      <td>Soul Deep - The Box Tops</td>\n    </tr>\n    <tr>\n      <th>SOCIWDW12A8C13D406</th>\n      <td>2</td>\n      <td>300822</td>\n      <td>Dimensions</td>\n      <td>ARMJAGH1187FB546F3</td>\n      <td>The Box Tops</td>\n      <td>148.03546</td>\n      <td>121.274</td>\n      <td>4</td>\n      <td>Soul Deep</td>\n      <td>0.630630</td>\n      <td>0.417500</td>\n      <td>-9.843</td>\n      <td>137.915</td>\n      <td>577304f2958b48b89e6acfa490e61ac5b643703b</td>\n      <td>2</td>\n      <td>Soul Deep - The Box Tops</td>\n    </tr>\n    <tr>\n      <th>SOCIWDW12A8C13D406</th>\n      <td>2</td>\n      <td>300822</td>\n      <td>Dimensions</td>\n      <td>ARMJAGH1187FB546F3</td>\n      <td>The Box Tops</td>\n      <td>148.03546</td>\n      <td>121.274</td>\n      <td>4</td>\n      <td>Soul Deep</td>\n      <td>0.630630</td>\n      <td>0.417500</td>\n      <td>-9.843</td>\n      <td>137.915</td>\n      <td>cd6f72af6795e918979be23251f5b14c642c9a00</td>\n      <td>1</td>\n      <td>Soul Deep - The Box Tops</td>\n    </tr>\n    <tr>\n      <th>...</th>\n      <td>...</td>\n      <td>...</td>\n      <td>...</td>\n      <td>...</td>\n      <td>...</td>\n      <td>...</td>\n      <td>...</td>\n      <td>...</td>\n      <td>...</td>\n      <td>...</td>\n      <td>...</td>\n      <td>...</td>\n      <td>...</td>\n      <td>...</td>\n      <td>...</td>\n      <td>...</td>\n    </tr>\n    <tr>\n      <th>SOFAOMI12A6D4FA2D8</th>\n      <td>10000</td>\n      <td>64501</td>\n      <td>Once Upon A Shattered Life</td>\n      <td>ARYXOV81187B99831D</td>\n      <td>Seventh Day Slumber</td>\n      <td>209.73669</td>\n      <td>150.575</td>\n      <td>4</td>\n      <td>Shattered Life</td>\n      <td>0.609182</td>\n      <td>0.509243</td>\n      <td>-5.324</td>\n      <td>193.167</td>\n      <td>0e22f172b4023358903998b836a6fa392b2304e6</td>\n      <td>2</td>\n      <td>Shattered Life - Seventh Day Slumber</td>\n    </tr>\n    <tr>\n      <th>SOFAOMI12A6D4FA2D8</th>\n      <td>10000</td>\n      <td>64501</td>\n      <td>Once Upon A Shattered Life</td>\n      <td>ARYXOV81187B99831D</td>\n      <td>Seventh Day Slumber</td>\n      <td>209.73669</td>\n      <td>150.575</td>\n      <td>4</td>\n      <td>Shattered Life</td>\n      <td>0.609182</td>\n      <td>0.509243</td>\n      <td>-5.324</td>\n      <td>193.167</td>\n      <td>e593c4a4d6c5baa14a2dc69c39c54cd89bbc6a2c</td>\n      <td>1</td>\n      <td>Shattered Life - Seventh Day Slumber</td>\n    </tr>\n    <tr>\n      <th>SOFAOMI12A6D4FA2D8</th>\n      <td>10000</td>\n      <td>64501</td>\n      <td>Once Upon A Shattered Life</td>\n      <td>ARYXOV81187B99831D</td>\n      <td>Seventh Day Slumber</td>\n      <td>209.73669</td>\n      <td>150.575</td>\n      <td>4</td>\n      <td>Shattered Life</td>\n      <td>0.609182</td>\n      <td>0.509243</td>\n      <td>-5.324</td>\n      <td>193.167</td>\n      <td>ea762927a6f57267acdcca2b0d4b080b17ef85f9</td>\n      <td>4</td>\n      <td>Shattered Life - Seventh Day Slumber</td>\n    </tr>\n    <tr>\n      <th>SOFAOMI12A6D4FA2D8</th>\n      <td>10000</td>\n      <td>64501</td>\n      <td>Once Upon A Shattered Life</td>\n      <td>ARYXOV81187B99831D</td>\n      <td>Seventh Day Slumber</td>\n      <td>209.73669</td>\n      <td>150.575</td>\n      <td>4</td>\n      <td>Shattered Life</td>\n      <td>0.609182</td>\n      <td>0.509243</td>\n      <td>-5.324</td>\n      <td>193.167</td>\n      <td>1cdd1def9f4926dd04ae41a7b8d59b43bce5bf29</td>\n      <td>2</td>\n      <td>Shattered Life - Seventh Day Slumber</td>\n    </tr>\n    <tr>\n      <th>SOFAOMI12A6D4FA2D8</th>\n      <td>10000</td>\n      <td>64501</td>\n      <td>Once Upon A Shattered Life</td>\n      <td>ARYXOV81187B99831D</td>\n      <td>Seventh Day Slumber</td>\n      <td>209.73669</td>\n      <td>150.575</td>\n      <td>4</td>\n      <td>Shattered Life</td>\n      <td>0.609182</td>\n      <td>0.509243</td>\n      <td>-5.324</td>\n      <td>193.167</td>\n      <td>735fa62d5853d49654caebe7f88ef5fcd3dccd1a</td>\n      <td>2</td>\n      <td>Shattered Life - Seventh Day Slumber</td>\n    </tr>\n  </tbody>\n</table>\n<p>771510 rows × 16 columns</p>\n</div>"
     },
     "execution_count": 3,
     "metadata": {},
     "output_type": "execute_result"
    }
   ],
   "source": [
    "#Load from server. It may take long for slow connections.\n",
    "location = 'https://projects.danielvivas.com/song_recommender/fulldata.csv'\n",
    "\n",
    "#Sample file for slow connections.\n",
    "#location = '../data/processed/fulldata_sample.csv'\n",
    "\n",
    "#Load from local\n",
    "#location = '../data/processed/fulldata.csv'\n",
    "\n",
    "song_df =  pandas.read_csv(location, index_col=0)\n",
    "\n",
    "song_df"
   ]
  },
  {
   "cell_type": "markdown",
   "metadata": {},
   "source": [
    "# Explore data\n",
    "\n",
    "Some useful stats to understand our dataset."
   ]
  },
  {
   "cell_type": "code",
   "execution_count": 3,
   "outputs": [
    {
     "name": "stdout",
     "output_type": "stream",
     "text": [
      "We have 417827 unique users and 3626 unique songs.\n",
      "The user with most plays played 772.0 times.\n",
      "Our dataset has 771510 records\n"
     ]
    }
   ],
   "source": [
    "print('We have', len(song_df['UserID'].unique()), 'unique users and', len(song_df.index.unique()), 'unique songs.')\n",
    "sum = song_df.groupby('UserID').sum('playCount').sort_values('playCount', ascending=False)\n",
    "\n",
    "print('The user with most plays played', sum.iloc[0]['playCount'], 'times.')\n",
    "\n",
    "print('Our dataset has', song_df.shape[0], 'records')"
   ],
   "metadata": {
    "collapsed": false,
    "pycharm": {
     "name": "#%%\n"
    }
   }
  },
  {
   "cell_type": "markdown",
   "metadata": {},
   "source": [
    "### Get list of unique users and songs"
   ]
  },
  {
   "cell_type": "code",
   "execution_count": 4,
   "metadata": {
    "collapsed": false
   },
   "outputs": [],
   "source": [
    "users = song_df['UserID'].unique()\n",
    "songs = song_df['song'].unique()"
   ]
  },
  {
   "cell_type": "markdown",
   "metadata": {},
   "source": [
    "# Create a song recommender\n",
    "\n",
    "First we divide our dataset in train and test data"
   ]
  },
  {
   "cell_type": "code",
   "execution_count": 5,
   "metadata": {
    "collapsed": false
   },
   "outputs": [
    {
     "name": "stdout",
     "output_type": "stream",
     "text": [
      "                    SongNumber  AlbumID                    AlbumName  \\\n",
      "SongID                                                                 \n",
      "SOEHWGF12A6D4F8B2B         142   302176  Essential R&B Hit Selection   \n",
      "SOSELMV12A6D4FCF5A        6018   229040                 ESSENTIAL 08   \n",
      "SODQFQC12A8C13FD7A        8177   441073                The Open Door   \n",
      "SOWEUOO12A6D4F6D0C        6024    85606          Minutes To Midnight   \n",
      "SOLLOTO12AB01804C6        3773   532679                    Friend EP   \n",
      "\n",
      "                              ArtistID                     ArtistName  \\\n",
      "SongID                                                                  \n",
      "SOEHWGF12A6D4F8B2B  AR6PJ8R1187FB5AD70  Shakira Featuring Wyclef Jean   \n",
      "SOSELMV12A6D4FCF5A  ARWD25M1187FB4C563                  Amy Winehouse   \n",
      "SODQFQC12A8C13FD7A  ARVXU2X1187B9AE6D8                    Evanescence   \n",
      "SOWEUOO12A6D4F6D0C  ARQUMH41187B9AF699                    Linkin Park   \n",
      "SOLLOTO12AB01804C6  ARRDRI71187FB46EAA                   Grizzly Bear   \n",
      "\n",
      "                     Duration    Tempo  TimeSignature  \\\n",
      "SongID                                                  \n",
      "SOEHWGF12A6D4F8B2B  217.36444  100.023              4   \n",
      "SOSELMV12A6D4FCF5A  229.85098   96.224              4   \n",
      "SODQFQC12A8C13FD7A  331.36281   91.371              4   \n",
      "SOWEUOO12A6D4F6D0C  189.28281  100.073              4   \n",
      "SOLLOTO12AB01804C6  351.50322   85.003              4   \n",
      "\n",
      "                                                           Title  \\\n",
      "SongID                                                             \n",
      "SOEHWGF12A6D4F8B2B        ips Don't Lie (featuring Wyclef Jean)\"   \n",
      "SOSELMV12A6D4FCF5A                                       Valerie   \n",
      "SODQFQC12A8C13FD7A                                   Good Enough   \n",
      "SOWEUOO12A6D4F6D0C                      Given Up (Album Version)   \n",
      "SOLLOTO12AB01804C6  Deep Blue Sea (Daniel Rossen home recording)   \n",
      "\n",
      "                    ArtistFamiliarity  ArtistHotttnesss  Loudness  \\\n",
      "SongID                                                              \n",
      "SOEHWGF12A6D4F8B2B           0.833179          0.682263    -5.152   \n",
      "SOSELMV12A6D4FCF5A           0.899710          0.583733    -7.256   \n",
      "SODQFQC12A8C13FD7A           0.920960          0.705758   -12.527   \n",
      "SOWEUOO12A6D4F6D0C           0.887386          0.791143    -4.034   \n",
      "SOLLOTO12AB01804C6           0.760636          0.547244   -14.372   \n",
      "\n",
      "                    StartOfFadeOut                                    UserID  \\\n",
      "SongID                                                                         \n",
      "SOEHWGF12A6D4F8B2B         212.161  533100996f517d338fa768fc5036aea945ec68c2   \n",
      "SOSELMV12A6D4FCF5A         223.591  d63797d73e67b300255dffc888a0ee40b439481b   \n",
      "SODQFQC12A8C13FD7A         318.851  1068b7811df0693c75f771dada7c741d8915c9c9   \n",
      "SOWEUOO12A6D4F6D0C         185.556  02a13b5bf84ee843075c6d816caf22f918fc71b1   \n",
      "SOLLOTO12AB01804C6         344.590  767e19d509b90f302a281c04fa6a04e8e7f37b18   \n",
      "\n",
      "                    playCount  \\\n",
      "SongID                          \n",
      "SOEHWGF12A6D4F8B2B          1   \n",
      "SOSELMV12A6D4FCF5A          1   \n",
      "SODQFQC12A8C13FD7A         12   \n",
      "SOWEUOO12A6D4F6D0C          1   \n",
      "SOLLOTO12AB01804C6          1   \n",
      "\n",
      "                                                                 song  \n",
      "SongID                                                                 \n",
      "SOEHWGF12A6D4F8B2B  ips Don't Lie (featuring Wyclef Jean)\" - Shaki...  \n",
      "SOSELMV12A6D4FCF5A                            Valerie - Amy Winehouse  \n",
      "SODQFQC12A8C13FD7A                          Good Enough - Evanescence  \n",
      "SOWEUOO12A6D4F6D0C             Given Up (Album Version) - Linkin Park  \n",
      "SOLLOTO12AB01804C6  Deep Blue Sea (Daniel Rossen home recording) -...  \n"
     ]
    }
   ],
   "source": [
    "train_data, test_data = train_test_split(song_df, test_size = 0.20, random_state=0)\n",
    "print(train_data.head(5))"
   ]
  },
  {
   "cell_type": "code",
   "execution_count": 6,
   "metadata": {
    "collapsed": false
   },
   "outputs": [],
   "source": [
    "def print_userItems(user_id):\n",
    "    model = Recommender.recommender(train_data)\n",
    "\n",
    "    user_items = model.get_user_items(user_id)\n",
    "\n",
    "    print(\"------------------------------------------------------------------------------------\")\n",
    "    print(\"Training data songs for the user userid:\", user_id)\n",
    "    print(\"------------------------------------------------------------------------------------\")\n",
    "\n",
    "    for user_item in user_items:\n",
    "        print(user_item)\n",
    "\n",
    "    print(\"----------------------------------------------------------------------\")\n",
    "\n",
    "    return user_items\n",
    "\n"
   ]
  },
  {
   "cell_type": "markdown",
   "source": [
    "### Use the personalized model to make some song recommendations"
   ],
   "metadata": {
    "collapsed": false
   }
  },
  {
   "cell_type": "code",
   "execution_count": 9,
   "outputs": [
    {
     "name": "stdout",
     "output_type": "stream",
     "text": [
      "['Drop of Rain - Tweeterfriendly Music', 'Defend You (Album Version) - Silverstein', 'Bury Your Head - Saosin']\n",
      "Non zero values in cooccurence_matrix :1045\n"
     ]
    },
    {
     "data": {
      "text/plain": "                                    user_id  \\\n0  f02301a1bc6035fc9889a17ac8bf89de3e039ca2   \n1  f02301a1bc6035fc9889a17ac8bf89de3e039ca2   \n2  f02301a1bc6035fc9889a17ac8bf89de3e039ca2   \n3  f02301a1bc6035fc9889a17ac8bf89de3e039ca2   \n4  f02301a1bc6035fc9889a17ac8bf89de3e039ca2   \n5  f02301a1bc6035fc9889a17ac8bf89de3e039ca2   \n6  f02301a1bc6035fc9889a17ac8bf89de3e039ca2   \n7  f02301a1bc6035fc9889a17ac8bf89de3e039ca2   \n8  f02301a1bc6035fc9889a17ac8bf89de3e039ca2   \n9  f02301a1bc6035fc9889a17ac8bf89de3e039ca2   \n\n                                                song     score rank  \n0          MY CONSOLATION (LP Version) - Silverstein  0.029841    1  \n1  Meathead (Album Version) (Non-PA) - Story Of T...  0.019125    2  \n2                 Bury Your Head (Acoustic) - Saosin  0.017379    3  \n3                           ll That's Left\" - Thrice  0.009074    4  \n4                       Mailbox Arson - Alexisonfire  0.007648    5  \n5          Spin (Album Version) - Taking Back Sunday  0.007320    6  \n6           Ability To Create A War - A Skylit Drive  0.006815    7  \n7  I Am Fred Astaire (Album Version) - Taking Bac...  0.006586    8  \n8          She Will Love You (Album Version) - Aiden  0.006441    9  \n9  The Plot To Bomb The Panhandle (Album Version)...  0.006312   10  ",
      "text/html": "<div>\n<style scoped>\n    .dataframe tbody tr th:only-of-type {\n        vertical-align: middle;\n    }\n\n    .dataframe tbody tr th {\n        vertical-align: top;\n    }\n\n    .dataframe thead th {\n        text-align: right;\n    }\n</style>\n<table border=\"1\" class=\"dataframe\">\n  <thead>\n    <tr style=\"text-align: right;\">\n      <th></th>\n      <th>user_id</th>\n      <th>song</th>\n      <th>score</th>\n      <th>rank</th>\n    </tr>\n  </thead>\n  <tbody>\n    <tr>\n      <th>0</th>\n      <td>f02301a1bc6035fc9889a17ac8bf89de3e039ca2</td>\n      <td>MY CONSOLATION (LP Version) - Silverstein</td>\n      <td>0.029841</td>\n      <td>1</td>\n    </tr>\n    <tr>\n      <th>1</th>\n      <td>f02301a1bc6035fc9889a17ac8bf89de3e039ca2</td>\n      <td>Meathead (Album Version) (Non-PA) - Story Of T...</td>\n      <td>0.019125</td>\n      <td>2</td>\n    </tr>\n    <tr>\n      <th>2</th>\n      <td>f02301a1bc6035fc9889a17ac8bf89de3e039ca2</td>\n      <td>Bury Your Head (Acoustic) - Saosin</td>\n      <td>0.017379</td>\n      <td>3</td>\n    </tr>\n    <tr>\n      <th>3</th>\n      <td>f02301a1bc6035fc9889a17ac8bf89de3e039ca2</td>\n      <td>ll That's Left\" - Thrice</td>\n      <td>0.009074</td>\n      <td>4</td>\n    </tr>\n    <tr>\n      <th>4</th>\n      <td>f02301a1bc6035fc9889a17ac8bf89de3e039ca2</td>\n      <td>Mailbox Arson - Alexisonfire</td>\n      <td>0.007648</td>\n      <td>5</td>\n    </tr>\n    <tr>\n      <th>5</th>\n      <td>f02301a1bc6035fc9889a17ac8bf89de3e039ca2</td>\n      <td>Spin (Album Version) - Taking Back Sunday</td>\n      <td>0.007320</td>\n      <td>6</td>\n    </tr>\n    <tr>\n      <th>6</th>\n      <td>f02301a1bc6035fc9889a17ac8bf89de3e039ca2</td>\n      <td>Ability To Create A War - A Skylit Drive</td>\n      <td>0.006815</td>\n      <td>7</td>\n    </tr>\n    <tr>\n      <th>7</th>\n      <td>f02301a1bc6035fc9889a17ac8bf89de3e039ca2</td>\n      <td>I Am Fred Astaire (Album Version) - Taking Bac...</td>\n      <td>0.006586</td>\n      <td>8</td>\n    </tr>\n    <tr>\n      <th>8</th>\n      <td>f02301a1bc6035fc9889a17ac8bf89de3e039ca2</td>\n      <td>She Will Love You (Album Version) - Aiden</td>\n      <td>0.006441</td>\n      <td>9</td>\n    </tr>\n    <tr>\n      <th>9</th>\n      <td>f02301a1bc6035fc9889a17ac8bf89de3e039ca2</td>\n      <td>The Plot To Bomb The Panhandle (Album Version)...</td>\n      <td>0.006312</td>\n      <td>10</td>\n    </tr>\n  </tbody>\n</table>\n</div>"
     },
     "execution_count": 9,
     "metadata": {},
     "output_type": "execute_result"
    }
   ],
   "source": [
    "#Create the model\n",
    "model = Recommender.recommender(train_data)\n",
    "\n",
    "#Select a random user\n",
    "user_id = users[367]\n",
    "\n",
    "#Get songs listened by this user\n",
    "listened_songs = model.get_user_items(user_id)\n",
    "print('---------------LISTENED SONGS-----------------')\n",
    "for i in listened_songs:\n",
    "    print(i)\n",
    "print('----------------------------------------------\\n')\n",
    "\n",
    "#Get recommendations\n",
    "rm = model.recommend(user_id)\n",
    "rm"
   ],
   "metadata": {
    "collapsed": false,
    "pycharm": {
     "name": "#%%\n"
    }
   }
  },
  {
   "cell_type": "markdown",
   "metadata": {},
   "source": [
    "### Now let's use the model to find similar songs"
   ]
  },
  {
   "cell_type": "code",
   "execution_count": 11,
   "metadata": {
    "collapsed": false,
    "pycharm": {
     "name": "#%%\n"
    }
   },
   "outputs": [
    {
     "name": "stdout",
     "output_type": "stream",
     "text": [
      "no. of unique songs in the training set: 3554\n",
      "Non zero values in cooccurence_matrix :396\n"
     ]
    },
    {
     "data": {
      "text/plain": "  user_id                                               song     score rank\n0          Christmas In Jamaica - Toni Braxton Featuring ...  0.038494    1\n1              Only Human - Usher Featuring The Nu Beginning  0.026776    2\n2                             Morning Glow - Michael Jackson  0.019499    3\n3                   Anytime You Need A Friend - Mariah Carey  0.014805    4\n4                                       Over The Edge - Akon  0.014620    5\n5                                 Music Of The Sun - Rihanna  0.011690    6\n6                               Good Girl Gone Bad - Rihanna  0.008645    7\n7                           f I Ain't Got You\" - Alicia Keys  0.008111    8\n8                                       Voodoo Doll - Fergie  0.007418    9\n9                           ey Daddy (Daddy's Home)\" - Usher  0.006550   10",
      "text/html": "<div>\n<style scoped>\n    .dataframe tbody tr th:only-of-type {\n        vertical-align: middle;\n    }\n\n    .dataframe tbody tr th {\n        vertical-align: top;\n    }\n\n    .dataframe thead th {\n        text-align: right;\n    }\n</style>\n<table border=\"1\" class=\"dataframe\">\n  <thead>\n    <tr style=\"text-align: right;\">\n      <th></th>\n      <th>user_id</th>\n      <th>song</th>\n      <th>score</th>\n      <th>rank</th>\n    </tr>\n  </thead>\n  <tbody>\n    <tr>\n      <th>0</th>\n      <td></td>\n      <td>Christmas In Jamaica - Toni Braxton Featuring ...</td>\n      <td>0.038494</td>\n      <td>1</td>\n    </tr>\n    <tr>\n      <th>1</th>\n      <td></td>\n      <td>Only Human - Usher Featuring The Nu Beginning</td>\n      <td>0.026776</td>\n      <td>2</td>\n    </tr>\n    <tr>\n      <th>2</th>\n      <td></td>\n      <td>Morning Glow - Michael Jackson</td>\n      <td>0.019499</td>\n      <td>3</td>\n    </tr>\n    <tr>\n      <th>3</th>\n      <td></td>\n      <td>Anytime You Need A Friend - Mariah Carey</td>\n      <td>0.014805</td>\n      <td>4</td>\n    </tr>\n    <tr>\n      <th>4</th>\n      <td></td>\n      <td>Over The Edge - Akon</td>\n      <td>0.014620</td>\n      <td>5</td>\n    </tr>\n    <tr>\n      <th>5</th>\n      <td></td>\n      <td>Music Of The Sun - Rihanna</td>\n      <td>0.011690</td>\n      <td>6</td>\n    </tr>\n    <tr>\n      <th>6</th>\n      <td></td>\n      <td>Good Girl Gone Bad - Rihanna</td>\n      <td>0.008645</td>\n      <td>7</td>\n    </tr>\n    <tr>\n      <th>7</th>\n      <td></td>\n      <td>f I Ain't Got You\" - Alicia Keys</td>\n      <td>0.008111</td>\n      <td>8</td>\n    </tr>\n    <tr>\n      <th>8</th>\n      <td></td>\n      <td>Voodoo Doll - Fergie</td>\n      <td>0.007418</td>\n      <td>9</td>\n    </tr>\n    <tr>\n      <th>9</th>\n      <td></td>\n      <td>ey Daddy (Daddy's Home)\" - Usher</td>\n      <td>0.006550</td>\n      <td>10</td>\n    </tr>\n  </tbody>\n</table>\n</div>"
     },
     "execution_count": 11,
     "metadata": {},
     "output_type": "execute_result"
    }
   ],
   "source": [
    "song = 'Karma - Alicia Keys'\n",
    "\n",
    "model.get_similar_items([song])"
   ]
  }
 ],
 "metadata": {
  "kernelspec": {
   "display_name": "Python 3",
   "language": "python",
   "name": "python3"
  },
  "language_info": {
   "codemirror_mode": {
    "name": "ipython",
    "version": 3
   },
   "file_extension": ".py",
   "mimetype": "text/x-python",
   "name": "python",
   "nbconvert_exporter": "python",
   "pygments_lexer": "ipython3",
   "version": "3.5.2"
  }
 },
 "nbformat": 4,
 "nbformat_minor": 0
}