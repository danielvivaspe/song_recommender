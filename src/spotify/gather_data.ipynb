{
 "cells": [
  {
   "cell_type": "code",
   "execution_count": 1,
   "metadata": {
    "collapsed": true
   },
   "outputs": [],
   "source": [
    "import spotipy\n",
    "from spotipy.oauth2 import SpotifyClientCredentials\n",
    "import pandas as pd"
   ]
  },
  {
   "cell_type": "code",
   "execution_count": 8,
   "outputs": [
    {
     "data": {
      "text/plain": "               endTime       artistName  \\\n0     2021-02-07 15:31         Bizarrap   \n1     2021-02-11 02:20    Joel Fletcher   \n2     2021-02-14 01:33         Bizarrap   \n3     2021-02-14 01:33         Bizarrap   \n4     2021-02-14 01:44  Black Eyed Peas   \n...                ...              ...   \n8477  2022-02-10 20:53    John Dahlbäck   \n8478  2022-02-10 20:53    John Dahlbäck   \n8479  2022-02-10 20:53    John Dahlbäck   \n8480  2022-02-10 20:57    John Dahlbäck   \n8481  2022-02-10 20:59    John Dahlbäck   \n\n                                       trackName  msPlayed artist_uri  \\\n0     Nathy Peluso: Bzrp Music Sessions, Vol. 36    144247              \n1                                         Flacko     11180              \n2     Nathy Peluso: Bzrp Music Sessions, Vol. 36    171215              \n3      Seven Kayne: Bzrp Music Sessions, Vol. 33      1004              \n4                            Dont Stop The Party    367413              \n...                                          ...       ...        ...   \n8477                                     Shivers     16360              \n8478                                    Aint You       350              \n8479                                Count To Ten      2390              \n8480                                    Aint You    220125              \n8481                                    Atlantis    165234              \n\n     album_uri track_uri  \n0                         \n1                         \n2                         \n3                         \n4                         \n...        ...       ...  \n8477                      \n8478                      \n8479                      \n8480                      \n8481                      \n\n[8482 rows x 7 columns]",
      "text/html": "<div>\n<style scoped>\n    .dataframe tbody tr th:only-of-type {\n        vertical-align: middle;\n    }\n\n    .dataframe tbody tr th {\n        vertical-align: top;\n    }\n\n    .dataframe thead th {\n        text-align: right;\n    }\n</style>\n<table border=\"1\" class=\"dataframe\">\n  <thead>\n    <tr style=\"text-align: right;\">\n      <th></th>\n      <th>endTime</th>\n      <th>artistName</th>\n      <th>trackName</th>\n      <th>msPlayed</th>\n      <th>artist_uri</th>\n      <th>album_uri</th>\n      <th>track_uri</th>\n    </tr>\n  </thead>\n  <tbody>\n    <tr>\n      <th>0</th>\n      <td>2021-02-07 15:31</td>\n      <td>Bizarrap</td>\n      <td>Nathy Peluso: Bzrp Music Sessions, Vol. 36</td>\n      <td>144247</td>\n      <td></td>\n      <td></td>\n      <td></td>\n    </tr>\n    <tr>\n      <th>1</th>\n      <td>2021-02-11 02:20</td>\n      <td>Joel Fletcher</td>\n      <td>Flacko</td>\n      <td>11180</td>\n      <td></td>\n      <td></td>\n      <td></td>\n    </tr>\n    <tr>\n      <th>2</th>\n      <td>2021-02-14 01:33</td>\n      <td>Bizarrap</td>\n      <td>Nathy Peluso: Bzrp Music Sessions, Vol. 36</td>\n      <td>171215</td>\n      <td></td>\n      <td></td>\n      <td></td>\n    </tr>\n    <tr>\n      <th>3</th>\n      <td>2021-02-14 01:33</td>\n      <td>Bizarrap</td>\n      <td>Seven Kayne: Bzrp Music Sessions, Vol. 33</td>\n      <td>1004</td>\n      <td></td>\n      <td></td>\n      <td></td>\n    </tr>\n    <tr>\n      <th>4</th>\n      <td>2021-02-14 01:44</td>\n      <td>Black Eyed Peas</td>\n      <td>Dont Stop The Party</td>\n      <td>367413</td>\n      <td></td>\n      <td></td>\n      <td></td>\n    </tr>\n    <tr>\n      <th>...</th>\n      <td>...</td>\n      <td>...</td>\n      <td>...</td>\n      <td>...</td>\n      <td>...</td>\n      <td>...</td>\n      <td>...</td>\n    </tr>\n    <tr>\n      <th>8477</th>\n      <td>2022-02-10 20:53</td>\n      <td>John Dahlbäck</td>\n      <td>Shivers</td>\n      <td>16360</td>\n      <td></td>\n      <td></td>\n      <td></td>\n    </tr>\n    <tr>\n      <th>8478</th>\n      <td>2022-02-10 20:53</td>\n      <td>John Dahlbäck</td>\n      <td>Aint You</td>\n      <td>350</td>\n      <td></td>\n      <td></td>\n      <td></td>\n    </tr>\n    <tr>\n      <th>8479</th>\n      <td>2022-02-10 20:53</td>\n      <td>John Dahlbäck</td>\n      <td>Count To Ten</td>\n      <td>2390</td>\n      <td></td>\n      <td></td>\n      <td></td>\n    </tr>\n    <tr>\n      <th>8480</th>\n      <td>2022-02-10 20:57</td>\n      <td>John Dahlbäck</td>\n      <td>Aint You</td>\n      <td>220125</td>\n      <td></td>\n      <td></td>\n      <td></td>\n    </tr>\n    <tr>\n      <th>8481</th>\n      <td>2022-02-10 20:59</td>\n      <td>John Dahlbäck</td>\n      <td>Atlantis</td>\n      <td>165234</td>\n      <td></td>\n      <td></td>\n      <td></td>\n    </tr>\n  </tbody>\n</table>\n<p>8482 rows × 7 columns</p>\n</div>"
     },
     "execution_count": 8,
     "metadata": {},
     "output_type": "execute_result"
    }
   ],
   "source": [
    "history = pd.read_json('1-StreamingHistory.json')\n",
    "\n",
    "history['trackName'] = [\n",
    "    x.replace('\\'', '')\n",
    "        .replace('’', '')\n",
    "        .replace(' - Radio Mix', '')\n",
    "        .replace(' - Radio Edit', '')\n",
    "        .replace(' [Radio Edit]', '')\n",
    "        .replace(' - ', ' ')\n",
    "        .replace(' & ', ' ')\n",
    "        .replace(' Original mix', '')\n",
    "    for x in history['trackName']]\n",
    "history['artistName'] = [x.replace('\\'', '') for x in history['artistName']]\n",
    "\n",
    "history['artist_uri'] = \"\"\n",
    "history['album_uri'] = \"\"\n",
    "history['track_uri'] = \"\"\n",
    "\n",
    "history"
   ],
   "metadata": {
    "collapsed": false,
    "pycharm": {
     "name": "#%%\n"
    }
   }
  },
  {
   "cell_type": "code",
   "execution_count": 9,
   "outputs": [],
   "source": [
    "#Authentication - without user\n",
    "cid = 'fd8f6370d5f241e581a546cfd19525a4'\n",
    "secret = 'd05f3d021bd64e858d0e1f70dc160621'\n",
    "client_credentials_manager = SpotifyClientCredentials(client_id=cid, client_secret=secret)\n",
    "sp = spotipy.Spotify(client_credentials_manager = client_credentials_manager)"
   ],
   "metadata": {
    "collapsed": false,
    "pycharm": {
     "name": "#%%\n"
    }
   }
  },
  {
   "cell_type": "code",
   "execution_count": 10,
   "outputs": [
    {
     "name": "stdout",
     "output_type": "stream",
     "text": [
      "Item 1 from 8482: Joel Fletcher - Flacko -- spotify:track:5NvU6DpB4ug8zLXbU7sncy\n",
      "Item 2 from 8482: Bizarrap - Nathy Peluso: Bzrp Music Sessions, Vol. 36 -- spotify:track:78SeXVRJ7KCqVmOwTiFjnI\n",
      "Item 3 from 8482: Bizarrap - Seven Kayne: Bzrp Music Sessions, Vol. 33 -- spotify:track:5PmK5pRspJq5ki30zgyv7G\n",
      "EXCEPTION Dont Stop The Party {'tracks': {'href': 'https://api.spotify.com/v1/search?query=artist%3ABlack+Eyed+Peas+track%3ADont+Stop+The+Party&type=track&offset=0&limit=10', 'items': [], 'limit': 10, 'next': None, 'offset': 0, 'previous': None, 'total': 0}}\n",
      "Item 5 from 8482: EDX - Want You (Then I Found You) (feat. BB Diamond) Vocal Edit -- spotify:track:5aiB1OZ3TyDvOgeEypvFec\n",
      "Item 6 from 8482: EDX - Revered -- spotify:track:0nmYqUa3FiBKRBYfCws4OV\n",
      "Item 7 from 8482: EDX - Ubuntu -- spotify:track:18zapdywTsbPPqI7Tx5H7Y\n",
      "Item 8 from 8482: Darude - Sandstorm -- spotify:track:3dxDj8pDPlIHCIrUPXuCeG\n",
      "Item 9 from 8482: Darude - Sandstorm -- spotify:track:3dxDj8pDPlIHCIrUPXuCeG\n",
      "Item 10 from 8482: Eric Prydz - Pjanoo -- spotify:track:0F2BxpbxH8Yc3pLub48hrb\n",
      "Item 11 from 8482: Eric Prydz - Pjanoo -- spotify:track:0F2BxpbxH8Yc3pLub48hrb\n",
      "Item 12 from 8482: Tiësto - Adagio For Strings -- spotify:track:0yMoJXVP6hFLV71DRVxRTk\n",
      "Item 13 from 8482: Sash! - Encore Une Fois Future Breeze Edit -- spotify:track:3UPBOL5UtCZmJRwioMkfLD\n",
      "Item 14 from 8482: Faithless - Insomnia 2.0 (Avicii Remix) -- spotify:track:0CjYhruIIhXaXjUBXvqs24\n",
      "Item 15 from 8482: Eric Prydz - Call on Me -- spotify:track:1xNcBAoUw8Hz6LqK2jt4Ff\n",
      "Item 16 from 8482: Gigi DAgostino - Bla Bla Bla -- spotify:track:04zrPERrSO4CfyargthKJ9\n",
      "Item 17 from 8482: Darude - Sandstorm -- spotify:track:3dxDj8pDPlIHCIrUPXuCeG\n",
      "Item 18 from 8482: Bizarrap - Nathy Peluso: Bzrp Music Sessions, Vol. 36 -- spotify:track:78SeXVRJ7KCqVmOwTiFjnI\n",
      "Item 19 from 8482: Bizarrap - Nathy Peluso: Bzrp Music Sessions, Vol. 36 -- spotify:track:78SeXVRJ7KCqVmOwTiFjnI\n",
      "Item 20 from 8482: Bizarrap - Nathy Peluso: Bzrp Music Sessions, Vol. 36 -- spotify:track:78SeXVRJ7KCqVmOwTiFjnI\n",
      "Item 21 from 8482: EDX - The Time Is Now -- spotify:track:2oTa5zhlsr8luF8JNBeHQQ\n",
      "Item 22 from 8482: EDX - This Is Your Life -- spotify:track:54Y2keSd23TaXNagpWuEz9\n",
      "Item 23 from 8482: EDX - Omertà -- spotify:track:25KTbUfF7xRAfImLslU0af\n",
      "Item 24 from 8482: EDX - Omertà -- spotify:track:25KTbUfF7xRAfImLslU0af\n",
      "Item 25 from 8482: Timbaland - The Way I Are -- spotify:track:2bLqfJjuC5syrsgDsZfGmn\n",
      "Item 26 from 8482: Desireless - Voyage voyage -- spotify:track:2d8D7uk3tbAThjRkdfrx9c\n",
      "Item 27 from 8482: In-Grid - Tu es foutu -- spotify:track:5TX4QkyawyBAjNjwF2qBzG\n",
      "Item 28 from 8482: Kate Ryan - Voyage voyage -- spotify:track:4HsvdyB7HDERx46V8Q8dV8\n",
      "Item 29 from 8482: Alizée - Moi... Lolita -- spotify:track:6e0LjNPkRqxIAlmmdjWSV8\n",
      "Item 30 from 8482: Loreen - Euphoria -- spotify:track:2knr7ikPt4l7bk92qS4ZXW\n",
      "Item 31 from 8482: Kate Ryan - Désenchantée -- spotify:track:6SNcx71T1M7CkRCbswPtwj\n",
      "Item 32 from 8482: R.I.O. - Shine On -- spotify:track:7yIGRf80h3Kwi4GfwJUiQl\n",
      "Item 33 from 8482: Pakito - Living on Video -- spotify:track:7xd4W5j31YBgutLf2FlMuI\n",
      "Item 34 from 8482: Sonique - Sky -- spotify:track:7zlkYAQdYPIwagUwO7Dyah\n",
      "Item 35 from 8482: September - Satellites -- spotify:track:7iZuR1XsziH1CN5xYp4H18\n",
      "Item 36 from 8482: Narcotic Thrust - I Like It -- spotify:track:2ImBZyxZFNhMnPks8GyIsY\n",
      "Item 37 from 8482: September - Satellites -- spotify:track:7iZuR1XsziH1CN5xYp4H18\n",
      "Item 38 from 8482: Kate Ryan - Ella Elle L A Radio Version -- spotify:track:1bV3jw1mlVbPkzc9bCGCsl\n"
     ]
    },
    {
     "ename": "KeyboardInterrupt",
     "evalue": "",
     "output_type": "error",
     "traceback": [
      "\u001B[1;31m---------------------------------------------------------------------------\u001B[0m",
      "\u001B[1;31mKeyboardInterrupt\u001B[0m                         Traceback (most recent call last)",
      "\u001B[1;32m~\\AppData\\Local\\Temp\\ipykernel_24380\\2580369441.py\u001B[0m in \u001B[0;36m<module>\u001B[1;34m\u001B[0m\n\u001B[0;32m      6\u001B[0m             \u001B[0martist\u001B[0m \u001B[1;33m=\u001B[0m \u001B[0mhistory\u001B[0m\u001B[1;33m.\u001B[0m\u001B[0mloc\u001B[0m\u001B[1;33m[\u001B[0m\u001B[0mi\u001B[0m\u001B[1;33m]\u001B[0m\u001B[1;33m[\u001B[0m\u001B[1;34m'artistName'\u001B[0m\u001B[1;33m]\u001B[0m\u001B[1;33m\u001B[0m\u001B[0m\n\u001B[0;32m      7\u001B[0m             \u001B[0mtrack\u001B[0m \u001B[1;33m=\u001B[0m \u001B[0mhistory\u001B[0m\u001B[1;33m.\u001B[0m\u001B[0mloc\u001B[0m\u001B[1;33m[\u001B[0m\u001B[0mi\u001B[0m\u001B[1;33m]\u001B[0m\u001B[1;33m[\u001B[0m\u001B[1;34m'trackName'\u001B[0m\u001B[1;33m]\u001B[0m\u001B[1;33m\u001B[0m\u001B[0m\n\u001B[1;32m----> 8\u001B[1;33m             \u001B[0msearch\u001B[0m \u001B[1;33m=\u001B[0m \u001B[0msp\u001B[0m\u001B[1;33m.\u001B[0m\u001B[0msearch\u001B[0m\u001B[1;33m(\u001B[0m\u001B[0mq\u001B[0m\u001B[1;33m=\u001B[0m\u001B[1;34m'artist:'\u001B[0m \u001B[1;33m+\u001B[0m \u001B[0martist\u001B[0m \u001B[1;33m+\u001B[0m \u001B[1;34m' track:'\u001B[0m \u001B[1;33m+\u001B[0m \u001B[0mtrack\u001B[0m\u001B[1;33m,\u001B[0m \u001B[0mtype\u001B[0m\u001B[1;33m=\u001B[0m\u001B[1;34m'track'\u001B[0m\u001B[1;33m)\u001B[0m\u001B[1;33m\u001B[0m\u001B[0m\n\u001B[0m\u001B[0;32m      9\u001B[0m \u001B[1;33m\u001B[0m\u001B[0m\n\u001B[0;32m     10\u001B[0m             \u001B[1;31m#history.loc[i-1]['artist_uri'] = search['tracks']['items'][0]['artists'][0]\u001B[0m\u001B[1;33m\u001B[0m\u001B[1;33m\u001B[0m\u001B[0m\n",
      "\u001B[1;32mc:\\users\\danie\\appdata\\local\\programs\\python\\python37\\lib\\site-packages\\spotipy\\client.py\u001B[0m in \u001B[0;36msearch\u001B[1;34m(self, q, limit, offset, type, market)\u001B[0m\n\u001B[0;32m    552\u001B[0m         \"\"\"\n\u001B[0;32m    553\u001B[0m         return self._get(\n\u001B[1;32m--> 554\u001B[1;33m             \u001B[1;34m\"search\"\u001B[0m\u001B[1;33m,\u001B[0m \u001B[0mq\u001B[0m\u001B[1;33m=\u001B[0m\u001B[0mq\u001B[0m\u001B[1;33m,\u001B[0m \u001B[0mlimit\u001B[0m\u001B[1;33m=\u001B[0m\u001B[0mlimit\u001B[0m\u001B[1;33m,\u001B[0m \u001B[0moffset\u001B[0m\u001B[1;33m=\u001B[0m\u001B[0moffset\u001B[0m\u001B[1;33m,\u001B[0m \u001B[0mtype\u001B[0m\u001B[1;33m=\u001B[0m\u001B[0mtype\u001B[0m\u001B[1;33m,\u001B[0m \u001B[0mmarket\u001B[0m\u001B[1;33m=\u001B[0m\u001B[0mmarket\u001B[0m\u001B[1;33m\u001B[0m\u001B[0m\n\u001B[0m\u001B[0;32m    555\u001B[0m         )\n\u001B[0;32m    556\u001B[0m \u001B[1;33m\u001B[0m\u001B[0m\n",
      "\u001B[1;32mc:\\users\\danie\\appdata\\local\\programs\\python\\python37\\lib\\site-packages\\spotipy\\client.py\u001B[0m in \u001B[0;36m_get\u001B[1;34m(self, url, args, payload, **kwargs)\u001B[0m\n\u001B[0;32m    295\u001B[0m             \u001B[0mkwargs\u001B[0m\u001B[1;33m.\u001B[0m\u001B[0mupdate\u001B[0m\u001B[1;33m(\u001B[0m\u001B[0margs\u001B[0m\u001B[1;33m)\u001B[0m\u001B[1;33m\u001B[0m\u001B[0m\n\u001B[0;32m    296\u001B[0m \u001B[1;33m\u001B[0m\u001B[0m\n\u001B[1;32m--> 297\u001B[1;33m         \u001B[1;32mreturn\u001B[0m \u001B[0mself\u001B[0m\u001B[1;33m.\u001B[0m\u001B[0m_internal_call\u001B[0m\u001B[1;33m(\u001B[0m\u001B[1;34m\"GET\"\u001B[0m\u001B[1;33m,\u001B[0m \u001B[0murl\u001B[0m\u001B[1;33m,\u001B[0m \u001B[0mpayload\u001B[0m\u001B[1;33m,\u001B[0m \u001B[0mkwargs\u001B[0m\u001B[1;33m)\u001B[0m\u001B[1;33m\u001B[0m\u001B[0m\n\u001B[0m\u001B[0;32m    298\u001B[0m \u001B[1;33m\u001B[0m\u001B[0m\n\u001B[0;32m    299\u001B[0m     \u001B[1;32mdef\u001B[0m \u001B[0m_post\u001B[0m\u001B[1;33m(\u001B[0m\u001B[0mself\u001B[0m\u001B[1;33m,\u001B[0m \u001B[0murl\u001B[0m\u001B[1;33m,\u001B[0m \u001B[0margs\u001B[0m\u001B[1;33m=\u001B[0m\u001B[1;32mNone\u001B[0m\u001B[1;33m,\u001B[0m \u001B[0mpayload\u001B[0m\u001B[1;33m=\u001B[0m\u001B[1;32mNone\u001B[0m\u001B[1;33m,\u001B[0m \u001B[1;33m**\u001B[0m\u001B[0mkwargs\u001B[0m\u001B[1;33m)\u001B[0m\u001B[1;33m:\u001B[0m\u001B[1;33m\u001B[0m\u001B[0m\n",
      "\u001B[1;32mc:\\users\\danie\\appdata\\local\\programs\\python\\python37\\lib\\site-packages\\spotipy\\client.py\u001B[0m in \u001B[0;36m_internal_call\u001B[1;34m(self, method, url, payload, params)\u001B[0m\n\u001B[0;32m    240\u001B[0m             response = self._session.request(\n\u001B[0;32m    241\u001B[0m                 \u001B[0mmethod\u001B[0m\u001B[1;33m,\u001B[0m \u001B[0murl\u001B[0m\u001B[1;33m,\u001B[0m \u001B[0mheaders\u001B[0m\u001B[1;33m=\u001B[0m\u001B[0mheaders\u001B[0m\u001B[1;33m,\u001B[0m \u001B[0mproxies\u001B[0m\u001B[1;33m=\u001B[0m\u001B[0mself\u001B[0m\u001B[1;33m.\u001B[0m\u001B[0mproxies\u001B[0m\u001B[1;33m,\u001B[0m\u001B[1;33m\u001B[0m\u001B[0m\n\u001B[1;32m--> 242\u001B[1;33m                 \u001B[0mtimeout\u001B[0m\u001B[1;33m=\u001B[0m\u001B[0mself\u001B[0m\u001B[1;33m.\u001B[0m\u001B[0mrequests_timeout\u001B[0m\u001B[1;33m,\u001B[0m \u001B[1;33m**\u001B[0m\u001B[0margs\u001B[0m\u001B[1;33m\u001B[0m\u001B[0m\n\u001B[0m\u001B[0;32m    243\u001B[0m             )\n\u001B[0;32m    244\u001B[0m \u001B[1;33m\u001B[0m\u001B[0m\n",
      "\u001B[1;32mc:\\users\\danie\\appdata\\local\\programs\\python\\python37\\lib\\site-packages\\requests\\sessions.py\u001B[0m in \u001B[0;36mrequest\u001B[1;34m(self, method, url, params, data, headers, cookies, files, auth, timeout, allow_redirects, proxies, hooks, stream, verify, cert, json)\u001B[0m\n\u001B[0;32m    527\u001B[0m         }\n\u001B[0;32m    528\u001B[0m         \u001B[0msend_kwargs\u001B[0m\u001B[1;33m.\u001B[0m\u001B[0mupdate\u001B[0m\u001B[1;33m(\u001B[0m\u001B[0msettings\u001B[0m\u001B[1;33m)\u001B[0m\u001B[1;33m\u001B[0m\u001B[0m\n\u001B[1;32m--> 529\u001B[1;33m         \u001B[0mresp\u001B[0m \u001B[1;33m=\u001B[0m \u001B[0mself\u001B[0m\u001B[1;33m.\u001B[0m\u001B[0msend\u001B[0m\u001B[1;33m(\u001B[0m\u001B[0mprep\u001B[0m\u001B[1;33m,\u001B[0m \u001B[1;33m**\u001B[0m\u001B[0msend_kwargs\u001B[0m\u001B[1;33m)\u001B[0m\u001B[1;33m\u001B[0m\u001B[0m\n\u001B[0m\u001B[0;32m    530\u001B[0m \u001B[1;33m\u001B[0m\u001B[0m\n\u001B[0;32m    531\u001B[0m         \u001B[1;32mreturn\u001B[0m \u001B[0mresp\u001B[0m\u001B[1;33m\u001B[0m\u001B[0m\n",
      "\u001B[1;32mc:\\users\\danie\\appdata\\local\\programs\\python\\python37\\lib\\site-packages\\requests\\sessions.py\u001B[0m in \u001B[0;36msend\u001B[1;34m(self, request, **kwargs)\u001B[0m\n\u001B[0;32m    643\u001B[0m \u001B[1;33m\u001B[0m\u001B[0m\n\u001B[0;32m    644\u001B[0m         \u001B[1;31m# Send the request\u001B[0m\u001B[1;33m\u001B[0m\u001B[1;33m\u001B[0m\u001B[0m\n\u001B[1;32m--> 645\u001B[1;33m         \u001B[0mr\u001B[0m \u001B[1;33m=\u001B[0m \u001B[0madapter\u001B[0m\u001B[1;33m.\u001B[0m\u001B[0msend\u001B[0m\u001B[1;33m(\u001B[0m\u001B[0mrequest\u001B[0m\u001B[1;33m,\u001B[0m \u001B[1;33m**\u001B[0m\u001B[0mkwargs\u001B[0m\u001B[1;33m)\u001B[0m\u001B[1;33m\u001B[0m\u001B[0m\n\u001B[0m\u001B[0;32m    646\u001B[0m \u001B[1;33m\u001B[0m\u001B[0m\n\u001B[0;32m    647\u001B[0m         \u001B[1;31m# Total elapsed time of the request (approximately)\u001B[0m\u001B[1;33m\u001B[0m\u001B[1;33m\u001B[0m\u001B[0m\n",
      "\u001B[1;32mc:\\users\\danie\\appdata\\local\\programs\\python\\python37\\lib\\site-packages\\requests\\adapters.py\u001B[0m in \u001B[0;36msend\u001B[1;34m(self, request, stream, timeout, verify, cert, proxies)\u001B[0m\n\u001B[0;32m    448\u001B[0m                     \u001B[0mdecode_content\u001B[0m\u001B[1;33m=\u001B[0m\u001B[1;32mFalse\u001B[0m\u001B[1;33m,\u001B[0m\u001B[1;33m\u001B[0m\u001B[0m\n\u001B[0;32m    449\u001B[0m                     \u001B[0mretries\u001B[0m\u001B[1;33m=\u001B[0m\u001B[0mself\u001B[0m\u001B[1;33m.\u001B[0m\u001B[0mmax_retries\u001B[0m\u001B[1;33m,\u001B[0m\u001B[1;33m\u001B[0m\u001B[0m\n\u001B[1;32m--> 450\u001B[1;33m                     \u001B[0mtimeout\u001B[0m\u001B[1;33m=\u001B[0m\u001B[0mtimeout\u001B[0m\u001B[1;33m\u001B[0m\u001B[0m\n\u001B[0m\u001B[0;32m    451\u001B[0m                 )\n\u001B[0;32m    452\u001B[0m \u001B[1;33m\u001B[0m\u001B[0m\n",
      "\u001B[1;32mc:\\users\\danie\\appdata\\local\\programs\\python\\python37\\lib\\site-packages\\urllib3\\connectionpool.py\u001B[0m in \u001B[0;36murlopen\u001B[1;34m(self, method, url, body, headers, retries, redirect, assert_same_host, timeout, pool_timeout, release_conn, chunked, body_pos, **response_kw)\u001B[0m\n\u001B[0;32m    708\u001B[0m                 \u001B[0mbody\u001B[0m\u001B[1;33m=\u001B[0m\u001B[0mbody\u001B[0m\u001B[1;33m,\u001B[0m\u001B[1;33m\u001B[0m\u001B[0m\n\u001B[0;32m    709\u001B[0m                 \u001B[0mheaders\u001B[0m\u001B[1;33m=\u001B[0m\u001B[0mheaders\u001B[0m\u001B[1;33m,\u001B[0m\u001B[1;33m\u001B[0m\u001B[0m\n\u001B[1;32m--> 710\u001B[1;33m                 \u001B[0mchunked\u001B[0m\u001B[1;33m=\u001B[0m\u001B[0mchunked\u001B[0m\u001B[1;33m,\u001B[0m\u001B[1;33m\u001B[0m\u001B[0m\n\u001B[0m\u001B[0;32m    711\u001B[0m             )\n\u001B[0;32m    712\u001B[0m \u001B[1;33m\u001B[0m\u001B[0m\n",
      "\u001B[1;32mc:\\users\\danie\\appdata\\local\\programs\\python\\python37\\lib\\site-packages\\urllib3\\connectionpool.py\u001B[0m in \u001B[0;36m_make_request\u001B[1;34m(self, conn, method, url, timeout, chunked, **httplib_request_kw)\u001B[0m\n\u001B[0;32m    447\u001B[0m                     \u001B[1;31m# Python 3 (including for exceptions like SystemExit).\u001B[0m\u001B[1;33m\u001B[0m\u001B[1;33m\u001B[0m\u001B[0m\n\u001B[0;32m    448\u001B[0m                     \u001B[1;31m# Otherwise it looks like a bug in the code.\u001B[0m\u001B[1;33m\u001B[0m\u001B[1;33m\u001B[0m\u001B[0m\n\u001B[1;32m--> 449\u001B[1;33m                     \u001B[0msix\u001B[0m\u001B[1;33m.\u001B[0m\u001B[0mraise_from\u001B[0m\u001B[1;33m(\u001B[0m\u001B[0me\u001B[0m\u001B[1;33m,\u001B[0m \u001B[1;32mNone\u001B[0m\u001B[1;33m)\u001B[0m\u001B[1;33m\u001B[0m\u001B[0m\n\u001B[0m\u001B[0;32m    450\u001B[0m         \u001B[1;32mexcept\u001B[0m \u001B[1;33m(\u001B[0m\u001B[0mSocketTimeout\u001B[0m\u001B[1;33m,\u001B[0m \u001B[0mBaseSSLError\u001B[0m\u001B[1;33m,\u001B[0m \u001B[0mSocketError\u001B[0m\u001B[1;33m)\u001B[0m \u001B[1;32mas\u001B[0m \u001B[0me\u001B[0m\u001B[1;33m:\u001B[0m\u001B[1;33m\u001B[0m\u001B[0m\n\u001B[0;32m    451\u001B[0m             \u001B[0mself\u001B[0m\u001B[1;33m.\u001B[0m\u001B[0m_raise_timeout\u001B[0m\u001B[1;33m(\u001B[0m\u001B[0merr\u001B[0m\u001B[1;33m=\u001B[0m\u001B[0me\u001B[0m\u001B[1;33m,\u001B[0m \u001B[0murl\u001B[0m\u001B[1;33m=\u001B[0m\u001B[0murl\u001B[0m\u001B[1;33m,\u001B[0m \u001B[0mtimeout_value\u001B[0m\u001B[1;33m=\u001B[0m\u001B[0mread_timeout\u001B[0m\u001B[1;33m)\u001B[0m\u001B[1;33m\u001B[0m\u001B[0m\n",
      "\u001B[1;32mc:\\users\\danie\\appdata\\local\\programs\\python\\python37\\lib\\site-packages\\urllib3\\packages\\six.py\u001B[0m in \u001B[0;36mraise_from\u001B[1;34m(value, from_value)\u001B[0m\n",
      "\u001B[1;32mc:\\users\\danie\\appdata\\local\\programs\\python\\python37\\lib\\site-packages\\urllib3\\connectionpool.py\u001B[0m in \u001B[0;36m_make_request\u001B[1;34m(self, conn, method, url, timeout, chunked, **httplib_request_kw)\u001B[0m\n\u001B[0;32m    442\u001B[0m                 \u001B[1;31m# Python 3\u001B[0m\u001B[1;33m\u001B[0m\u001B[1;33m\u001B[0m\u001B[0m\n\u001B[0;32m    443\u001B[0m                 \u001B[1;32mtry\u001B[0m\u001B[1;33m:\u001B[0m\u001B[1;33m\u001B[0m\u001B[0m\n\u001B[1;32m--> 444\u001B[1;33m                     \u001B[0mhttplib_response\u001B[0m \u001B[1;33m=\u001B[0m \u001B[0mconn\u001B[0m\u001B[1;33m.\u001B[0m\u001B[0mgetresponse\u001B[0m\u001B[1;33m(\u001B[0m\u001B[1;33m)\u001B[0m\u001B[1;33m\u001B[0m\u001B[0m\n\u001B[0m\u001B[0;32m    445\u001B[0m                 \u001B[1;32mexcept\u001B[0m \u001B[0mBaseException\u001B[0m \u001B[1;32mas\u001B[0m \u001B[0me\u001B[0m\u001B[1;33m:\u001B[0m\u001B[1;33m\u001B[0m\u001B[0m\n\u001B[0;32m    446\u001B[0m                     \u001B[1;31m# Remove the TypeError from the exception chain in\u001B[0m\u001B[1;33m\u001B[0m\u001B[1;33m\u001B[0m\u001B[0m\n",
      "\u001B[1;32mc:\\users\\danie\\appdata\\local\\programs\\python\\python37\\lib\\http\\client.py\u001B[0m in \u001B[0;36mgetresponse\u001B[1;34m(self)\u001B[0m\n\u001B[0;32m   1319\u001B[0m         \u001B[1;32mtry\u001B[0m\u001B[1;33m:\u001B[0m\u001B[1;33m\u001B[0m\u001B[0m\n\u001B[0;32m   1320\u001B[0m             \u001B[1;32mtry\u001B[0m\u001B[1;33m:\u001B[0m\u001B[1;33m\u001B[0m\u001B[0m\n\u001B[1;32m-> 1321\u001B[1;33m                 \u001B[0mresponse\u001B[0m\u001B[1;33m.\u001B[0m\u001B[0mbegin\u001B[0m\u001B[1;33m(\u001B[0m\u001B[1;33m)\u001B[0m\u001B[1;33m\u001B[0m\u001B[0m\n\u001B[0m\u001B[0;32m   1322\u001B[0m             \u001B[1;32mexcept\u001B[0m \u001B[0mConnectionError\u001B[0m\u001B[1;33m:\u001B[0m\u001B[1;33m\u001B[0m\u001B[0m\n\u001B[0;32m   1323\u001B[0m                 \u001B[0mself\u001B[0m\u001B[1;33m.\u001B[0m\u001B[0mclose\u001B[0m\u001B[1;33m(\u001B[0m\u001B[1;33m)\u001B[0m\u001B[1;33m\u001B[0m\u001B[0m\n",
      "\u001B[1;32mc:\\users\\danie\\appdata\\local\\programs\\python\\python37\\lib\\http\\client.py\u001B[0m in \u001B[0;36mbegin\u001B[1;34m(self)\u001B[0m\n\u001B[0;32m    294\u001B[0m         \u001B[1;31m# read until we get a non-100 response\u001B[0m\u001B[1;33m\u001B[0m\u001B[1;33m\u001B[0m\u001B[0m\n\u001B[0;32m    295\u001B[0m         \u001B[1;32mwhile\u001B[0m \u001B[1;32mTrue\u001B[0m\u001B[1;33m:\u001B[0m\u001B[1;33m\u001B[0m\u001B[0m\n\u001B[1;32m--> 296\u001B[1;33m             \u001B[0mversion\u001B[0m\u001B[1;33m,\u001B[0m \u001B[0mstatus\u001B[0m\u001B[1;33m,\u001B[0m \u001B[0mreason\u001B[0m \u001B[1;33m=\u001B[0m \u001B[0mself\u001B[0m\u001B[1;33m.\u001B[0m\u001B[0m_read_status\u001B[0m\u001B[1;33m(\u001B[0m\u001B[1;33m)\u001B[0m\u001B[1;33m\u001B[0m\u001B[0m\n\u001B[0m\u001B[0;32m    297\u001B[0m             \u001B[1;32mif\u001B[0m \u001B[0mstatus\u001B[0m \u001B[1;33m!=\u001B[0m \u001B[0mCONTINUE\u001B[0m\u001B[1;33m:\u001B[0m\u001B[1;33m\u001B[0m\u001B[0m\n\u001B[0;32m    298\u001B[0m                 \u001B[1;32mbreak\u001B[0m\u001B[1;33m\u001B[0m\u001B[0m\n",
      "\u001B[1;32mc:\\users\\danie\\appdata\\local\\programs\\python\\python37\\lib\\http\\client.py\u001B[0m in \u001B[0;36m_read_status\u001B[1;34m(self)\u001B[0m\n\u001B[0;32m    255\u001B[0m \u001B[1;33m\u001B[0m\u001B[0m\n\u001B[0;32m    256\u001B[0m     \u001B[1;32mdef\u001B[0m \u001B[0m_read_status\u001B[0m\u001B[1;33m(\u001B[0m\u001B[0mself\u001B[0m\u001B[1;33m)\u001B[0m\u001B[1;33m:\u001B[0m\u001B[1;33m\u001B[0m\u001B[0m\n\u001B[1;32m--> 257\u001B[1;33m         \u001B[0mline\u001B[0m \u001B[1;33m=\u001B[0m \u001B[0mstr\u001B[0m\u001B[1;33m(\u001B[0m\u001B[0mself\u001B[0m\u001B[1;33m.\u001B[0m\u001B[0mfp\u001B[0m\u001B[1;33m.\u001B[0m\u001B[0mreadline\u001B[0m\u001B[1;33m(\u001B[0m\u001B[0m_MAXLINE\u001B[0m \u001B[1;33m+\u001B[0m \u001B[1;36m1\u001B[0m\u001B[1;33m)\u001B[0m\u001B[1;33m,\u001B[0m \u001B[1;34m\"iso-8859-1\"\u001B[0m\u001B[1;33m)\u001B[0m\u001B[1;33m\u001B[0m\u001B[0m\n\u001B[0m\u001B[0;32m    258\u001B[0m         \u001B[1;32mif\u001B[0m \u001B[0mlen\u001B[0m\u001B[1;33m(\u001B[0m\u001B[0mline\u001B[0m\u001B[1;33m)\u001B[0m \u001B[1;33m>\u001B[0m \u001B[0m_MAXLINE\u001B[0m\u001B[1;33m:\u001B[0m\u001B[1;33m\u001B[0m\u001B[0m\n\u001B[0;32m    259\u001B[0m             \u001B[1;32mraise\u001B[0m \u001B[0mLineTooLong\u001B[0m\u001B[1;33m(\u001B[0m\u001B[1;34m\"status line\"\u001B[0m\u001B[1;33m)\u001B[0m\u001B[1;33m\u001B[0m\u001B[0m\n",
      "\u001B[1;32mc:\\users\\danie\\appdata\\local\\programs\\python\\python37\\lib\\socket.py\u001B[0m in \u001B[0;36mreadinto\u001B[1;34m(self, b)\u001B[0m\n\u001B[0;32m    587\u001B[0m         \u001B[1;32mwhile\u001B[0m \u001B[1;32mTrue\u001B[0m\u001B[1;33m:\u001B[0m\u001B[1;33m\u001B[0m\u001B[0m\n\u001B[0;32m    588\u001B[0m             \u001B[1;32mtry\u001B[0m\u001B[1;33m:\u001B[0m\u001B[1;33m\u001B[0m\u001B[0m\n\u001B[1;32m--> 589\u001B[1;33m                 \u001B[1;32mreturn\u001B[0m \u001B[0mself\u001B[0m\u001B[1;33m.\u001B[0m\u001B[0m_sock\u001B[0m\u001B[1;33m.\u001B[0m\u001B[0mrecv_into\u001B[0m\u001B[1;33m(\u001B[0m\u001B[0mb\u001B[0m\u001B[1;33m)\u001B[0m\u001B[1;33m\u001B[0m\u001B[0m\n\u001B[0m\u001B[0;32m    590\u001B[0m             \u001B[1;32mexcept\u001B[0m \u001B[0mtimeout\u001B[0m\u001B[1;33m:\u001B[0m\u001B[1;33m\u001B[0m\u001B[0m\n\u001B[0;32m    591\u001B[0m                 \u001B[0mself\u001B[0m\u001B[1;33m.\u001B[0m\u001B[0m_timeout_occurred\u001B[0m \u001B[1;33m=\u001B[0m \u001B[1;32mTrue\u001B[0m\u001B[1;33m\u001B[0m\u001B[0m\n",
      "\u001B[1;32mc:\\users\\danie\\appdata\\local\\programs\\python\\python37\\lib\\ssl.py\u001B[0m in \u001B[0;36mrecv_into\u001B[1;34m(self, buffer, nbytes, flags)\u001B[0m\n\u001B[0;32m   1047\u001B[0m                   \u001B[1;34m\"non-zero flags not allowed in calls to recv_into() on %s\"\u001B[0m \u001B[1;33m%\u001B[0m\u001B[1;33m\u001B[0m\u001B[0m\n\u001B[0;32m   1048\u001B[0m                   self.__class__)\n\u001B[1;32m-> 1049\u001B[1;33m             \u001B[1;32mreturn\u001B[0m \u001B[0mself\u001B[0m\u001B[1;33m.\u001B[0m\u001B[0mread\u001B[0m\u001B[1;33m(\u001B[0m\u001B[0mnbytes\u001B[0m\u001B[1;33m,\u001B[0m \u001B[0mbuffer\u001B[0m\u001B[1;33m)\u001B[0m\u001B[1;33m\u001B[0m\u001B[0m\n\u001B[0m\u001B[0;32m   1050\u001B[0m         \u001B[1;32melse\u001B[0m\u001B[1;33m:\u001B[0m\u001B[1;33m\u001B[0m\u001B[0m\n\u001B[0;32m   1051\u001B[0m             \u001B[1;32mreturn\u001B[0m \u001B[0msuper\u001B[0m\u001B[1;33m(\u001B[0m\u001B[1;33m)\u001B[0m\u001B[1;33m.\u001B[0m\u001B[0mrecv_into\u001B[0m\u001B[1;33m(\u001B[0m\u001B[0mbuffer\u001B[0m\u001B[1;33m,\u001B[0m \u001B[0mnbytes\u001B[0m\u001B[1;33m,\u001B[0m \u001B[0mflags\u001B[0m\u001B[1;33m)\u001B[0m\u001B[1;33m\u001B[0m\u001B[0m\n",
      "\u001B[1;32mc:\\users\\danie\\appdata\\local\\programs\\python\\python37\\lib\\ssl.py\u001B[0m in \u001B[0;36mread\u001B[1;34m(self, len, buffer)\u001B[0m\n\u001B[0;32m    906\u001B[0m         \u001B[1;32mtry\u001B[0m\u001B[1;33m:\u001B[0m\u001B[1;33m\u001B[0m\u001B[0m\n\u001B[0;32m    907\u001B[0m             \u001B[1;32mif\u001B[0m \u001B[0mbuffer\u001B[0m \u001B[1;32mis\u001B[0m \u001B[1;32mnot\u001B[0m \u001B[1;32mNone\u001B[0m\u001B[1;33m:\u001B[0m\u001B[1;33m\u001B[0m\u001B[0m\n\u001B[1;32m--> 908\u001B[1;33m                 \u001B[1;32mreturn\u001B[0m \u001B[0mself\u001B[0m\u001B[1;33m.\u001B[0m\u001B[0m_sslobj\u001B[0m\u001B[1;33m.\u001B[0m\u001B[0mread\u001B[0m\u001B[1;33m(\u001B[0m\u001B[0mlen\u001B[0m\u001B[1;33m,\u001B[0m \u001B[0mbuffer\u001B[0m\u001B[1;33m)\u001B[0m\u001B[1;33m\u001B[0m\u001B[0m\n\u001B[0m\u001B[0;32m    909\u001B[0m             \u001B[1;32melse\u001B[0m\u001B[1;33m:\u001B[0m\u001B[1;33m\u001B[0m\u001B[0m\n\u001B[0;32m    910\u001B[0m                 \u001B[1;32mreturn\u001B[0m \u001B[0mself\u001B[0m\u001B[1;33m.\u001B[0m\u001B[0m_sslobj\u001B[0m\u001B[1;33m.\u001B[0m\u001B[0mread\u001B[0m\u001B[1;33m(\u001B[0m\u001B[0mlen\u001B[0m\u001B[1;33m)\u001B[0m\u001B[1;33m\u001B[0m\u001B[0m\n",
      "\u001B[1;31mKeyboardInterrupt\u001B[0m: "
     ]
    }
   ],
   "source": [
    "items = history[history['track_uri'] == \"\"]\n",
    "items_size = history.shape[0]\n",
    "for i in range(1, len(history)+1):\n",
    "    try:\n",
    "        if(history.loc[i]['artist_uri'] == \"\" and history.loc[i]['album_uri'] == \"\" and history.loc[i]['track_uri'] == \"\"):\n",
    "            artist = history.loc[i]['artistName']\n",
    "            track = history.loc[i]['trackName']\n",
    "            search = sp.search(q='artist:' + artist + ' track:' + track, type='track')\n",
    "\n",
    "            #history.loc[i-1]['artist_uri'] = search['tracks']['items'][0]['artists'][0]\n",
    "            #history.loc[i-1]['album_uri'] = search['tracks']['items'][0]['album']['uri']\n",
    "            #history.loc[i-1]['track_uri'] = search['tracks']['items'][0]['uri']\n",
    "\n",
    "            history.at[i, 'artist_uri']   = search['tracks']['items'][0]['artists'][0]['uri']\n",
    "            history.at[i, 'album_uri']    = search['tracks']['items'][0]['album']['uri']\n",
    "            history.at[i, 'track_uri']    = search['tracks']['items'][0]['uri']\n",
    "\n",
    "            print('Item '+str(i)+' from '+str(items_size)+': '+artist+' - '+track+' -- '+search['tracks']['items'][0]['uri'])\n",
    "\n",
    "    except Exception as e:\n",
    "        print('EXCEPTION', track, search)\n",
    "\n",
    "\n"
   ],
   "metadata": {
    "collapsed": false,
    "pycharm": {
     "name": "#%%\n"
    }
   }
  },
  {
   "cell_type": "code",
   "execution_count": 39,
   "outputs": [
    {
     "data": {
      "text/plain": "               endTime       artistName  \\\n0     2021-02-07 15:31         Bizarrap   \n1     2021-02-11 02:20    Joel Fletcher   \n2     2021-02-14 01:33         Bizarrap   \n3     2021-02-14 01:33         Bizarrap   \n4     2021-02-14 01:44  Black Eyed Peas   \n...                ...              ...   \n8477  2022-02-10 20:53    John Dahlbäck   \n8478  2022-02-10 20:53    John Dahlbäck   \n8479  2022-02-10 20:53    John Dahlbäck   \n8480  2022-02-10 20:57    John Dahlbäck   \n8481  2022-02-10 20:59    John Dahlbäck   \n\n                                       trackName  msPlayed  \\\n0     Nathy Peluso: Bzrp Music Sessions, Vol. 36    144247   \n1                                         Flacko     11180   \n2     Nathy Peluso: Bzrp Music Sessions, Vol. 36    171215   \n3      Seven Kayne: Bzrp Music Sessions, Vol. 33      1004   \n4                            Dont Stop The Party    367413   \n...                                          ...       ...   \n8477                                     Shivers     16360   \n8478                                    Aint You       350   \n8479                                Count To Ten      2390   \n8480                                    Aint You    220125   \n8481                                    Atlantis    165234   \n\n                                 artist_uri  \\\n0                                       NaN   \n1     spotify:artist:2Z4QqhmV5Xw5vX2ZI70HOR   \n2     spotify:artist:716NhGYqD1jl2wI1Qkgq36   \n3     spotify:artist:716NhGYqD1jl2wI1Qkgq36   \n4                                       NaN   \n...                                     ...   \n8477  spotify:artist:15xvsJMf8phaNa1LYvL9Qv   \n8478  spotify:artist:15xvsJMf8phaNa1LYvL9Qv   \n8479  spotify:artist:15xvsJMf8phaNa1LYvL9Qv   \n8480  spotify:artist:15xvsJMf8phaNa1LYvL9Qv   \n8481  spotify:artist:15xvsJMf8phaNa1LYvL9Qv   \n\n                                 album_uri  \\\n0                                      NaN   \n1     spotify:album:6fJK9gtpLdbjiuCdgHz9BK   \n2     spotify:album:3aZthZKHMbbleXcilISjha   \n3     spotify:album:5VZx3dyGCnrp2JUQMbmi27   \n4                                      NaN   \n...                                    ...   \n8477  spotify:album:5fTKBGwZbOLj9uNirwqFP7   \n8478  spotify:album:4d0a9MZ4pQEmdaMlAL473l   \n8479  spotify:album:4d0a9MZ4pQEmdaMlAL473l   \n8480  spotify:album:4d0a9MZ4pQEmdaMlAL473l   \n8481  spotify:album:5fTKBGwZbOLj9uNirwqFP7   \n\n                                 track_uri  \n0                                      NaN  \n1     spotify:track:5NvU6DpB4ug8zLXbU7sncy  \n2     spotify:track:78SeXVRJ7KCqVmOwTiFjnI  \n3     spotify:track:5PmK5pRspJq5ki30zgyv7G  \n4                                      NaN  \n...                                    ...  \n8477  spotify:track:7pp1dAz4SXWz052k2idxTn  \n8478  spotify:track:0Ny0ygVDFGXbdWcqTDoip6  \n8479  spotify:track:5NtIEXxRCW4i7YplYSbmk3  \n8480  spotify:track:0Ny0ygVDFGXbdWcqTDoip6  \n8481  spotify:track:6rUgmZtH7GMCDMMkYAOslN  \n\n[8482 rows x 7 columns]",
      "text/html": "<div>\n<style scoped>\n    .dataframe tbody tr th:only-of-type {\n        vertical-align: middle;\n    }\n\n    .dataframe tbody tr th {\n        vertical-align: top;\n    }\n\n    .dataframe thead th {\n        text-align: right;\n    }\n</style>\n<table border=\"1\" class=\"dataframe\">\n  <thead>\n    <tr style=\"text-align: right;\">\n      <th></th>\n      <th>endTime</th>\n      <th>artistName</th>\n      <th>trackName</th>\n      <th>msPlayed</th>\n      <th>artist_uri</th>\n      <th>album_uri</th>\n      <th>track_uri</th>\n    </tr>\n  </thead>\n  <tbody>\n    <tr>\n      <th>0</th>\n      <td>2021-02-07 15:31</td>\n      <td>Bizarrap</td>\n      <td>Nathy Peluso: Bzrp Music Sessions, Vol. 36</td>\n      <td>144247</td>\n      <td>NaN</td>\n      <td>NaN</td>\n      <td>NaN</td>\n    </tr>\n    <tr>\n      <th>1</th>\n      <td>2021-02-11 02:20</td>\n      <td>Joel Fletcher</td>\n      <td>Flacko</td>\n      <td>11180</td>\n      <td>spotify:artist:2Z4QqhmV5Xw5vX2ZI70HOR</td>\n      <td>spotify:album:6fJK9gtpLdbjiuCdgHz9BK</td>\n      <td>spotify:track:5NvU6DpB4ug8zLXbU7sncy</td>\n    </tr>\n    <tr>\n      <th>2</th>\n      <td>2021-02-14 01:33</td>\n      <td>Bizarrap</td>\n      <td>Nathy Peluso: Bzrp Music Sessions, Vol. 36</td>\n      <td>171215</td>\n      <td>spotify:artist:716NhGYqD1jl2wI1Qkgq36</td>\n      <td>spotify:album:3aZthZKHMbbleXcilISjha</td>\n      <td>spotify:track:78SeXVRJ7KCqVmOwTiFjnI</td>\n    </tr>\n    <tr>\n      <th>3</th>\n      <td>2021-02-14 01:33</td>\n      <td>Bizarrap</td>\n      <td>Seven Kayne: Bzrp Music Sessions, Vol. 33</td>\n      <td>1004</td>\n      <td>spotify:artist:716NhGYqD1jl2wI1Qkgq36</td>\n      <td>spotify:album:5VZx3dyGCnrp2JUQMbmi27</td>\n      <td>spotify:track:5PmK5pRspJq5ki30zgyv7G</td>\n    </tr>\n    <tr>\n      <th>4</th>\n      <td>2021-02-14 01:44</td>\n      <td>Black Eyed Peas</td>\n      <td>Dont Stop The Party</td>\n      <td>367413</td>\n      <td>NaN</td>\n      <td>NaN</td>\n      <td>NaN</td>\n    </tr>\n    <tr>\n      <th>...</th>\n      <td>...</td>\n      <td>...</td>\n      <td>...</td>\n      <td>...</td>\n      <td>...</td>\n      <td>...</td>\n      <td>...</td>\n    </tr>\n    <tr>\n      <th>8477</th>\n      <td>2022-02-10 20:53</td>\n      <td>John Dahlbäck</td>\n      <td>Shivers</td>\n      <td>16360</td>\n      <td>spotify:artist:15xvsJMf8phaNa1LYvL9Qv</td>\n      <td>spotify:album:5fTKBGwZbOLj9uNirwqFP7</td>\n      <td>spotify:track:7pp1dAz4SXWz052k2idxTn</td>\n    </tr>\n    <tr>\n      <th>8478</th>\n      <td>2022-02-10 20:53</td>\n      <td>John Dahlbäck</td>\n      <td>Aint You</td>\n      <td>350</td>\n      <td>spotify:artist:15xvsJMf8phaNa1LYvL9Qv</td>\n      <td>spotify:album:4d0a9MZ4pQEmdaMlAL473l</td>\n      <td>spotify:track:0Ny0ygVDFGXbdWcqTDoip6</td>\n    </tr>\n    <tr>\n      <th>8479</th>\n      <td>2022-02-10 20:53</td>\n      <td>John Dahlbäck</td>\n      <td>Count To Ten</td>\n      <td>2390</td>\n      <td>spotify:artist:15xvsJMf8phaNa1LYvL9Qv</td>\n      <td>spotify:album:4d0a9MZ4pQEmdaMlAL473l</td>\n      <td>spotify:track:5NtIEXxRCW4i7YplYSbmk3</td>\n    </tr>\n    <tr>\n      <th>8480</th>\n      <td>2022-02-10 20:57</td>\n      <td>John Dahlbäck</td>\n      <td>Aint You</td>\n      <td>220125</td>\n      <td>spotify:artist:15xvsJMf8phaNa1LYvL9Qv</td>\n      <td>spotify:album:4d0a9MZ4pQEmdaMlAL473l</td>\n      <td>spotify:track:0Ny0ygVDFGXbdWcqTDoip6</td>\n    </tr>\n    <tr>\n      <th>8481</th>\n      <td>2022-02-10 20:59</td>\n      <td>John Dahlbäck</td>\n      <td>Atlantis</td>\n      <td>165234</td>\n      <td>spotify:artist:15xvsJMf8phaNa1LYvL9Qv</td>\n      <td>spotify:album:5fTKBGwZbOLj9uNirwqFP7</td>\n      <td>spotify:track:6rUgmZtH7GMCDMMkYAOslN</td>\n    </tr>\n  </tbody>\n</table>\n<p>8482 rows × 7 columns</p>\n</div>"
     },
     "execution_count": 39,
     "metadata": {},
     "output_type": "execute_result"
    }
   ],
   "source": [
    "history = pd.read_csv('HistoryWithIDs.csv', index_col=0)\n",
    "history"
   ],
   "metadata": {
    "collapsed": false,
    "pycharm": {
     "name": "#%%\n"
    }
   }
  },
  {
   "cell_type": "code",
   "execution_count": 40,
   "outputs": [
    {
     "data": {
      "text/plain": "               endTime       artistName  \\\n0     2021-02-07 15:31         Bizarrap   \n1     2021-02-11 02:20    Joel Fletcher   \n2     2021-02-14 01:33         Bizarrap   \n3     2021-02-14 01:33         Bizarrap   \n4     2021-02-14 01:44  Black Eyed Peas   \n...                ...              ...   \n8477  2022-02-10 20:53    John Dahlbäck   \n8478  2022-02-10 20:53    John Dahlbäck   \n8479  2022-02-10 20:53    John Dahlbäck   \n8480  2022-02-10 20:57    John Dahlbäck   \n8481  2022-02-10 20:59    John Dahlbäck   \n\n                                       trackName  msPlayed  \\\n0     Nathy Peluso: Bzrp Music Sessions, Vol. 36    144247   \n1                                         Flacko     11180   \n2     Nathy Peluso: Bzrp Music Sessions, Vol. 36    171215   \n3      Seven Kayne: Bzrp Music Sessions, Vol. 33      1004   \n4                            Dont Stop The Party    367413   \n...                                          ...       ...   \n8477                                     Shivers     16360   \n8478                                    Aint You       350   \n8479                                Count To Ten      2390   \n8480                                    Aint You    220125   \n8481                                    Atlantis    165234   \n\n                                 artist_uri  \\\n0                                       NaN   \n1     spotify:artist:2Z4QqhmV5Xw5vX2ZI70HOR   \n2     spotify:artist:716NhGYqD1jl2wI1Qkgq36   \n3     spotify:artist:716NhGYqD1jl2wI1Qkgq36   \n4                                       NaN   \n...                                     ...   \n8477  spotify:artist:15xvsJMf8phaNa1LYvL9Qv   \n8478  spotify:artist:15xvsJMf8phaNa1LYvL9Qv   \n8479  spotify:artist:15xvsJMf8phaNa1LYvL9Qv   \n8480  spotify:artist:15xvsJMf8phaNa1LYvL9Qv   \n8481  spotify:artist:15xvsJMf8phaNa1LYvL9Qv   \n\n                                 album_uri  \\\n0                                      NaN   \n1     spotify:album:6fJK9gtpLdbjiuCdgHz9BK   \n2     spotify:album:3aZthZKHMbbleXcilISjha   \n3     spotify:album:5VZx3dyGCnrp2JUQMbmi27   \n4                                      NaN   \n...                                    ...   \n8477  spotify:album:5fTKBGwZbOLj9uNirwqFP7   \n8478  spotify:album:4d0a9MZ4pQEmdaMlAL473l   \n8479  spotify:album:4d0a9MZ4pQEmdaMlAL473l   \n8480  spotify:album:4d0a9MZ4pQEmdaMlAL473l   \n8481  spotify:album:5fTKBGwZbOLj9uNirwqFP7   \n\n                                 track_uri  listen_count  \n0                                      NaN           NaN  \n1     spotify:track:5NvU6DpB4ug8zLXbU7sncy           1.0  \n2     spotify:track:78SeXVRJ7KCqVmOwTiFjnI           6.0  \n3     spotify:track:5PmK5pRspJq5ki30zgyv7G           1.0  \n4                                      NaN           NaN  \n...                                    ...           ...  \n8477  spotify:track:7pp1dAz4SXWz052k2idxTn           3.0  \n8478  spotify:track:0Ny0ygVDFGXbdWcqTDoip6           3.0  \n8479  spotify:track:5NtIEXxRCW4i7YplYSbmk3           1.0  \n8480  spotify:track:0Ny0ygVDFGXbdWcqTDoip6           3.0  \n8481  spotify:track:6rUgmZtH7GMCDMMkYAOslN           3.0  \n\n[8482 rows x 8 columns]",
      "text/html": "<div>\n<style scoped>\n    .dataframe tbody tr th:only-of-type {\n        vertical-align: middle;\n    }\n\n    .dataframe tbody tr th {\n        vertical-align: top;\n    }\n\n    .dataframe thead th {\n        text-align: right;\n    }\n</style>\n<table border=\"1\" class=\"dataframe\">\n  <thead>\n    <tr style=\"text-align: right;\">\n      <th></th>\n      <th>endTime</th>\n      <th>artistName</th>\n      <th>trackName</th>\n      <th>msPlayed</th>\n      <th>artist_uri</th>\n      <th>album_uri</th>\n      <th>track_uri</th>\n      <th>listen_count</th>\n    </tr>\n  </thead>\n  <tbody>\n    <tr>\n      <th>0</th>\n      <td>2021-02-07 15:31</td>\n      <td>Bizarrap</td>\n      <td>Nathy Peluso: Bzrp Music Sessions, Vol. 36</td>\n      <td>144247</td>\n      <td>NaN</td>\n      <td>NaN</td>\n      <td>NaN</td>\n      <td>NaN</td>\n    </tr>\n    <tr>\n      <th>1</th>\n      <td>2021-02-11 02:20</td>\n      <td>Joel Fletcher</td>\n      <td>Flacko</td>\n      <td>11180</td>\n      <td>spotify:artist:2Z4QqhmV5Xw5vX2ZI70HOR</td>\n      <td>spotify:album:6fJK9gtpLdbjiuCdgHz9BK</td>\n      <td>spotify:track:5NvU6DpB4ug8zLXbU7sncy</td>\n      <td>1.0</td>\n    </tr>\n    <tr>\n      <th>2</th>\n      <td>2021-02-14 01:33</td>\n      <td>Bizarrap</td>\n      <td>Nathy Peluso: Bzrp Music Sessions, Vol. 36</td>\n      <td>171215</td>\n      <td>spotify:artist:716NhGYqD1jl2wI1Qkgq36</td>\n      <td>spotify:album:3aZthZKHMbbleXcilISjha</td>\n      <td>spotify:track:78SeXVRJ7KCqVmOwTiFjnI</td>\n      <td>6.0</td>\n    </tr>\n    <tr>\n      <th>3</th>\n      <td>2021-02-14 01:33</td>\n      <td>Bizarrap</td>\n      <td>Seven Kayne: Bzrp Music Sessions, Vol. 33</td>\n      <td>1004</td>\n      <td>spotify:artist:716NhGYqD1jl2wI1Qkgq36</td>\n      <td>spotify:album:5VZx3dyGCnrp2JUQMbmi27</td>\n      <td>spotify:track:5PmK5pRspJq5ki30zgyv7G</td>\n      <td>1.0</td>\n    </tr>\n    <tr>\n      <th>4</th>\n      <td>2021-02-14 01:44</td>\n      <td>Black Eyed Peas</td>\n      <td>Dont Stop The Party</td>\n      <td>367413</td>\n      <td>NaN</td>\n      <td>NaN</td>\n      <td>NaN</td>\n      <td>NaN</td>\n    </tr>\n    <tr>\n      <th>...</th>\n      <td>...</td>\n      <td>...</td>\n      <td>...</td>\n      <td>...</td>\n      <td>...</td>\n      <td>...</td>\n      <td>...</td>\n      <td>...</td>\n    </tr>\n    <tr>\n      <th>8477</th>\n      <td>2022-02-10 20:53</td>\n      <td>John Dahlbäck</td>\n      <td>Shivers</td>\n      <td>16360</td>\n      <td>spotify:artist:15xvsJMf8phaNa1LYvL9Qv</td>\n      <td>spotify:album:5fTKBGwZbOLj9uNirwqFP7</td>\n      <td>spotify:track:7pp1dAz4SXWz052k2idxTn</td>\n      <td>3.0</td>\n    </tr>\n    <tr>\n      <th>8478</th>\n      <td>2022-02-10 20:53</td>\n      <td>John Dahlbäck</td>\n      <td>Aint You</td>\n      <td>350</td>\n      <td>spotify:artist:15xvsJMf8phaNa1LYvL9Qv</td>\n      <td>spotify:album:4d0a9MZ4pQEmdaMlAL473l</td>\n      <td>spotify:track:0Ny0ygVDFGXbdWcqTDoip6</td>\n      <td>3.0</td>\n    </tr>\n    <tr>\n      <th>8479</th>\n      <td>2022-02-10 20:53</td>\n      <td>John Dahlbäck</td>\n      <td>Count To Ten</td>\n      <td>2390</td>\n      <td>spotify:artist:15xvsJMf8phaNa1LYvL9Qv</td>\n      <td>spotify:album:4d0a9MZ4pQEmdaMlAL473l</td>\n      <td>spotify:track:5NtIEXxRCW4i7YplYSbmk3</td>\n      <td>1.0</td>\n    </tr>\n    <tr>\n      <th>8480</th>\n      <td>2022-02-10 20:57</td>\n      <td>John Dahlbäck</td>\n      <td>Aint You</td>\n      <td>220125</td>\n      <td>spotify:artist:15xvsJMf8phaNa1LYvL9Qv</td>\n      <td>spotify:album:4d0a9MZ4pQEmdaMlAL473l</td>\n      <td>spotify:track:0Ny0ygVDFGXbdWcqTDoip6</td>\n      <td>3.0</td>\n    </tr>\n    <tr>\n      <th>8481</th>\n      <td>2022-02-10 20:59</td>\n      <td>John Dahlbäck</td>\n      <td>Atlantis</td>\n      <td>165234</td>\n      <td>spotify:artist:15xvsJMf8phaNa1LYvL9Qv</td>\n      <td>spotify:album:5fTKBGwZbOLj9uNirwqFP7</td>\n      <td>spotify:track:6rUgmZtH7GMCDMMkYAOslN</td>\n      <td>3.0</td>\n    </tr>\n  </tbody>\n</table>\n<p>8482 rows × 8 columns</p>\n</div>"
     },
     "execution_count": 40,
     "metadata": {},
     "output_type": "execute_result"
    }
   ],
   "source": [
    "history['listen_count'] = history.groupby('track_uri')['track_uri'].transform('count')\n",
    "history"
   ],
   "metadata": {
    "collapsed": false,
    "pycharm": {
     "name": "#%%\n"
    }
   }
  },
  {
   "cell_type": "code",
   "execution_count": 44,
   "outputs": [
    {
     "data": {
      "text/plain": "               endTime     artistName  \\\n1     2021-02-11 02:20  Joel Fletcher   \n2     2021-02-14 01:33       Bizarrap   \n3     2021-02-14 01:33       Bizarrap   \n5     2021-02-14 01:47            EDX   \n6     2021-02-14 01:50            EDX   \n...                ...            ...   \n8467  2022-02-09 18:16  John Dahlbäck   \n8468  2022-02-09 18:20  John Dahlbäck   \n8469  2022-02-09 18:21  John Dahlbäck   \n8470  2022-02-10 01:59    Dr. Peacock   \n8479  2022-02-10 20:53  John Dahlbäck   \n\n                                              trackName  msPlayed  \\\n1                                                Flacko     11180   \n2            Nathy Peluso: Bzrp Music Sessions, Vol. 36    171215   \n3             Seven Kayne: Bzrp Music Sessions, Vol. 33      1004   \n5     Want You (Then I Found You) (feat. BB Diamond)...    166252   \n6                                               Revered    194754   \n...                                                 ...       ...   \n8467                                      Where You Are    253125   \n8468                                      New York City    250096   \n8469                                            Shivers     14854   \n8470                                   Trip to Valhalla    103784   \n8479                                       Count To Ten      2390   \n\n                                 artist_uri  \\\n1     spotify:artist:2Z4QqhmV5Xw5vX2ZI70HOR   \n2     spotify:artist:716NhGYqD1jl2wI1Qkgq36   \n3     spotify:artist:716NhGYqD1jl2wI1Qkgq36   \n5     spotify:artist:7GMot9WvBYqhhJz92vhBp6   \n6     spotify:artist:7GMot9WvBYqhhJz92vhBp6   \n...                                     ...   \n8467  spotify:artist:15xvsJMf8phaNa1LYvL9Qv   \n8468  spotify:artist:15xvsJMf8phaNa1LYvL9Qv   \n8469  spotify:artist:15xvsJMf8phaNa1LYvL9Qv   \n8470  spotify:artist:4RbUYWWjEBb4umwqakOEd3   \n8479  spotify:artist:15xvsJMf8phaNa1LYvL9Qv   \n\n                                 album_uri  \\\n1     spotify:album:6fJK9gtpLdbjiuCdgHz9BK   \n2     spotify:album:3aZthZKHMbbleXcilISjha   \n3     spotify:album:5VZx3dyGCnrp2JUQMbmi27   \n5     spotify:album:24fio0gVYU9GLny67BeiRt   \n6     spotify:album:6giO9hfEDrOJRDtMv6CNgt   \n...                                    ...   \n8467  spotify:album:5fTKBGwZbOLj9uNirwqFP7   \n8468  spotify:album:4d0a9MZ4pQEmdaMlAL473l   \n8469  spotify:album:5fTKBGwZbOLj9uNirwqFP7   \n8470  spotify:album:3cLqmhEhqb3sz5U6ocs6ll   \n8479  spotify:album:4d0a9MZ4pQEmdaMlAL473l   \n\n                                 track_uri  listen_count  \n1     spotify:track:5NvU6DpB4ug8zLXbU7sncy           1.0  \n2     spotify:track:78SeXVRJ7KCqVmOwTiFjnI           6.0  \n3     spotify:track:5PmK5pRspJq5ki30zgyv7G           1.0  \n5     spotify:track:5aiB1OZ3TyDvOgeEypvFec           1.0  \n6     spotify:track:0nmYqUa3FiBKRBYfCws4OV           1.0  \n...                                    ...           ...  \n8467  spotify:track:72RpvmZyTHqRWJHEi6d3i4           2.0  \n8468  spotify:track:5ExWygNQkRG4uzrqfhp9wW           2.0  \n8469  spotify:track:7pp1dAz4SXWz052k2idxTn           3.0  \n8470  spotify:track:2D9WT9MeG07a26kKU9IGEb           1.0  \n8479  spotify:track:5NtIEXxRCW4i7YplYSbmk3           1.0  \n\n[3822 rows x 8 columns]",
      "text/html": "<div>\n<style scoped>\n    .dataframe tbody tr th:only-of-type {\n        vertical-align: middle;\n    }\n\n    .dataframe tbody tr th {\n        vertical-align: top;\n    }\n\n    .dataframe thead th {\n        text-align: right;\n    }\n</style>\n<table border=\"1\" class=\"dataframe\">\n  <thead>\n    <tr style=\"text-align: right;\">\n      <th></th>\n      <th>endTime</th>\n      <th>artistName</th>\n      <th>trackName</th>\n      <th>msPlayed</th>\n      <th>artist_uri</th>\n      <th>album_uri</th>\n      <th>track_uri</th>\n      <th>listen_count</th>\n    </tr>\n  </thead>\n  <tbody>\n    <tr>\n      <th>1</th>\n      <td>2021-02-11 02:20</td>\n      <td>Joel Fletcher</td>\n      <td>Flacko</td>\n      <td>11180</td>\n      <td>spotify:artist:2Z4QqhmV5Xw5vX2ZI70HOR</td>\n      <td>spotify:album:6fJK9gtpLdbjiuCdgHz9BK</td>\n      <td>spotify:track:5NvU6DpB4ug8zLXbU7sncy</td>\n      <td>1.0</td>\n    </tr>\n    <tr>\n      <th>2</th>\n      <td>2021-02-14 01:33</td>\n      <td>Bizarrap</td>\n      <td>Nathy Peluso: Bzrp Music Sessions, Vol. 36</td>\n      <td>171215</td>\n      <td>spotify:artist:716NhGYqD1jl2wI1Qkgq36</td>\n      <td>spotify:album:3aZthZKHMbbleXcilISjha</td>\n      <td>spotify:track:78SeXVRJ7KCqVmOwTiFjnI</td>\n      <td>6.0</td>\n    </tr>\n    <tr>\n      <th>3</th>\n      <td>2021-02-14 01:33</td>\n      <td>Bizarrap</td>\n      <td>Seven Kayne: Bzrp Music Sessions, Vol. 33</td>\n      <td>1004</td>\n      <td>spotify:artist:716NhGYqD1jl2wI1Qkgq36</td>\n      <td>spotify:album:5VZx3dyGCnrp2JUQMbmi27</td>\n      <td>spotify:track:5PmK5pRspJq5ki30zgyv7G</td>\n      <td>1.0</td>\n    </tr>\n    <tr>\n      <th>5</th>\n      <td>2021-02-14 01:47</td>\n      <td>EDX</td>\n      <td>Want You (Then I Found You) (feat. BB Diamond)...</td>\n      <td>166252</td>\n      <td>spotify:artist:7GMot9WvBYqhhJz92vhBp6</td>\n      <td>spotify:album:24fio0gVYU9GLny67BeiRt</td>\n      <td>spotify:track:5aiB1OZ3TyDvOgeEypvFec</td>\n      <td>1.0</td>\n    </tr>\n    <tr>\n      <th>6</th>\n      <td>2021-02-14 01:50</td>\n      <td>EDX</td>\n      <td>Revered</td>\n      <td>194754</td>\n      <td>spotify:artist:7GMot9WvBYqhhJz92vhBp6</td>\n      <td>spotify:album:6giO9hfEDrOJRDtMv6CNgt</td>\n      <td>spotify:track:0nmYqUa3FiBKRBYfCws4OV</td>\n      <td>1.0</td>\n    </tr>\n    <tr>\n      <th>...</th>\n      <td>...</td>\n      <td>...</td>\n      <td>...</td>\n      <td>...</td>\n      <td>...</td>\n      <td>...</td>\n      <td>...</td>\n      <td>...</td>\n    </tr>\n    <tr>\n      <th>8467</th>\n      <td>2022-02-09 18:16</td>\n      <td>John Dahlbäck</td>\n      <td>Where You Are</td>\n      <td>253125</td>\n      <td>spotify:artist:15xvsJMf8phaNa1LYvL9Qv</td>\n      <td>spotify:album:5fTKBGwZbOLj9uNirwqFP7</td>\n      <td>spotify:track:72RpvmZyTHqRWJHEi6d3i4</td>\n      <td>2.0</td>\n    </tr>\n    <tr>\n      <th>8468</th>\n      <td>2022-02-09 18:20</td>\n      <td>John Dahlbäck</td>\n      <td>New York City</td>\n      <td>250096</td>\n      <td>spotify:artist:15xvsJMf8phaNa1LYvL9Qv</td>\n      <td>spotify:album:4d0a9MZ4pQEmdaMlAL473l</td>\n      <td>spotify:track:5ExWygNQkRG4uzrqfhp9wW</td>\n      <td>2.0</td>\n    </tr>\n    <tr>\n      <th>8469</th>\n      <td>2022-02-09 18:21</td>\n      <td>John Dahlbäck</td>\n      <td>Shivers</td>\n      <td>14854</td>\n      <td>spotify:artist:15xvsJMf8phaNa1LYvL9Qv</td>\n      <td>spotify:album:5fTKBGwZbOLj9uNirwqFP7</td>\n      <td>spotify:track:7pp1dAz4SXWz052k2idxTn</td>\n      <td>3.0</td>\n    </tr>\n    <tr>\n      <th>8470</th>\n      <td>2022-02-10 01:59</td>\n      <td>Dr. Peacock</td>\n      <td>Trip to Valhalla</td>\n      <td>103784</td>\n      <td>spotify:artist:4RbUYWWjEBb4umwqakOEd3</td>\n      <td>spotify:album:3cLqmhEhqb3sz5U6ocs6ll</td>\n      <td>spotify:track:2D9WT9MeG07a26kKU9IGEb</td>\n      <td>1.0</td>\n    </tr>\n    <tr>\n      <th>8479</th>\n      <td>2022-02-10 20:53</td>\n      <td>John Dahlbäck</td>\n      <td>Count To Ten</td>\n      <td>2390</td>\n      <td>spotify:artist:15xvsJMf8phaNa1LYvL9Qv</td>\n      <td>spotify:album:4d0a9MZ4pQEmdaMlAL473l</td>\n      <td>spotify:track:5NtIEXxRCW4i7YplYSbmk3</td>\n      <td>1.0</td>\n    </tr>\n  </tbody>\n</table>\n<p>3822 rows × 8 columns</p>\n</div>"
     },
     "execution_count": 44,
     "metadata": {},
     "output_type": "execute_result"
    }
   ],
   "source": [
    "history.dropna(inplace=True)\n",
    "history.drop_duplicates(subset=['track_uri'])"
   ],
   "metadata": {
    "collapsed": false,
    "pycharm": {
     "name": "#%%\n"
    }
   }
  },
  {
   "cell_type": "code",
   "execution_count": 43,
   "outputs": [
    {
     "data": {
      "text/plain": "               endTime  artistName  trackName  msPlayed  \\\n93    2021-02-22 03:11  Polo & Pan  Peter Pan    237680   \n228   2021-02-23 08:04  Polo & Pan  Peter Pan    237680   \n236   2021-02-23 08:28  Polo & Pan  Peter Pan    233680   \n249   2021-02-23 11:19  Polo & Pan  Peter Pan    237680   \n253   2021-02-27 08:53  Polo & Pan  Peter Pan      9990   \n282   2021-03-03 13:12  Polo & Pan  Peter Pan      1200   \n289   2021-03-03 13:17  Polo & Pan  Peter Pan    242370   \n296   2021-03-03 13:24  Polo & Pan  Peter Pan       500   \n305   2021-03-03 14:33  Polo & Pan  Peter Pan      9840   \n310   2021-03-03 14:44  Polo & Pan  Peter Pan     90010   \n311   2021-03-07 06:13  Polo & Pan  Peter Pan    147126   \n405   2021-03-08 14:10  Polo & Pan  Peter Pan    237680   \n408   2021-03-09 03:59  Polo & Pan  Peter Pan    237680   \n523   2021-03-13 06:05  Polo & Pan  Peter Pan    237680   \n526   2021-03-13 06:10  Polo & Pan  Peter Pan    237680   \n635   2021-03-15 11:26  Polo & Pan  Peter Pan     46764   \n643   2021-03-15 11:27  Polo & Pan  Peter Pan       610   \n644   2021-03-15 11:27  Polo & Pan  Peter Pan       200   \n645   2021-03-15 11:27  Polo & Pan  Peter Pan      6880   \n651   2021-03-15 11:31  Polo & Pan  Peter Pan    237680   \n810   2021-03-18 12:31  Polo & Pan  Peter Pan     15206   \n862   2021-03-20 23:51  Polo & Pan  Peter Pan    237680   \n1102  2021-03-29 14:15  Polo & Pan  Peter Pan         0   \n1104  2021-03-29 14:19  Polo & Pan  Peter Pan    237680   \n2023  2021-05-04 23:27  Polo & Pan  Peter Pan    170099   \n2338  2021-05-18 02:50  Polo & Pan  Peter Pan    237680   \n6925  2021-12-09 07:58  Polo & Pan  Peter Pan     16878   \n\n                                 artist_uri  \\\n93    spotify:artist:45yEuthJ9yq1rNXAOpBnqM   \n228   spotify:artist:45yEuthJ9yq1rNXAOpBnqM   \n236   spotify:artist:45yEuthJ9yq1rNXAOpBnqM   \n249   spotify:artist:45yEuthJ9yq1rNXAOpBnqM   \n253   spotify:artist:45yEuthJ9yq1rNXAOpBnqM   \n282   spotify:artist:45yEuthJ9yq1rNXAOpBnqM   \n289   spotify:artist:45yEuthJ9yq1rNXAOpBnqM   \n296   spotify:artist:45yEuthJ9yq1rNXAOpBnqM   \n305   spotify:artist:45yEuthJ9yq1rNXAOpBnqM   \n310   spotify:artist:45yEuthJ9yq1rNXAOpBnqM   \n311   spotify:artist:45yEuthJ9yq1rNXAOpBnqM   \n405   spotify:artist:45yEuthJ9yq1rNXAOpBnqM   \n408   spotify:artist:45yEuthJ9yq1rNXAOpBnqM   \n523   spotify:artist:45yEuthJ9yq1rNXAOpBnqM   \n526   spotify:artist:45yEuthJ9yq1rNXAOpBnqM   \n635   spotify:artist:45yEuthJ9yq1rNXAOpBnqM   \n643   spotify:artist:45yEuthJ9yq1rNXAOpBnqM   \n644   spotify:artist:45yEuthJ9yq1rNXAOpBnqM   \n645   spotify:artist:45yEuthJ9yq1rNXAOpBnqM   \n651   spotify:artist:45yEuthJ9yq1rNXAOpBnqM   \n810   spotify:artist:45yEuthJ9yq1rNXAOpBnqM   \n862   spotify:artist:45yEuthJ9yq1rNXAOpBnqM   \n1102  spotify:artist:45yEuthJ9yq1rNXAOpBnqM   \n1104  spotify:artist:45yEuthJ9yq1rNXAOpBnqM   \n2023  spotify:artist:45yEuthJ9yq1rNXAOpBnqM   \n2338  spotify:artist:45yEuthJ9yq1rNXAOpBnqM   \n6925  spotify:artist:45yEuthJ9yq1rNXAOpBnqM   \n\n                                 album_uri  \\\n93    spotify:album:10H4nbqjbmrGo4bG23dfWK   \n228   spotify:album:10H4nbqjbmrGo4bG23dfWK   \n236   spotify:album:10H4nbqjbmrGo4bG23dfWK   \n249   spotify:album:10H4nbqjbmrGo4bG23dfWK   \n253   spotify:album:10H4nbqjbmrGo4bG23dfWK   \n282   spotify:album:10H4nbqjbmrGo4bG23dfWK   \n289   spotify:album:10H4nbqjbmrGo4bG23dfWK   \n296   spotify:album:10H4nbqjbmrGo4bG23dfWK   \n305   spotify:album:10H4nbqjbmrGo4bG23dfWK   \n310   spotify:album:10H4nbqjbmrGo4bG23dfWK   \n311   spotify:album:10H4nbqjbmrGo4bG23dfWK   \n405   spotify:album:10H4nbqjbmrGo4bG23dfWK   \n408   spotify:album:10H4nbqjbmrGo4bG23dfWK   \n523   spotify:album:10H4nbqjbmrGo4bG23dfWK   \n526   spotify:album:10H4nbqjbmrGo4bG23dfWK   \n635   spotify:album:10H4nbqjbmrGo4bG23dfWK   \n643   spotify:album:10H4nbqjbmrGo4bG23dfWK   \n644   spotify:album:10H4nbqjbmrGo4bG23dfWK   \n645   spotify:album:10H4nbqjbmrGo4bG23dfWK   \n651   spotify:album:10H4nbqjbmrGo4bG23dfWK   \n810   spotify:album:10H4nbqjbmrGo4bG23dfWK   \n862   spotify:album:10H4nbqjbmrGo4bG23dfWK   \n1102  spotify:album:10H4nbqjbmrGo4bG23dfWK   \n1104  spotify:album:10H4nbqjbmrGo4bG23dfWK   \n2023  spotify:album:10H4nbqjbmrGo4bG23dfWK   \n2338  spotify:album:10H4nbqjbmrGo4bG23dfWK   \n6925  spotify:album:10H4nbqjbmrGo4bG23dfWK   \n\n                                 track_uri  listen_count  \n93    spotify:track:7CIkvtqLxM5mwDaItJDVuP          27.0  \n228   spotify:track:7CIkvtqLxM5mwDaItJDVuP          27.0  \n236   spotify:track:7CIkvtqLxM5mwDaItJDVuP          27.0  \n249   spotify:track:7CIkvtqLxM5mwDaItJDVuP          27.0  \n253   spotify:track:7CIkvtqLxM5mwDaItJDVuP          27.0  \n282   spotify:track:7CIkvtqLxM5mwDaItJDVuP          27.0  \n289   spotify:track:7CIkvtqLxM5mwDaItJDVuP          27.0  \n296   spotify:track:7CIkvtqLxM5mwDaItJDVuP          27.0  \n305   spotify:track:7CIkvtqLxM5mwDaItJDVuP          27.0  \n310   spotify:track:7CIkvtqLxM5mwDaItJDVuP          27.0  \n311   spotify:track:7CIkvtqLxM5mwDaItJDVuP          27.0  \n405   spotify:track:7CIkvtqLxM5mwDaItJDVuP          27.0  \n408   spotify:track:7CIkvtqLxM5mwDaItJDVuP          27.0  \n523   spotify:track:7CIkvtqLxM5mwDaItJDVuP          27.0  \n526   spotify:track:7CIkvtqLxM5mwDaItJDVuP          27.0  \n635   spotify:track:7CIkvtqLxM5mwDaItJDVuP          27.0  \n643   spotify:track:7CIkvtqLxM5mwDaItJDVuP          27.0  \n644   spotify:track:7CIkvtqLxM5mwDaItJDVuP          27.0  \n645   spotify:track:7CIkvtqLxM5mwDaItJDVuP          27.0  \n651   spotify:track:7CIkvtqLxM5mwDaItJDVuP          27.0  \n810   spotify:track:7CIkvtqLxM5mwDaItJDVuP          27.0  \n862   spotify:track:7CIkvtqLxM5mwDaItJDVuP          27.0  \n1102  spotify:track:7CIkvtqLxM5mwDaItJDVuP          27.0  \n1104  spotify:track:7CIkvtqLxM5mwDaItJDVuP          27.0  \n2023  spotify:track:7CIkvtqLxM5mwDaItJDVuP          27.0  \n2338  spotify:track:7CIkvtqLxM5mwDaItJDVuP          27.0  \n6925  spotify:track:7CIkvtqLxM5mwDaItJDVuP          27.0  ",
      "text/html": "<div>\n<style scoped>\n    .dataframe tbody tr th:only-of-type {\n        vertical-align: middle;\n    }\n\n    .dataframe tbody tr th {\n        vertical-align: top;\n    }\n\n    .dataframe thead th {\n        text-align: right;\n    }\n</style>\n<table border=\"1\" class=\"dataframe\">\n  <thead>\n    <tr style=\"text-align: right;\">\n      <th></th>\n      <th>endTime</th>\n      <th>artistName</th>\n      <th>trackName</th>\n      <th>msPlayed</th>\n      <th>artist_uri</th>\n      <th>album_uri</th>\n      <th>track_uri</th>\n      <th>listen_count</th>\n    </tr>\n  </thead>\n  <tbody>\n    <tr>\n      <th>93</th>\n      <td>2021-02-22 03:11</td>\n      <td>Polo &amp; Pan</td>\n      <td>Peter Pan</td>\n      <td>237680</td>\n      <td>spotify:artist:45yEuthJ9yq1rNXAOpBnqM</td>\n      <td>spotify:album:10H4nbqjbmrGo4bG23dfWK</td>\n      <td>spotify:track:7CIkvtqLxM5mwDaItJDVuP</td>\n      <td>27.0</td>\n    </tr>\n    <tr>\n      <th>228</th>\n      <td>2021-02-23 08:04</td>\n      <td>Polo &amp; Pan</td>\n      <td>Peter Pan</td>\n      <td>237680</td>\n      <td>spotify:artist:45yEuthJ9yq1rNXAOpBnqM</td>\n      <td>spotify:album:10H4nbqjbmrGo4bG23dfWK</td>\n      <td>spotify:track:7CIkvtqLxM5mwDaItJDVuP</td>\n      <td>27.0</td>\n    </tr>\n    <tr>\n      <th>236</th>\n      <td>2021-02-23 08:28</td>\n      <td>Polo &amp; Pan</td>\n      <td>Peter Pan</td>\n      <td>233680</td>\n      <td>spotify:artist:45yEuthJ9yq1rNXAOpBnqM</td>\n      <td>spotify:album:10H4nbqjbmrGo4bG23dfWK</td>\n      <td>spotify:track:7CIkvtqLxM5mwDaItJDVuP</td>\n      <td>27.0</td>\n    </tr>\n    <tr>\n      <th>249</th>\n      <td>2021-02-23 11:19</td>\n      <td>Polo &amp; Pan</td>\n      <td>Peter Pan</td>\n      <td>237680</td>\n      <td>spotify:artist:45yEuthJ9yq1rNXAOpBnqM</td>\n      <td>spotify:album:10H4nbqjbmrGo4bG23dfWK</td>\n      <td>spotify:track:7CIkvtqLxM5mwDaItJDVuP</td>\n      <td>27.0</td>\n    </tr>\n    <tr>\n      <th>253</th>\n      <td>2021-02-27 08:53</td>\n      <td>Polo &amp; Pan</td>\n      <td>Peter Pan</td>\n      <td>9990</td>\n      <td>spotify:artist:45yEuthJ9yq1rNXAOpBnqM</td>\n      <td>spotify:album:10H4nbqjbmrGo4bG23dfWK</td>\n      <td>spotify:track:7CIkvtqLxM5mwDaItJDVuP</td>\n      <td>27.0</td>\n    </tr>\n    <tr>\n      <th>282</th>\n      <td>2021-03-03 13:12</td>\n      <td>Polo &amp; Pan</td>\n      <td>Peter Pan</td>\n      <td>1200</td>\n      <td>spotify:artist:45yEuthJ9yq1rNXAOpBnqM</td>\n      <td>spotify:album:10H4nbqjbmrGo4bG23dfWK</td>\n      <td>spotify:track:7CIkvtqLxM5mwDaItJDVuP</td>\n      <td>27.0</td>\n    </tr>\n    <tr>\n      <th>289</th>\n      <td>2021-03-03 13:17</td>\n      <td>Polo &amp; Pan</td>\n      <td>Peter Pan</td>\n      <td>242370</td>\n      <td>spotify:artist:45yEuthJ9yq1rNXAOpBnqM</td>\n      <td>spotify:album:10H4nbqjbmrGo4bG23dfWK</td>\n      <td>spotify:track:7CIkvtqLxM5mwDaItJDVuP</td>\n      <td>27.0</td>\n    </tr>\n    <tr>\n      <th>296</th>\n      <td>2021-03-03 13:24</td>\n      <td>Polo &amp; Pan</td>\n      <td>Peter Pan</td>\n      <td>500</td>\n      <td>spotify:artist:45yEuthJ9yq1rNXAOpBnqM</td>\n      <td>spotify:album:10H4nbqjbmrGo4bG23dfWK</td>\n      <td>spotify:track:7CIkvtqLxM5mwDaItJDVuP</td>\n      <td>27.0</td>\n    </tr>\n    <tr>\n      <th>305</th>\n      <td>2021-03-03 14:33</td>\n      <td>Polo &amp; Pan</td>\n      <td>Peter Pan</td>\n      <td>9840</td>\n      <td>spotify:artist:45yEuthJ9yq1rNXAOpBnqM</td>\n      <td>spotify:album:10H4nbqjbmrGo4bG23dfWK</td>\n      <td>spotify:track:7CIkvtqLxM5mwDaItJDVuP</td>\n      <td>27.0</td>\n    </tr>\n    <tr>\n      <th>310</th>\n      <td>2021-03-03 14:44</td>\n      <td>Polo &amp; Pan</td>\n      <td>Peter Pan</td>\n      <td>90010</td>\n      <td>spotify:artist:45yEuthJ9yq1rNXAOpBnqM</td>\n      <td>spotify:album:10H4nbqjbmrGo4bG23dfWK</td>\n      <td>spotify:track:7CIkvtqLxM5mwDaItJDVuP</td>\n      <td>27.0</td>\n    </tr>\n    <tr>\n      <th>311</th>\n      <td>2021-03-07 06:13</td>\n      <td>Polo &amp; Pan</td>\n      <td>Peter Pan</td>\n      <td>147126</td>\n      <td>spotify:artist:45yEuthJ9yq1rNXAOpBnqM</td>\n      <td>spotify:album:10H4nbqjbmrGo4bG23dfWK</td>\n      <td>spotify:track:7CIkvtqLxM5mwDaItJDVuP</td>\n      <td>27.0</td>\n    </tr>\n    <tr>\n      <th>405</th>\n      <td>2021-03-08 14:10</td>\n      <td>Polo &amp; Pan</td>\n      <td>Peter Pan</td>\n      <td>237680</td>\n      <td>spotify:artist:45yEuthJ9yq1rNXAOpBnqM</td>\n      <td>spotify:album:10H4nbqjbmrGo4bG23dfWK</td>\n      <td>spotify:track:7CIkvtqLxM5mwDaItJDVuP</td>\n      <td>27.0</td>\n    </tr>\n    <tr>\n      <th>408</th>\n      <td>2021-03-09 03:59</td>\n      <td>Polo &amp; Pan</td>\n      <td>Peter Pan</td>\n      <td>237680</td>\n      <td>spotify:artist:45yEuthJ9yq1rNXAOpBnqM</td>\n      <td>spotify:album:10H4nbqjbmrGo4bG23dfWK</td>\n      <td>spotify:track:7CIkvtqLxM5mwDaItJDVuP</td>\n      <td>27.0</td>\n    </tr>\n    <tr>\n      <th>523</th>\n      <td>2021-03-13 06:05</td>\n      <td>Polo &amp; Pan</td>\n      <td>Peter Pan</td>\n      <td>237680</td>\n      <td>spotify:artist:45yEuthJ9yq1rNXAOpBnqM</td>\n      <td>spotify:album:10H4nbqjbmrGo4bG23dfWK</td>\n      <td>spotify:track:7CIkvtqLxM5mwDaItJDVuP</td>\n      <td>27.0</td>\n    </tr>\n    <tr>\n      <th>526</th>\n      <td>2021-03-13 06:10</td>\n      <td>Polo &amp; Pan</td>\n      <td>Peter Pan</td>\n      <td>237680</td>\n      <td>spotify:artist:45yEuthJ9yq1rNXAOpBnqM</td>\n      <td>spotify:album:10H4nbqjbmrGo4bG23dfWK</td>\n      <td>spotify:track:7CIkvtqLxM5mwDaItJDVuP</td>\n      <td>27.0</td>\n    </tr>\n    <tr>\n      <th>635</th>\n      <td>2021-03-15 11:26</td>\n      <td>Polo &amp; Pan</td>\n      <td>Peter Pan</td>\n      <td>46764</td>\n      <td>spotify:artist:45yEuthJ9yq1rNXAOpBnqM</td>\n      <td>spotify:album:10H4nbqjbmrGo4bG23dfWK</td>\n      <td>spotify:track:7CIkvtqLxM5mwDaItJDVuP</td>\n      <td>27.0</td>\n    </tr>\n    <tr>\n      <th>643</th>\n      <td>2021-03-15 11:27</td>\n      <td>Polo &amp; Pan</td>\n      <td>Peter Pan</td>\n      <td>610</td>\n      <td>spotify:artist:45yEuthJ9yq1rNXAOpBnqM</td>\n      <td>spotify:album:10H4nbqjbmrGo4bG23dfWK</td>\n      <td>spotify:track:7CIkvtqLxM5mwDaItJDVuP</td>\n      <td>27.0</td>\n    </tr>\n    <tr>\n      <th>644</th>\n      <td>2021-03-15 11:27</td>\n      <td>Polo &amp; Pan</td>\n      <td>Peter Pan</td>\n      <td>200</td>\n      <td>spotify:artist:45yEuthJ9yq1rNXAOpBnqM</td>\n      <td>spotify:album:10H4nbqjbmrGo4bG23dfWK</td>\n      <td>spotify:track:7CIkvtqLxM5mwDaItJDVuP</td>\n      <td>27.0</td>\n    </tr>\n    <tr>\n      <th>645</th>\n      <td>2021-03-15 11:27</td>\n      <td>Polo &amp; Pan</td>\n      <td>Peter Pan</td>\n      <td>6880</td>\n      <td>spotify:artist:45yEuthJ9yq1rNXAOpBnqM</td>\n      <td>spotify:album:10H4nbqjbmrGo4bG23dfWK</td>\n      <td>spotify:track:7CIkvtqLxM5mwDaItJDVuP</td>\n      <td>27.0</td>\n    </tr>\n    <tr>\n      <th>651</th>\n      <td>2021-03-15 11:31</td>\n      <td>Polo &amp; Pan</td>\n      <td>Peter Pan</td>\n      <td>237680</td>\n      <td>spotify:artist:45yEuthJ9yq1rNXAOpBnqM</td>\n      <td>spotify:album:10H4nbqjbmrGo4bG23dfWK</td>\n      <td>spotify:track:7CIkvtqLxM5mwDaItJDVuP</td>\n      <td>27.0</td>\n    </tr>\n    <tr>\n      <th>810</th>\n      <td>2021-03-18 12:31</td>\n      <td>Polo &amp; Pan</td>\n      <td>Peter Pan</td>\n      <td>15206</td>\n      <td>spotify:artist:45yEuthJ9yq1rNXAOpBnqM</td>\n      <td>spotify:album:10H4nbqjbmrGo4bG23dfWK</td>\n      <td>spotify:track:7CIkvtqLxM5mwDaItJDVuP</td>\n      <td>27.0</td>\n    </tr>\n    <tr>\n      <th>862</th>\n      <td>2021-03-20 23:51</td>\n      <td>Polo &amp; Pan</td>\n      <td>Peter Pan</td>\n      <td>237680</td>\n      <td>spotify:artist:45yEuthJ9yq1rNXAOpBnqM</td>\n      <td>spotify:album:10H4nbqjbmrGo4bG23dfWK</td>\n      <td>spotify:track:7CIkvtqLxM5mwDaItJDVuP</td>\n      <td>27.0</td>\n    </tr>\n    <tr>\n      <th>1102</th>\n      <td>2021-03-29 14:15</td>\n      <td>Polo &amp; Pan</td>\n      <td>Peter Pan</td>\n      <td>0</td>\n      <td>spotify:artist:45yEuthJ9yq1rNXAOpBnqM</td>\n      <td>spotify:album:10H4nbqjbmrGo4bG23dfWK</td>\n      <td>spotify:track:7CIkvtqLxM5mwDaItJDVuP</td>\n      <td>27.0</td>\n    </tr>\n    <tr>\n      <th>1104</th>\n      <td>2021-03-29 14:19</td>\n      <td>Polo &amp; Pan</td>\n      <td>Peter Pan</td>\n      <td>237680</td>\n      <td>spotify:artist:45yEuthJ9yq1rNXAOpBnqM</td>\n      <td>spotify:album:10H4nbqjbmrGo4bG23dfWK</td>\n      <td>spotify:track:7CIkvtqLxM5mwDaItJDVuP</td>\n      <td>27.0</td>\n    </tr>\n    <tr>\n      <th>2023</th>\n      <td>2021-05-04 23:27</td>\n      <td>Polo &amp; Pan</td>\n      <td>Peter Pan</td>\n      <td>170099</td>\n      <td>spotify:artist:45yEuthJ9yq1rNXAOpBnqM</td>\n      <td>spotify:album:10H4nbqjbmrGo4bG23dfWK</td>\n      <td>spotify:track:7CIkvtqLxM5mwDaItJDVuP</td>\n      <td>27.0</td>\n    </tr>\n    <tr>\n      <th>2338</th>\n      <td>2021-05-18 02:50</td>\n      <td>Polo &amp; Pan</td>\n      <td>Peter Pan</td>\n      <td>237680</td>\n      <td>spotify:artist:45yEuthJ9yq1rNXAOpBnqM</td>\n      <td>spotify:album:10H4nbqjbmrGo4bG23dfWK</td>\n      <td>spotify:track:7CIkvtqLxM5mwDaItJDVuP</td>\n      <td>27.0</td>\n    </tr>\n    <tr>\n      <th>6925</th>\n      <td>2021-12-09 07:58</td>\n      <td>Polo &amp; Pan</td>\n      <td>Peter Pan</td>\n      <td>16878</td>\n      <td>spotify:artist:45yEuthJ9yq1rNXAOpBnqM</td>\n      <td>spotify:album:10H4nbqjbmrGo4bG23dfWK</td>\n      <td>spotify:track:7CIkvtqLxM5mwDaItJDVuP</td>\n      <td>27.0</td>\n    </tr>\n  </tbody>\n</table>\n</div>"
     },
     "execution_count": 43,
     "metadata": {},
     "output_type": "execute_result"
    }
   ],
   "source": [
    "history[history['track_uri'] == 'spotify:track:7CIkvtqLxM5mwDaItJDVuP']"
   ],
   "metadata": {
    "collapsed": false,
    "pycharm": {
     "name": "#%%\n"
    }
   }
  },
  {
   "cell_type": "code",
   "execution_count": 45,
   "outputs": [],
   "source": [
    "history.to_csv('HistoryWithIDs.csv')"
   ],
   "metadata": {
    "collapsed": false,
    "pycharm": {
     "name": "#%%\n"
    }
   }
  },
  {
   "cell_type": "code",
   "execution_count": 18,
   "outputs": [],
   "source": [
    "songs = history.drop(columns=['endTime', 'msPlayed'])\n",
    "songs.drop_duplicates(subset='track_uri', inplace=True)\n",
    "songs.dropna(inplace=True)"
   ],
   "metadata": {
    "collapsed": false,
    "pycharm": {
     "name": "#%%\n"
    }
   }
  },
  {
   "cell_type": "code",
   "execution_count": 19,
   "outputs": [],
   "source": [
    "songs['acousticness'] = \"\"\n",
    "songs['danceability'] = \"\"\n",
    "songs['duration_ms'] = \"\"\n",
    "songs['energy'] = \"\"\n",
    "songs['instrumentalness'] = \"\"\n",
    "songs['key'] = \"\"\n",
    "songs['liveness'] = \"\"\n",
    "songs['loudness'] = \"\"\n",
    "songs['mode'] = \"\"\n",
    "songs['speechiness'] = \"\"\n",
    "songs['tempo'] = \"\"\n",
    "songs['time_signature'] = \"\"\n",
    "songs['valence'] = \"\""
   ],
   "metadata": {
    "collapsed": false,
    "pycharm": {
     "name": "#%%\n"
    }
   }
  },
  {
   "cell_type": "code",
   "execution_count": 46,
   "outputs": [],
   "source": [
    "songs.drop_duplicates(subset='track_uri').to_csv('SongsMetadata.csv')"
   ],
   "metadata": {
    "collapsed": false,
    "pycharm": {
     "name": "#%%\n"
    }
   }
  },
  {
   "cell_type": "code",
   "execution_count": null,
   "outputs": [],
   "source": [
    "for i in range(1, len(history)+1):\n",
    "    try:\n",
    "        id = history.loc[i]['track_uri'].split(':')[2]\n",
    "        search = sp.audio_features([id])\n",
    "\n",
    "        history.at[i, 'acousticness']       = search[0]['acousticness']\n",
    "        history.at[i, 'danceability']       = search[0]['danceability']\n",
    "        history.at[i, 'duration_ms']        = search[0]['duration_ms']\n",
    "        history.at[i, 'energy']             = search[0]['energy']\n",
    "        history.at[i, 'instrumentalness']   = search[0]['instrumentalness']\n",
    "        history.at[i, 'key']                = search[0]['key']\n",
    "        history.at[i, 'liveness']           = search[0]['liveness']\n",
    "        history.at[i, 'loudness']           = search[0]['loudness']\n",
    "        history.at[i, 'danceability']       = search[0]['danceability']\n",
    "        history.at[i, 'mode']               = search[0]['mode']\n",
    "        history.at[i, 'speechiness']        = search[0]['speechiness']\n",
    "        history.at[i, 'tempo']              = search[0]['tempo']\n",
    "        history.at[i, 'time_signature']     = search[0]['time_signature']\n",
    "        history.at[i, 'valence']            = search[0]['valence']\n",
    "\n",
    "        print('Fetched data from ', id)\n",
    "\n",
    "    except Exception as e:\n",
    "        print('EXCEPTION with id ', id)"
   ],
   "metadata": {
    "collapsed": false,
    "pycharm": {
     "name": "#%%\n"
    }
   }
  },
  {
   "cell_type": "code",
   "execution_count": 47,
   "outputs": [],
   "source": [
    "songs.to_csv('Songs_metadata.csv')"
   ],
   "metadata": {
    "collapsed": false,
    "pycharm": {
     "name": "#%%\n"
    }
   }
  },
  {
   "cell_type": "code",
   "execution_count": null,
   "outputs": [],
   "source": [],
   "metadata": {
    "collapsed": false,
    "pycharm": {
     "name": "#%%\n"
    }
   }
  }
 ],
 "metadata": {
  "kernelspec": {
   "display_name": "Python 3",
   "language": "python",
   "name": "python3"
  },
  "language_info": {
   "codemirror_mode": {
    "name": "ipython",
    "version": 2
   },
   "file_extension": ".py",
   "mimetype": "text/x-python",
   "name": "python",
   "nbconvert_exporter": "python",
   "pygments_lexer": "ipython2",
   "version": "2.7.6"
  }
 },
 "nbformat": 4,
 "nbformat_minor": 0
}