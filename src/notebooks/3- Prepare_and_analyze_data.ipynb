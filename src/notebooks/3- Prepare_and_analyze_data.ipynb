{
 "cells": [
  {
   "cell_type": "code",
   "execution_count": 3,
   "metadata": {
    "collapsed": true
   },
   "outputs": [],
   "source": [
    "import pandas as pd\n",
    "import seaborn as sns\n",
    "import matplotlib.pyplot as plt\n",
    "%matplotlib inline"
   ]
  },
  {
   "cell_type": "markdown",
   "source": [
    "# Loading data"
   ],
   "metadata": {
    "collapsed": false
   }
  },
  {
   "cell_type": "code",
   "execution_count": 4,
   "outputs": [],
   "source": [
    "metadata = pd.read_csv('../data/processed/metadata.csv', index_col='SongID')\n",
    "\n",
    "\n",
    "#Load from server. It may take long for slow connections.\n",
    "#location = 'https://projects.danielvivas.com/song_recommender/train_triplets.txt'\n",
    "\n",
    "#Sample file for slow connections.\n",
    "#location = '../data/raw/TasteProfile/train_triplets_sample.txt'\n",
    "\n",
    "#Load from local\n",
    "location = '../data/raw/TasteProfile/train_triplets.txt'\n",
    "\n",
    "triplets = pd.read_csv(location,\n",
    "                       sep='\\t', names=['UserID', 'SongID', 'playCount'], index_col='SongID')"
   ],
   "metadata": {
    "collapsed": false,
    "pycharm": {
     "name": "#%%\n"
    }
   }
  },
  {
   "cell_type": "markdown",
   "source": [
    "# Operations\n",
    "\n",
    "Let's merge both datasets. Then, we create a new row with a title - artist string. We'll need it for the recommendation phase."
   ],
   "metadata": {
    "collapsed": false
   }
  },
  {
   "cell_type": "code",
   "execution_count": 5,
   "outputs": [
    {
     "data": {
      "text/plain": "                    AlbumID                   AlbumName            ArtistID  \\\nSongID                                                                        \nSOCIWDW12A8C13D406   300822                  Dimensions  ARMJAGH1187FB546F3   \nSOCIWDW12A8C13D406   300822                  Dimensions  ARMJAGH1187FB546F3   \nSOCIWDW12A8C13D406   300822                  Dimensions  ARMJAGH1187FB546F3   \nSOCIWDW12A8C13D406   300822                  Dimensions  ARMJAGH1187FB546F3   \nSOCIWDW12A8C13D406   300822                  Dimensions  ARMJAGH1187FB546F3   \n...                     ...                         ...                 ...   \nSOFAOMI12A6D4FA2D8    64501  Once Upon A Shattered Life  ARYXOV81187B99831D   \nSOFAOMI12A6D4FA2D8    64501  Once Upon A Shattered Life  ARYXOV81187B99831D   \nSOFAOMI12A6D4FA2D8    64501  Once Upon A Shattered Life  ARYXOV81187B99831D   \nSOFAOMI12A6D4FA2D8    64501  Once Upon A Shattered Life  ARYXOV81187B99831D   \nSOFAOMI12A6D4FA2D8    64501  Once Upon A Shattered Life  ARYXOV81187B99831D   \n\n                             ArtistName   Duration    Tempo  TimeSignature  \\\nSongID                                                                       \nSOCIWDW12A8C13D406         The Box Tops  148.03546  121.274              4   \nSOCIWDW12A8C13D406         The Box Tops  148.03546  121.274              4   \nSOCIWDW12A8C13D406         The Box Tops  148.03546  121.274              4   \nSOCIWDW12A8C13D406         The Box Tops  148.03546  121.274              4   \nSOCIWDW12A8C13D406         The Box Tops  148.03546  121.274              4   \n...                                 ...        ...      ...            ...   \nSOFAOMI12A6D4FA2D8  Seventh Day Slumber  209.73669  150.575              4   \nSOFAOMI12A6D4FA2D8  Seventh Day Slumber  209.73669  150.575              4   \nSOFAOMI12A6D4FA2D8  Seventh Day Slumber  209.73669  150.575              4   \nSOFAOMI12A6D4FA2D8  Seventh Day Slumber  209.73669  150.575              4   \nSOFAOMI12A6D4FA2D8  Seventh Day Slumber  209.73669  150.575              4   \n\n                             Title  ArtistFamiliarity  ArtistHotttnesss  \\\nSongID                                                                    \nSOCIWDW12A8C13D406       Soul Deep           0.630630          0.417500   \nSOCIWDW12A8C13D406       Soul Deep           0.630630          0.417500   \nSOCIWDW12A8C13D406       Soul Deep           0.630630          0.417500   \nSOCIWDW12A8C13D406       Soul Deep           0.630630          0.417500   \nSOCIWDW12A8C13D406       Soul Deep           0.630630          0.417500   \n...                            ...                ...               ...   \nSOFAOMI12A6D4FA2D8  Shattered Life           0.609182          0.509243   \nSOFAOMI12A6D4FA2D8  Shattered Life           0.609182          0.509243   \nSOFAOMI12A6D4FA2D8  Shattered Life           0.609182          0.509243   \nSOFAOMI12A6D4FA2D8  Shattered Life           0.609182          0.509243   \nSOFAOMI12A6D4FA2D8  Shattered Life           0.609182          0.509243   \n\n                    Loudness  StartOfFadeOut  \\\nSongID                                         \nSOCIWDW12A8C13D406    -9.843         137.915   \nSOCIWDW12A8C13D406    -9.843         137.915   \nSOCIWDW12A8C13D406    -9.843         137.915   \nSOCIWDW12A8C13D406    -9.843         137.915   \nSOCIWDW12A8C13D406    -9.843         137.915   \n...                      ...             ...   \nSOFAOMI12A6D4FA2D8    -5.324         193.167   \nSOFAOMI12A6D4FA2D8    -5.324         193.167   \nSOFAOMI12A6D4FA2D8    -5.324         193.167   \nSOFAOMI12A6D4FA2D8    -5.324         193.167   \nSOFAOMI12A6D4FA2D8    -5.324         193.167   \n\n                                                      UserID  playCount  \\\nSongID                                                                    \nSOCIWDW12A8C13D406  84ce6a9b05c928a12f052c78554ac74a88fb28b5          3   \nSOCIWDW12A8C13D406  6280dcb18e0a8d7e5b1e578b6e1d4edea1cfb9c8          1   \nSOCIWDW12A8C13D406  793a4e91553a4c61e516b66dc5bc9600a05ce1a3          1   \nSOCIWDW12A8C13D406  577304f2958b48b89e6acfa490e61ac5b643703b          2   \nSOCIWDW12A8C13D406  cd6f72af6795e918979be23251f5b14c642c9a00          1   \n...                                                      ...        ...   \nSOFAOMI12A6D4FA2D8  0e22f172b4023358903998b836a6fa392b2304e6          2   \nSOFAOMI12A6D4FA2D8  e593c4a4d6c5baa14a2dc69c39c54cd89bbc6a2c          1   \nSOFAOMI12A6D4FA2D8  ea762927a6f57267acdcca2b0d4b080b17ef85f9          4   \nSOFAOMI12A6D4FA2D8  1cdd1def9f4926dd04ae41a7b8d59b43bce5bf29          2   \nSOFAOMI12A6D4FA2D8  735fa62d5853d49654caebe7f88ef5fcd3dccd1a          2   \n\n                                                    song  \nSongID                                                    \nSOCIWDW12A8C13D406              Soul Deep - The Box Tops  \nSOCIWDW12A8C13D406              Soul Deep - The Box Tops  \nSOCIWDW12A8C13D406              Soul Deep - The Box Tops  \nSOCIWDW12A8C13D406              Soul Deep - The Box Tops  \nSOCIWDW12A8C13D406              Soul Deep - The Box Tops  \n...                                                  ...  \nSOFAOMI12A6D4FA2D8  Shattered Life - Seventh Day Slumber  \nSOFAOMI12A6D4FA2D8  Shattered Life - Seventh Day Slumber  \nSOFAOMI12A6D4FA2D8  Shattered Life - Seventh Day Slumber  \nSOFAOMI12A6D4FA2D8  Shattered Life - Seventh Day Slumber  \nSOFAOMI12A6D4FA2D8  Shattered Life - Seventh Day Slumber  \n\n[771510 rows x 15 columns]",
      "text/html": "<div>\n<style scoped>\n    .dataframe tbody tr th:only-of-type {\n        vertical-align: middle;\n    }\n\n    .dataframe tbody tr th {\n        vertical-align: top;\n    }\n\n    .dataframe thead th {\n        text-align: right;\n    }\n</style>\n<table border=\"1\" class=\"dataframe\">\n  <thead>\n    <tr style=\"text-align: right;\">\n      <th></th>\n      <th>AlbumID</th>\n      <th>AlbumName</th>\n      <th>ArtistID</th>\n      <th>ArtistName</th>\n      <th>Duration</th>\n      <th>Tempo</th>\n      <th>TimeSignature</th>\n      <th>Title</th>\n      <th>ArtistFamiliarity</th>\n      <th>ArtistHotttnesss</th>\n      <th>Loudness</th>\n      <th>StartOfFadeOut</th>\n      <th>UserID</th>\n      <th>playCount</th>\n      <th>song</th>\n    </tr>\n    <tr>\n      <th>SongID</th>\n      <th></th>\n      <th></th>\n      <th></th>\n      <th></th>\n      <th></th>\n      <th></th>\n      <th></th>\n      <th></th>\n      <th></th>\n      <th></th>\n      <th></th>\n      <th></th>\n      <th></th>\n      <th></th>\n      <th></th>\n    </tr>\n  </thead>\n  <tbody>\n    <tr>\n      <th>SOCIWDW12A8C13D406</th>\n      <td>300822</td>\n      <td>Dimensions</td>\n      <td>ARMJAGH1187FB546F3</td>\n      <td>The Box Tops</td>\n      <td>148.03546</td>\n      <td>121.274</td>\n      <td>4</td>\n      <td>Soul Deep</td>\n      <td>0.630630</td>\n      <td>0.417500</td>\n      <td>-9.843</td>\n      <td>137.915</td>\n      <td>84ce6a9b05c928a12f052c78554ac74a88fb28b5</td>\n      <td>3</td>\n      <td>Soul Deep - The Box Tops</td>\n    </tr>\n    <tr>\n      <th>SOCIWDW12A8C13D406</th>\n      <td>300822</td>\n      <td>Dimensions</td>\n      <td>ARMJAGH1187FB546F3</td>\n      <td>The Box Tops</td>\n      <td>148.03546</td>\n      <td>121.274</td>\n      <td>4</td>\n      <td>Soul Deep</td>\n      <td>0.630630</td>\n      <td>0.417500</td>\n      <td>-9.843</td>\n      <td>137.915</td>\n      <td>6280dcb18e0a8d7e5b1e578b6e1d4edea1cfb9c8</td>\n      <td>1</td>\n      <td>Soul Deep - The Box Tops</td>\n    </tr>\n    <tr>\n      <th>SOCIWDW12A8C13D406</th>\n      <td>300822</td>\n      <td>Dimensions</td>\n      <td>ARMJAGH1187FB546F3</td>\n      <td>The Box Tops</td>\n      <td>148.03546</td>\n      <td>121.274</td>\n      <td>4</td>\n      <td>Soul Deep</td>\n      <td>0.630630</td>\n      <td>0.417500</td>\n      <td>-9.843</td>\n      <td>137.915</td>\n      <td>793a4e91553a4c61e516b66dc5bc9600a05ce1a3</td>\n      <td>1</td>\n      <td>Soul Deep - The Box Tops</td>\n    </tr>\n    <tr>\n      <th>SOCIWDW12A8C13D406</th>\n      <td>300822</td>\n      <td>Dimensions</td>\n      <td>ARMJAGH1187FB546F3</td>\n      <td>The Box Tops</td>\n      <td>148.03546</td>\n      <td>121.274</td>\n      <td>4</td>\n      <td>Soul Deep</td>\n      <td>0.630630</td>\n      <td>0.417500</td>\n      <td>-9.843</td>\n      <td>137.915</td>\n      <td>577304f2958b48b89e6acfa490e61ac5b643703b</td>\n      <td>2</td>\n      <td>Soul Deep - The Box Tops</td>\n    </tr>\n    <tr>\n      <th>SOCIWDW12A8C13D406</th>\n      <td>300822</td>\n      <td>Dimensions</td>\n      <td>ARMJAGH1187FB546F3</td>\n      <td>The Box Tops</td>\n      <td>148.03546</td>\n      <td>121.274</td>\n      <td>4</td>\n      <td>Soul Deep</td>\n      <td>0.630630</td>\n      <td>0.417500</td>\n      <td>-9.843</td>\n      <td>137.915</td>\n      <td>cd6f72af6795e918979be23251f5b14c642c9a00</td>\n      <td>1</td>\n      <td>Soul Deep - The Box Tops</td>\n    </tr>\n    <tr>\n      <th>...</th>\n      <td>...</td>\n      <td>...</td>\n      <td>...</td>\n      <td>...</td>\n      <td>...</td>\n      <td>...</td>\n      <td>...</td>\n      <td>...</td>\n      <td>...</td>\n      <td>...</td>\n      <td>...</td>\n      <td>...</td>\n      <td>...</td>\n      <td>...</td>\n      <td>...</td>\n    </tr>\n    <tr>\n      <th>SOFAOMI12A6D4FA2D8</th>\n      <td>64501</td>\n      <td>Once Upon A Shattered Life</td>\n      <td>ARYXOV81187B99831D</td>\n      <td>Seventh Day Slumber</td>\n      <td>209.73669</td>\n      <td>150.575</td>\n      <td>4</td>\n      <td>Shattered Life</td>\n      <td>0.609182</td>\n      <td>0.509243</td>\n      <td>-5.324</td>\n      <td>193.167</td>\n      <td>0e22f172b4023358903998b836a6fa392b2304e6</td>\n      <td>2</td>\n      <td>Shattered Life - Seventh Day Slumber</td>\n    </tr>\n    <tr>\n      <th>SOFAOMI12A6D4FA2D8</th>\n      <td>64501</td>\n      <td>Once Upon A Shattered Life</td>\n      <td>ARYXOV81187B99831D</td>\n      <td>Seventh Day Slumber</td>\n      <td>209.73669</td>\n      <td>150.575</td>\n      <td>4</td>\n      <td>Shattered Life</td>\n      <td>0.609182</td>\n      <td>0.509243</td>\n      <td>-5.324</td>\n      <td>193.167</td>\n      <td>e593c4a4d6c5baa14a2dc69c39c54cd89bbc6a2c</td>\n      <td>1</td>\n      <td>Shattered Life - Seventh Day Slumber</td>\n    </tr>\n    <tr>\n      <th>SOFAOMI12A6D4FA2D8</th>\n      <td>64501</td>\n      <td>Once Upon A Shattered Life</td>\n      <td>ARYXOV81187B99831D</td>\n      <td>Seventh Day Slumber</td>\n      <td>209.73669</td>\n      <td>150.575</td>\n      <td>4</td>\n      <td>Shattered Life</td>\n      <td>0.609182</td>\n      <td>0.509243</td>\n      <td>-5.324</td>\n      <td>193.167</td>\n      <td>ea762927a6f57267acdcca2b0d4b080b17ef85f9</td>\n      <td>4</td>\n      <td>Shattered Life - Seventh Day Slumber</td>\n    </tr>\n    <tr>\n      <th>SOFAOMI12A6D4FA2D8</th>\n      <td>64501</td>\n      <td>Once Upon A Shattered Life</td>\n      <td>ARYXOV81187B99831D</td>\n      <td>Seventh Day Slumber</td>\n      <td>209.73669</td>\n      <td>150.575</td>\n      <td>4</td>\n      <td>Shattered Life</td>\n      <td>0.609182</td>\n      <td>0.509243</td>\n      <td>-5.324</td>\n      <td>193.167</td>\n      <td>1cdd1def9f4926dd04ae41a7b8d59b43bce5bf29</td>\n      <td>2</td>\n      <td>Shattered Life - Seventh Day Slumber</td>\n    </tr>\n    <tr>\n      <th>SOFAOMI12A6D4FA2D8</th>\n      <td>64501</td>\n      <td>Once Upon A Shattered Life</td>\n      <td>ARYXOV81187B99831D</td>\n      <td>Seventh Day Slumber</td>\n      <td>209.73669</td>\n      <td>150.575</td>\n      <td>4</td>\n      <td>Shattered Life</td>\n      <td>0.609182</td>\n      <td>0.509243</td>\n      <td>-5.324</td>\n      <td>193.167</td>\n      <td>735fa62d5853d49654caebe7f88ef5fcd3dccd1a</td>\n      <td>2</td>\n      <td>Shattered Life - Seventh Day Slumber</td>\n    </tr>\n  </tbody>\n</table>\n<p>771510 rows × 15 columns</p>\n</div>"
     },
     "execution_count": 5,
     "metadata": {},
     "output_type": "execute_result"
    }
   ],
   "source": [
    "result = pd.merge(left=metadata, right=triplets, on='SongID')\n",
    "\n",
    "result['song'] = result['Title'].map(str) + \" - \" + result['ArtistName']\n",
    "\n",
    "result.drop(columns= ['SongNumber'])"
   ],
   "metadata": {
    "collapsed": false,
    "pycharm": {
     "name": "#%%\n"
    }
   }
  },
  {
   "cell_type": "code",
   "execution_count": 6,
   "outputs": [
    {
     "data": {
      "text/plain": "                    SongNumber  AlbumID                   AlbumName  \\\nSongID                                                                \nSOCIWDW12A8C13D406           2   300822                  Dimensions   \nSOCIWDW12A8C13D406           2   300822                  Dimensions   \nSOCIWDW12A8C13D406           2   300822                  Dimensions   \nSOCIWDW12A8C13D406           2   300822                  Dimensions   \nSOCIWDW12A8C13D406           2   300822                  Dimensions   \n...                        ...      ...                         ...   \nSOFAOMI12A6D4FA2D8       10000    64501  Once Upon A Shattered Life   \nSOFAOMI12A6D4FA2D8       10000    64501  Once Upon A Shattered Life   \nSOFAOMI12A6D4FA2D8       10000    64501  Once Upon A Shattered Life   \nSOFAOMI12A6D4FA2D8       10000    64501  Once Upon A Shattered Life   \nSOFAOMI12A6D4FA2D8       10000    64501  Once Upon A Shattered Life   \n\n                              ArtistID           ArtistName   Duration  \\\nSongID                                                                   \nSOCIWDW12A8C13D406  ARMJAGH1187FB546F3         The Box Tops  148.03546   \nSOCIWDW12A8C13D406  ARMJAGH1187FB546F3         The Box Tops  148.03546   \nSOCIWDW12A8C13D406  ARMJAGH1187FB546F3         The Box Tops  148.03546   \nSOCIWDW12A8C13D406  ARMJAGH1187FB546F3         The Box Tops  148.03546   \nSOCIWDW12A8C13D406  ARMJAGH1187FB546F3         The Box Tops  148.03546   \n...                                ...                  ...        ...   \nSOFAOMI12A6D4FA2D8  ARYXOV81187B99831D  Seventh Day Slumber  209.73669   \nSOFAOMI12A6D4FA2D8  ARYXOV81187B99831D  Seventh Day Slumber  209.73669   \nSOFAOMI12A6D4FA2D8  ARYXOV81187B99831D  Seventh Day Slumber  209.73669   \nSOFAOMI12A6D4FA2D8  ARYXOV81187B99831D  Seventh Day Slumber  209.73669   \nSOFAOMI12A6D4FA2D8  ARYXOV81187B99831D  Seventh Day Slumber  209.73669   \n\n                      Tempo  TimeSignature           Title  ArtistFamiliarity  \\\nSongID                                                                          \nSOCIWDW12A8C13D406  121.274              4       Soul Deep           0.630630   \nSOCIWDW12A8C13D406  121.274              4       Soul Deep           0.630630   \nSOCIWDW12A8C13D406  121.274              4       Soul Deep           0.630630   \nSOCIWDW12A8C13D406  121.274              4       Soul Deep           0.630630   \nSOCIWDW12A8C13D406  121.274              4       Soul Deep           0.630630   \n...                     ...            ...             ...                ...   \nSOFAOMI12A6D4FA2D8  150.575              4  Shattered Life           0.609182   \nSOFAOMI12A6D4FA2D8  150.575              4  Shattered Life           0.609182   \nSOFAOMI12A6D4FA2D8  150.575              4  Shattered Life           0.609182   \nSOFAOMI12A6D4FA2D8  150.575              4  Shattered Life           0.609182   \nSOFAOMI12A6D4FA2D8  150.575              4  Shattered Life           0.609182   \n\n                    ArtistHotttnesss  Loudness  StartOfFadeOut  \\\nSongID                                                           \nSOCIWDW12A8C13D406          0.417500    -9.843         137.915   \nSOCIWDW12A8C13D406          0.417500    -9.843         137.915   \nSOCIWDW12A8C13D406          0.417500    -9.843         137.915   \nSOCIWDW12A8C13D406          0.417500    -9.843         137.915   \nSOCIWDW12A8C13D406          0.417500    -9.843         137.915   \n...                              ...       ...             ...   \nSOFAOMI12A6D4FA2D8          0.509243    -5.324         193.167   \nSOFAOMI12A6D4FA2D8          0.509243    -5.324         193.167   \nSOFAOMI12A6D4FA2D8          0.509243    -5.324         193.167   \nSOFAOMI12A6D4FA2D8          0.509243    -5.324         193.167   \nSOFAOMI12A6D4FA2D8          0.509243    -5.324         193.167   \n\n                                                      UserID  playCount  \\\nSongID                                                                    \nSOCIWDW12A8C13D406  84ce6a9b05c928a12f052c78554ac74a88fb28b5          3   \nSOCIWDW12A8C13D406  6280dcb18e0a8d7e5b1e578b6e1d4edea1cfb9c8          1   \nSOCIWDW12A8C13D406  793a4e91553a4c61e516b66dc5bc9600a05ce1a3          1   \nSOCIWDW12A8C13D406  577304f2958b48b89e6acfa490e61ac5b643703b          2   \nSOCIWDW12A8C13D406  cd6f72af6795e918979be23251f5b14c642c9a00          1   \n...                                                      ...        ...   \nSOFAOMI12A6D4FA2D8  0e22f172b4023358903998b836a6fa392b2304e6          2   \nSOFAOMI12A6D4FA2D8  e593c4a4d6c5baa14a2dc69c39c54cd89bbc6a2c          1   \nSOFAOMI12A6D4FA2D8  ea762927a6f57267acdcca2b0d4b080b17ef85f9          4   \nSOFAOMI12A6D4FA2D8  1cdd1def9f4926dd04ae41a7b8d59b43bce5bf29          2   \nSOFAOMI12A6D4FA2D8  735fa62d5853d49654caebe7f88ef5fcd3dccd1a          2   \n\n                                                    song  \nSongID                                                    \nSOCIWDW12A8C13D406              Soul Deep - The Box Tops  \nSOCIWDW12A8C13D406              Soul Deep - The Box Tops  \nSOCIWDW12A8C13D406              Soul Deep - The Box Tops  \nSOCIWDW12A8C13D406              Soul Deep - The Box Tops  \nSOCIWDW12A8C13D406              Soul Deep - The Box Tops  \n...                                                  ...  \nSOFAOMI12A6D4FA2D8  Shattered Life - Seventh Day Slumber  \nSOFAOMI12A6D4FA2D8  Shattered Life - Seventh Day Slumber  \nSOFAOMI12A6D4FA2D8  Shattered Life - Seventh Day Slumber  \nSOFAOMI12A6D4FA2D8  Shattered Life - Seventh Day Slumber  \nSOFAOMI12A6D4FA2D8  Shattered Life - Seventh Day Slumber  \n\n[771510 rows x 16 columns]",
      "text/html": "<div>\n<style scoped>\n    .dataframe tbody tr th:only-of-type {\n        vertical-align: middle;\n    }\n\n    .dataframe tbody tr th {\n        vertical-align: top;\n    }\n\n    .dataframe thead th {\n        text-align: right;\n    }\n</style>\n<table border=\"1\" class=\"dataframe\">\n  <thead>\n    <tr style=\"text-align: right;\">\n      <th></th>\n      <th>SongNumber</th>\n      <th>AlbumID</th>\n      <th>AlbumName</th>\n      <th>ArtistID</th>\n      <th>ArtistName</th>\n      <th>Duration</th>\n      <th>Tempo</th>\n      <th>TimeSignature</th>\n      <th>Title</th>\n      <th>ArtistFamiliarity</th>\n      <th>ArtistHotttnesss</th>\n      <th>Loudness</th>\n      <th>StartOfFadeOut</th>\n      <th>UserID</th>\n      <th>playCount</th>\n      <th>song</th>\n    </tr>\n    <tr>\n      <th>SongID</th>\n      <th></th>\n      <th></th>\n      <th></th>\n      <th></th>\n      <th></th>\n      <th></th>\n      <th></th>\n      <th></th>\n      <th></th>\n      <th></th>\n      <th></th>\n      <th></th>\n      <th></th>\n      <th></th>\n      <th></th>\n      <th></th>\n    </tr>\n  </thead>\n  <tbody>\n    <tr>\n      <th>SOCIWDW12A8C13D406</th>\n      <td>2</td>\n      <td>300822</td>\n      <td>Dimensions</td>\n      <td>ARMJAGH1187FB546F3</td>\n      <td>The Box Tops</td>\n      <td>148.03546</td>\n      <td>121.274</td>\n      <td>4</td>\n      <td>Soul Deep</td>\n      <td>0.630630</td>\n      <td>0.417500</td>\n      <td>-9.843</td>\n      <td>137.915</td>\n      <td>84ce6a9b05c928a12f052c78554ac74a88fb28b5</td>\n      <td>3</td>\n      <td>Soul Deep - The Box Tops</td>\n    </tr>\n    <tr>\n      <th>SOCIWDW12A8C13D406</th>\n      <td>2</td>\n      <td>300822</td>\n      <td>Dimensions</td>\n      <td>ARMJAGH1187FB546F3</td>\n      <td>The Box Tops</td>\n      <td>148.03546</td>\n      <td>121.274</td>\n      <td>4</td>\n      <td>Soul Deep</td>\n      <td>0.630630</td>\n      <td>0.417500</td>\n      <td>-9.843</td>\n      <td>137.915</td>\n      <td>6280dcb18e0a8d7e5b1e578b6e1d4edea1cfb9c8</td>\n      <td>1</td>\n      <td>Soul Deep - The Box Tops</td>\n    </tr>\n    <tr>\n      <th>SOCIWDW12A8C13D406</th>\n      <td>2</td>\n      <td>300822</td>\n      <td>Dimensions</td>\n      <td>ARMJAGH1187FB546F3</td>\n      <td>The Box Tops</td>\n      <td>148.03546</td>\n      <td>121.274</td>\n      <td>4</td>\n      <td>Soul Deep</td>\n      <td>0.630630</td>\n      <td>0.417500</td>\n      <td>-9.843</td>\n      <td>137.915</td>\n      <td>793a4e91553a4c61e516b66dc5bc9600a05ce1a3</td>\n      <td>1</td>\n      <td>Soul Deep - The Box Tops</td>\n    </tr>\n    <tr>\n      <th>SOCIWDW12A8C13D406</th>\n      <td>2</td>\n      <td>300822</td>\n      <td>Dimensions</td>\n      <td>ARMJAGH1187FB546F3</td>\n      <td>The Box Tops</td>\n      <td>148.03546</td>\n      <td>121.274</td>\n      <td>4</td>\n      <td>Soul Deep</td>\n      <td>0.630630</td>\n      <td>0.417500</td>\n      <td>-9.843</td>\n      <td>137.915</td>\n      <td>577304f2958b48b89e6acfa490e61ac5b643703b</td>\n      <td>2</td>\n      <td>Soul Deep - The Box Tops</td>\n    </tr>\n    <tr>\n      <th>SOCIWDW12A8C13D406</th>\n      <td>2</td>\n      <td>300822</td>\n      <td>Dimensions</td>\n      <td>ARMJAGH1187FB546F3</td>\n      <td>The Box Tops</td>\n      <td>148.03546</td>\n      <td>121.274</td>\n      <td>4</td>\n      <td>Soul Deep</td>\n      <td>0.630630</td>\n      <td>0.417500</td>\n      <td>-9.843</td>\n      <td>137.915</td>\n      <td>cd6f72af6795e918979be23251f5b14c642c9a00</td>\n      <td>1</td>\n      <td>Soul Deep - The Box Tops</td>\n    </tr>\n    <tr>\n      <th>...</th>\n      <td>...</td>\n      <td>...</td>\n      <td>...</td>\n      <td>...</td>\n      <td>...</td>\n      <td>...</td>\n      <td>...</td>\n      <td>...</td>\n      <td>...</td>\n      <td>...</td>\n      <td>...</td>\n      <td>...</td>\n      <td>...</td>\n      <td>...</td>\n      <td>...</td>\n      <td>...</td>\n    </tr>\n    <tr>\n      <th>SOFAOMI12A6D4FA2D8</th>\n      <td>10000</td>\n      <td>64501</td>\n      <td>Once Upon A Shattered Life</td>\n      <td>ARYXOV81187B99831D</td>\n      <td>Seventh Day Slumber</td>\n      <td>209.73669</td>\n      <td>150.575</td>\n      <td>4</td>\n      <td>Shattered Life</td>\n      <td>0.609182</td>\n      <td>0.509243</td>\n      <td>-5.324</td>\n      <td>193.167</td>\n      <td>0e22f172b4023358903998b836a6fa392b2304e6</td>\n      <td>2</td>\n      <td>Shattered Life - Seventh Day Slumber</td>\n    </tr>\n    <tr>\n      <th>SOFAOMI12A6D4FA2D8</th>\n      <td>10000</td>\n      <td>64501</td>\n      <td>Once Upon A Shattered Life</td>\n      <td>ARYXOV81187B99831D</td>\n      <td>Seventh Day Slumber</td>\n      <td>209.73669</td>\n      <td>150.575</td>\n      <td>4</td>\n      <td>Shattered Life</td>\n      <td>0.609182</td>\n      <td>0.509243</td>\n      <td>-5.324</td>\n      <td>193.167</td>\n      <td>e593c4a4d6c5baa14a2dc69c39c54cd89bbc6a2c</td>\n      <td>1</td>\n      <td>Shattered Life - Seventh Day Slumber</td>\n    </tr>\n    <tr>\n      <th>SOFAOMI12A6D4FA2D8</th>\n      <td>10000</td>\n      <td>64501</td>\n      <td>Once Upon A Shattered Life</td>\n      <td>ARYXOV81187B99831D</td>\n      <td>Seventh Day Slumber</td>\n      <td>209.73669</td>\n      <td>150.575</td>\n      <td>4</td>\n      <td>Shattered Life</td>\n      <td>0.609182</td>\n      <td>0.509243</td>\n      <td>-5.324</td>\n      <td>193.167</td>\n      <td>ea762927a6f57267acdcca2b0d4b080b17ef85f9</td>\n      <td>4</td>\n      <td>Shattered Life - Seventh Day Slumber</td>\n    </tr>\n    <tr>\n      <th>SOFAOMI12A6D4FA2D8</th>\n      <td>10000</td>\n      <td>64501</td>\n      <td>Once Upon A Shattered Life</td>\n      <td>ARYXOV81187B99831D</td>\n      <td>Seventh Day Slumber</td>\n      <td>209.73669</td>\n      <td>150.575</td>\n      <td>4</td>\n      <td>Shattered Life</td>\n      <td>0.609182</td>\n      <td>0.509243</td>\n      <td>-5.324</td>\n      <td>193.167</td>\n      <td>1cdd1def9f4926dd04ae41a7b8d59b43bce5bf29</td>\n      <td>2</td>\n      <td>Shattered Life - Seventh Day Slumber</td>\n    </tr>\n    <tr>\n      <th>SOFAOMI12A6D4FA2D8</th>\n      <td>10000</td>\n      <td>64501</td>\n      <td>Once Upon A Shattered Life</td>\n      <td>ARYXOV81187B99831D</td>\n      <td>Seventh Day Slumber</td>\n      <td>209.73669</td>\n      <td>150.575</td>\n      <td>4</td>\n      <td>Shattered Life</td>\n      <td>0.609182</td>\n      <td>0.509243</td>\n      <td>-5.324</td>\n      <td>193.167</td>\n      <td>735fa62d5853d49654caebe7f88ef5fcd3dccd1a</td>\n      <td>2</td>\n      <td>Shattered Life - Seventh Day Slumber</td>\n    </tr>\n  </tbody>\n</table>\n<p>771510 rows × 16 columns</p>\n</div>"
     },
     "execution_count": 6,
     "metadata": {},
     "output_type": "execute_result"
    }
   ],
   "source": [
    "result"
   ],
   "metadata": {
    "collapsed": false,
    "pycharm": {
     "name": "#%%\n"
    }
   }
  },
  {
   "cell_type": "code",
   "execution_count": 7,
   "outputs": [],
   "source": [
    "result.to_csv('../data/processed/fulldata.csv')"
   ],
   "metadata": {
    "collapsed": false,
    "pycharm": {
     "name": "#%%\n"
    }
   }
  },
  {
   "cell_type": "code",
   "execution_count": 34,
   "outputs": [
    {
     "name": "stdout",
     "output_type": "stream",
     "text": [
      "Unique songs in metadata: 9470 \n",
      "\n",
      "Unique songs in triplets: 384546\n",
      "Unique users in triplets: 1019318 \n",
      "\n",
      "Unique songs in RESULT: 3626\n",
      "Unique users in RESULT: 417827 \n",
      "\n",
      "Unique songs in prueba: 3626\n",
      "Unique users in prueba: 417827\n"
     ]
    }
   ],
   "source": [
    "print('Unique songs in metadata:', metadata.shape[0], '\\n')\n",
    "print('Unique songs in triplets:', len(triplets.index.unique()))\n",
    "print('Unique users in triplets:', len(triplets['UserID'].unique()), '\\n')\n",
    "print('Unique songs in RESULT:', len(result.index.unique()))\n",
    "print('Unique users in RESULT:', len(result['UserID'].unique()), '\\n')\n",
    "\n",
    "prueba = triplets[triplets.index.isin(metadata.index.unique())]\n",
    "\n",
    "print('Unique songs in prueba:', len(prueba.index.unique()))\n",
    "print('Unique users in prueba:', len(prueba['UserID'].unique()))"
   ],
   "metadata": {
    "collapsed": false,
    "pycharm": {
     "name": "#%%\n"
    }
   }
  },
  {
   "cell_type": "code",
   "execution_count": 29,
   "outputs": [
    {
     "data": {
      "text/plain": "3626"
     },
     "execution_count": 29,
     "metadata": {},
     "output_type": "execute_result"
    }
   ],
   "source": [
    "len(prueba.index.unique())"
   ],
   "metadata": {
    "collapsed": false,
    "pycharm": {
     "name": "#%%\n"
    }
   }
  },
  {
   "cell_type": "markdown",
   "source": [
    "Just because the file is too big, let's save a sample for slow connections"
   ],
   "metadata": {
    "collapsed": false
   }
  },
  {
   "cell_type": "code",
   "execution_count": 1,
   "outputs": [
    {
     "ename": "NameError",
     "evalue": "name 'result' is not defined",
     "output_type": "error",
     "traceback": [
      "\u001B[1;31m---------------------------------------------------------------------------\u001B[0m",
      "\u001B[1;31mNameError\u001B[0m                                 Traceback (most recent call last)",
      "\u001B[1;32m~\\AppData\\Local\\Temp\\ipykernel_26436\\3977202413.py\u001B[0m in \u001B[0;36m<module>\u001B[1;34m\u001B[0m\n\u001B[1;32m----> 1\u001B[1;33m \u001B[0mresult\u001B[0m\u001B[1;33m[\u001B[0m\u001B[1;33m:\u001B[0m\u001B[1;36m10000\u001B[0m\u001B[1;33m]\u001B[0m\u001B[1;33m.\u001B[0m\u001B[0mto_csv\u001B[0m\u001B[1;33m(\u001B[0m\u001B[1;34m'../data/processed/fulldata_sample.csv'\u001B[0m\u001B[1;33m)\u001B[0m\u001B[1;33m\u001B[0m\u001B[0m\n\u001B[0m",
      "\u001B[1;31mNameError\u001B[0m: name 'result' is not defined"
     ]
    }
   ],
   "source": [
    "result[:10000].to_csv('../data/processed/fulldata_sample.csv')"
   ],
   "metadata": {
    "collapsed": false,
    "pycharm": {
     "name": "#%%\n"
    }
   }
  },
  {
   "cell_type": "markdown",
   "source": [],
   "metadata": {
    "collapsed": false
   }
  },
  {
   "cell_type": "code",
   "execution_count": null,
   "outputs": [],
   "source": [
    "song_grouped = result.groupby(['song']).agg({'playCount': 'count'}).reset_index()\n",
    "grouped_sum = song_grouped['playCount'].sum()\n",
    "song_grouped['percentage']  = song_grouped['playCount'].div(grouped_sum)*100\n",
    "song_grouped.sort_values(['playCount', 'song'], ascending = [0,1])"
   ],
   "metadata": {
    "collapsed": false,
    "pycharm": {
     "name": "#%%\n"
    }
   }
  },
  {
   "cell_type": "code",
   "execution_count": null,
   "outputs": [],
   "source": [
    "analysis = result[['Duration', 'Tempo', 'TimeSignature', 'ArtistFamiliarity', 'Loudness', 'StartOfFadeOut', 'playCount']]"
   ],
   "metadata": {
    "collapsed": false,
    "pycharm": {
     "name": "#%%\n"
    }
   }
  },
  {
   "cell_type": "code",
   "execution_count": null,
   "outputs": [],
   "source": [
    "sns.pairplot(analysis)"
   ],
   "metadata": {
    "collapsed": false,
    "pycharm": {
     "name": "#%%\n"
    }
   }
  },
  {
   "cell_type": "code",
   "execution_count": null,
   "outputs": [],
   "source": [
    "fig = plt.figure(figsize=(10, 10))\n",
    "sns.heatmap(result.corr(), annot=True)\n",
    "fig.show()"
   ],
   "metadata": {
    "collapsed": false,
    "pycharm": {
     "name": "#%%\n"
    }
   }
  },
  {
   "cell_type": "code",
   "execution_count": null,
   "outputs": [],
   "source": [
    "sns.scatterplot(data=result[['ArtistFamiliarity', 'playCount']], x='ArtistFamiliarity', y='playCount')"
   ],
   "metadata": {
    "collapsed": false,
    "pycharm": {
     "name": "#%%\n"
    }
   }
  },
  {
   "cell_type": "code",
   "execution_count": null,
   "outputs": [],
   "source": [
    "sns.scatterplot(data=result[['Loudness', 'playCount']], x='ArtistFamiliarity', y='playCount')"
   ],
   "metadata": {
    "collapsed": false,
    "pycharm": {
     "name": "#%%\n"
    }
   }
  }
 ],
 "metadata": {
  "kernelspec": {
   "display_name": "Python 3",
   "language": "python",
   "name": "python3"
  },
  "language_info": {
   "codemirror_mode": {
    "name": "ipython",
    "version": 2
   },
   "file_extension": ".py",
   "mimetype": "text/x-python",
   "name": "python",
   "nbconvert_exporter": "python",
   "pygments_lexer": "ipython2",
   "version": "2.7.6"
  }
 },
 "nbformat": 4,
 "nbformat_minor": 0
}