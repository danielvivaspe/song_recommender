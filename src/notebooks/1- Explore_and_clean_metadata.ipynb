{
 "cells": [
  {
   "cell_type": "code",
   "execution_count": 112,
   "outputs": [],
   "source": [
    "import h5py\n",
    "import pandas as pd\n",
    "import numpy as np"
   ],
   "metadata": {
    "collapsed": false,
    "pycharm": {
     "name": "#%%\n"
    }
   }
  },
  {
   "cell_type": "code",
   "execution_count": 113,
   "outputs": [],
   "source": [
    "metadata = pd.read_csv('../data/raw/MillionSongSubset/SongCSV.csv', index_col='SongNumber')"
   ],
   "metadata": {
    "collapsed": false,
    "pycharm": {
     "name": "#%%\n"
    }
   }
  },
  {
   "cell_type": "markdown",
   "source": [
    "# Initial data exploration\n"
   ],
   "metadata": {
    "collapsed": false,
    "pycharm": {
     "name": "#%% md\n"
    }
   }
  },
  {
   "cell_type": "code",
   "execution_count": 114,
   "outputs": [
    {
     "name": "stdout",
     "output_type": "stream",
     "text": [
      "<class 'pandas.core.frame.DataFrame'>\n",
      "Int64Index: 10000 entries, 1 to 10000\n",
      "Data columns (total 24 columns):\n",
      " #   Column                   Non-Null Count  Dtype  \n",
      "---  ------                   --------------  -----  \n",
      " 0   SongID                   10000 non-null  object \n",
      " 1   AlbumID                  10000 non-null  int64  \n",
      " 2   AlbumName                10000 non-null  object \n",
      " 3   ArtistID                 10000 non-null  object \n",
      " 4   ArtistLatitude           3742 non-null   float64\n",
      " 5   ArtistLocation           10000 non-null  object \n",
      " 6   ArtistLongitude          3742 non-null   float64\n",
      " 7   ArtistName               10000 non-null  object \n",
      " 8   Danceability             10000 non-null  float64\n",
      " 9   Duration                 10000 non-null  float64\n",
      " 10  KeySignature             10000 non-null  int64  \n",
      " 11  KeySignatureConfidence   10000 non-null  float64\n",
      " 12  Tempo                    10000 non-null  float64\n",
      " 13  TimeSignature            10000 non-null  int64  \n",
      " 14  TimeSignatureConfidence  10000 non-null  float64\n",
      " 15  Title                    10000 non-null  object \n",
      " 16  Year                     10000 non-null  int64  \n",
      " 17  ArtistFamiliarity        9996 non-null   float64\n",
      " 18  ArtistHotttnesss         10000 non-null  float64\n",
      " 19  SongHotttnesss           5648 non-null   float64\n",
      " 20  EndOfFadeIn              10000 non-null  float64\n",
      " 21  Energy                   10000 non-null  float64\n",
      " 22  Loudness                 10000 non-null  float64\n",
      " 23  StartOfFadeOut           10000 non-null  float64\n",
      "dtypes: float64(14), int64(4), object(6)\n",
      "memory usage: 1.9+ MB\n"
     ]
    }
   ],
   "source": [
    "#Initial data exploration\n",
    "metadata.info()"
   ],
   "metadata": {
    "collapsed": false,
    "pycharm": {
     "name": "#%%\n"
    }
   }
  },
  {
   "cell_type": "markdown",
   "source": [
    "ArtistLatitude, ArtistLongitude and SongHotttnesss have a lot of null values\n",
    "ArtistFamiliarity have a very few.\n",
    "\n",
    "So let's just drop the columns with a lot of nulls and delete rows with null ArtistFamiliarity values"
   ],
   "metadata": {
    "collapsed": false,
    "pycharm": {
     "name": "#%% md\n"
    }
   }
  },
  {
   "cell_type": "code",
   "execution_count": 115,
   "outputs": [
    {
     "data": {
      "text/plain": "                           SongID  AlbumID  \\\nSongNumber                                   \n1           b'SOMZWCG12A8C13C480'   300848   \n2           b'SOCIWDW12A8C13D406'   300822   \n3           b'SOXVLOJ12AB0189215'   514953   \n4           b'SONHOTT12A8C13493C'   287650   \n5           b'SOFSOCN12A8C143F5D'   611336   \n...                           ...      ...   \n9996        b'SOLXXPY12A67ADABA0'   691752   \n9997        b'SOAYONI12A6D4F85C8'    41649   \n9998        b'SOJZLAJ12AB017E8A2'   346402   \n9999        b'SORZSCJ12A8C132446'    86259   \n10000       b'SOFAOMI12A6D4FA2D8'    64501   \n\n                                         AlbumName               ArtistID  \\\nSongNumber                                                                  \n1                                   b'Fear Itself'  b'ARD7TVE1187B99BFB1'   \n2                                    b'Dimensions'  b'ARMJAGH1187FB546F3'   \n3           b'Las Numero 1 De La Sonora Santanera'  b'ARKRRTF1187B9984DA'   \n4                                 b'Friend Or Foe'  b'AR7G5I41187FB4CE6C'   \n5                                 b'Muertos Vivos'  b'ARXR32B1187FB57099'   \n...                                            ...                    ...   \n9996                               b'Sin / Pecado'  b'AR4C6V01187FB3BAF4'   \n9997                                 b'Collection'  b'AR9JLBU1187B9AAEC4'   \n9998                                    b'Reality'  b'ARS1DCR1187B9A4A56'   \n9999                             b'Nouveau Zydeco'  b'ARAGMIV11F4C843F78'   \n10000                b'Once Upon A Shattered Life'  b'ARYXOV81187B99831D'   \n\n                            ArtistLocation                   ArtistName  \\\nSongNumber                                                                \n1                       b'California - LA'                    b'Casual'   \n2                            b'Memphis TN'              b'The Box Tops'   \n3                                      b''          b'Sonora Santanera'   \n4                        b'London England'                  b'Adam Ant'   \n5                                      b''                       b'Gob'   \n...                                    ...                          ...   \n9996                           b'Portugal'                 b'Moonspell'   \n9997        b'Port Elizabeth South Africa'            b'Danny Williams'   \n9998                                   b''             b'Winston Reedy'   \n9999                                   b''  b'Myrick Freeze\" Guillory'\"   \n10000                                  b''       b'Seventh Day Slumber'   \n\n            Danceability   Duration  KeySignature  KeySignatureConfidence  \\\nSongNumber                                                                  \n1                    0.0  218.93179             1                   0.736   \n2                    0.0  148.03546             6                   0.169   \n3                    0.0  177.47546             8                   0.643   \n4                    0.0  233.40363             0                   0.751   \n5                    0.0  209.60608             2                   0.092   \n...                  ...        ...           ...                     ...   \n9996                 0.0  386.19383             7                   0.374   \n9997                 0.0  168.01914             8                   0.223   \n9998                 0.0  193.72363             1                   0.931   \n9999                 0.0  300.82567             0                   0.297   \n10000                0.0  209.73669             2                   0.315   \n\n            ...  TimeSignature  TimeSignatureConfidence  \\\nSongNumber  ...                                           \n1           ...              4                    0.778   \n2           ...              4                    0.384   \n3           ...              1                    0.000   \n4           ...              4                    0.000   \n5           ...              4                    0.562   \n...         ...            ...                      ...   \n9996        ...              4                    0.099   \n9997        ...              3                    0.597   \n9998        ...              4                    0.205   \n9999        ...              4                    0.000   \n10000       ...              4                    0.317   \n\n                                          Title  Year  ArtistFamiliarity  \\\nSongNumber                                                                 \n1                           bI Didn't Mean To\"\"     0           0.581794   \n2                                  b'Soul Deep'  1969           0.630630   \n3                            b'Amor De Cabaret'     0           0.487357   \n4                            b'Something Girls'  1982           0.630382   \n5                             b'Face the Ashes'  2007           0.651046   \n...                                         ...   ...                ...   \n9996                          b'The Hanged Man'  1998           0.722571   \n9997        b'The Wonderful World Of The Young'  1998           0.511663   \n9998                         b'Sentimental Man'     0           0.433508   \n9999                       b'Zydeco In D-Minor'     0           0.334457   \n10000                         b'Shattered Life'  2005           0.609182   \n\n            ArtistHotttnesss  EndOfFadeIn  Energy  Loudness  StartOfFadeOut  \nSongNumber                                                                   \n1                   0.401998        0.247     0.0   -11.197         218.932  \n2                   0.417500        0.148     0.0    -9.843         137.915  \n3                   0.343428        0.282     0.0    -9.689         172.304  \n4                   0.454231        0.000     0.0    -9.013         217.124  \n5                   0.401724        0.066     0.0    -4.501         198.699  \n...                      ...          ...     ...       ...             ...  \n9996                0.499826        0.177     0.0    -8.087         386.194  \n9997                0.409779        0.403     0.0   -14.517         163.463  \n9998                0.289903        0.173     0.0   -12.087         186.015  \n9999                0.216829        0.000     0.0   -12.574         300.826  \n10000               0.509243        0.125     0.0    -5.324         193.167  \n\n[9976 rows x 21 columns]",
      "text/html": "<div>\n<style scoped>\n    .dataframe tbody tr th:only-of-type {\n        vertical-align: middle;\n    }\n\n    .dataframe tbody tr th {\n        vertical-align: top;\n    }\n\n    .dataframe thead th {\n        text-align: right;\n    }\n</style>\n<table border=\"1\" class=\"dataframe\">\n  <thead>\n    <tr style=\"text-align: right;\">\n      <th></th>\n      <th>SongID</th>\n      <th>AlbumID</th>\n      <th>AlbumName</th>\n      <th>ArtistID</th>\n      <th>ArtistLocation</th>\n      <th>ArtistName</th>\n      <th>Danceability</th>\n      <th>Duration</th>\n      <th>KeySignature</th>\n      <th>KeySignatureConfidence</th>\n      <th>...</th>\n      <th>TimeSignature</th>\n      <th>TimeSignatureConfidence</th>\n      <th>Title</th>\n      <th>Year</th>\n      <th>ArtistFamiliarity</th>\n      <th>ArtistHotttnesss</th>\n      <th>EndOfFadeIn</th>\n      <th>Energy</th>\n      <th>Loudness</th>\n      <th>StartOfFadeOut</th>\n    </tr>\n    <tr>\n      <th>SongNumber</th>\n      <th></th>\n      <th></th>\n      <th></th>\n      <th></th>\n      <th></th>\n      <th></th>\n      <th></th>\n      <th></th>\n      <th></th>\n      <th></th>\n      <th></th>\n      <th></th>\n      <th></th>\n      <th></th>\n      <th></th>\n      <th></th>\n      <th></th>\n      <th></th>\n      <th></th>\n      <th></th>\n      <th></th>\n    </tr>\n  </thead>\n  <tbody>\n    <tr>\n      <th>1</th>\n      <td>b'SOMZWCG12A8C13C480'</td>\n      <td>300848</td>\n      <td>b'Fear Itself'</td>\n      <td>b'ARD7TVE1187B99BFB1'</td>\n      <td>b'California - LA'</td>\n      <td>b'Casual'</td>\n      <td>0.0</td>\n      <td>218.93179</td>\n      <td>1</td>\n      <td>0.736</td>\n      <td>...</td>\n      <td>4</td>\n      <td>0.778</td>\n      <td>bI Didn't Mean To\"\"</td>\n      <td>0</td>\n      <td>0.581794</td>\n      <td>0.401998</td>\n      <td>0.247</td>\n      <td>0.0</td>\n      <td>-11.197</td>\n      <td>218.932</td>\n    </tr>\n    <tr>\n      <th>2</th>\n      <td>b'SOCIWDW12A8C13D406'</td>\n      <td>300822</td>\n      <td>b'Dimensions'</td>\n      <td>b'ARMJAGH1187FB546F3'</td>\n      <td>b'Memphis TN'</td>\n      <td>b'The Box Tops'</td>\n      <td>0.0</td>\n      <td>148.03546</td>\n      <td>6</td>\n      <td>0.169</td>\n      <td>...</td>\n      <td>4</td>\n      <td>0.384</td>\n      <td>b'Soul Deep'</td>\n      <td>1969</td>\n      <td>0.630630</td>\n      <td>0.417500</td>\n      <td>0.148</td>\n      <td>0.0</td>\n      <td>-9.843</td>\n      <td>137.915</td>\n    </tr>\n    <tr>\n      <th>3</th>\n      <td>b'SOXVLOJ12AB0189215'</td>\n      <td>514953</td>\n      <td>b'Las Numero 1 De La Sonora Santanera'</td>\n      <td>b'ARKRRTF1187B9984DA'</td>\n      <td>b''</td>\n      <td>b'Sonora Santanera'</td>\n      <td>0.0</td>\n      <td>177.47546</td>\n      <td>8</td>\n      <td>0.643</td>\n      <td>...</td>\n      <td>1</td>\n      <td>0.000</td>\n      <td>b'Amor De Cabaret'</td>\n      <td>0</td>\n      <td>0.487357</td>\n      <td>0.343428</td>\n      <td>0.282</td>\n      <td>0.0</td>\n      <td>-9.689</td>\n      <td>172.304</td>\n    </tr>\n    <tr>\n      <th>4</th>\n      <td>b'SONHOTT12A8C13493C'</td>\n      <td>287650</td>\n      <td>b'Friend Or Foe'</td>\n      <td>b'AR7G5I41187FB4CE6C'</td>\n      <td>b'London England'</td>\n      <td>b'Adam Ant'</td>\n      <td>0.0</td>\n      <td>233.40363</td>\n      <td>0</td>\n      <td>0.751</td>\n      <td>...</td>\n      <td>4</td>\n      <td>0.000</td>\n      <td>b'Something Girls'</td>\n      <td>1982</td>\n      <td>0.630382</td>\n      <td>0.454231</td>\n      <td>0.000</td>\n      <td>0.0</td>\n      <td>-9.013</td>\n      <td>217.124</td>\n    </tr>\n    <tr>\n      <th>5</th>\n      <td>b'SOFSOCN12A8C143F5D'</td>\n      <td>611336</td>\n      <td>b'Muertos Vivos'</td>\n      <td>b'ARXR32B1187FB57099'</td>\n      <td>b''</td>\n      <td>b'Gob'</td>\n      <td>0.0</td>\n      <td>209.60608</td>\n      <td>2</td>\n      <td>0.092</td>\n      <td>...</td>\n      <td>4</td>\n      <td>0.562</td>\n      <td>b'Face the Ashes'</td>\n      <td>2007</td>\n      <td>0.651046</td>\n      <td>0.401724</td>\n      <td>0.066</td>\n      <td>0.0</td>\n      <td>-4.501</td>\n      <td>198.699</td>\n    </tr>\n    <tr>\n      <th>...</th>\n      <td>...</td>\n      <td>...</td>\n      <td>...</td>\n      <td>...</td>\n      <td>...</td>\n      <td>...</td>\n      <td>...</td>\n      <td>...</td>\n      <td>...</td>\n      <td>...</td>\n      <td>...</td>\n      <td>...</td>\n      <td>...</td>\n      <td>...</td>\n      <td>...</td>\n      <td>...</td>\n      <td>...</td>\n      <td>...</td>\n      <td>...</td>\n      <td>...</td>\n      <td>...</td>\n    </tr>\n    <tr>\n      <th>9996</th>\n      <td>b'SOLXXPY12A67ADABA0'</td>\n      <td>691752</td>\n      <td>b'Sin / Pecado'</td>\n      <td>b'AR4C6V01187FB3BAF4'</td>\n      <td>b'Portugal'</td>\n      <td>b'Moonspell'</td>\n      <td>0.0</td>\n      <td>386.19383</td>\n      <td>7</td>\n      <td>0.374</td>\n      <td>...</td>\n      <td>4</td>\n      <td>0.099</td>\n      <td>b'The Hanged Man'</td>\n      <td>1998</td>\n      <td>0.722571</td>\n      <td>0.499826</td>\n      <td>0.177</td>\n      <td>0.0</td>\n      <td>-8.087</td>\n      <td>386.194</td>\n    </tr>\n    <tr>\n      <th>9997</th>\n      <td>b'SOAYONI12A6D4F85C8'</td>\n      <td>41649</td>\n      <td>b'Collection'</td>\n      <td>b'AR9JLBU1187B9AAEC4'</td>\n      <td>b'Port Elizabeth South Africa'</td>\n      <td>b'Danny Williams'</td>\n      <td>0.0</td>\n      <td>168.01914</td>\n      <td>8</td>\n      <td>0.223</td>\n      <td>...</td>\n      <td>3</td>\n      <td>0.597</td>\n      <td>b'The Wonderful World Of The Young'</td>\n      <td>1998</td>\n      <td>0.511663</td>\n      <td>0.409779</td>\n      <td>0.403</td>\n      <td>0.0</td>\n      <td>-14.517</td>\n      <td>163.463</td>\n    </tr>\n    <tr>\n      <th>9998</th>\n      <td>b'SOJZLAJ12AB017E8A2'</td>\n      <td>346402</td>\n      <td>b'Reality'</td>\n      <td>b'ARS1DCR1187B9A4A56'</td>\n      <td>b''</td>\n      <td>b'Winston Reedy'</td>\n      <td>0.0</td>\n      <td>193.72363</td>\n      <td>1</td>\n      <td>0.931</td>\n      <td>...</td>\n      <td>4</td>\n      <td>0.205</td>\n      <td>b'Sentimental Man'</td>\n      <td>0</td>\n      <td>0.433508</td>\n      <td>0.289903</td>\n      <td>0.173</td>\n      <td>0.0</td>\n      <td>-12.087</td>\n      <td>186.015</td>\n    </tr>\n    <tr>\n      <th>9999</th>\n      <td>b'SORZSCJ12A8C132446'</td>\n      <td>86259</td>\n      <td>b'Nouveau Zydeco'</td>\n      <td>b'ARAGMIV11F4C843F78'</td>\n      <td>b''</td>\n      <td>b'Myrick Freeze\" Guillory'\"</td>\n      <td>0.0</td>\n      <td>300.82567</td>\n      <td>0</td>\n      <td>0.297</td>\n      <td>...</td>\n      <td>4</td>\n      <td>0.000</td>\n      <td>b'Zydeco In D-Minor'</td>\n      <td>0</td>\n      <td>0.334457</td>\n      <td>0.216829</td>\n      <td>0.000</td>\n      <td>0.0</td>\n      <td>-12.574</td>\n      <td>300.826</td>\n    </tr>\n    <tr>\n      <th>10000</th>\n      <td>b'SOFAOMI12A6D4FA2D8'</td>\n      <td>64501</td>\n      <td>b'Once Upon A Shattered Life'</td>\n      <td>b'ARYXOV81187B99831D'</td>\n      <td>b''</td>\n      <td>b'Seventh Day Slumber'</td>\n      <td>0.0</td>\n      <td>209.73669</td>\n      <td>2</td>\n      <td>0.315</td>\n      <td>...</td>\n      <td>4</td>\n      <td>0.317</td>\n      <td>b'Shattered Life'</td>\n      <td>2005</td>\n      <td>0.609182</td>\n      <td>0.509243</td>\n      <td>0.125</td>\n      <td>0.0</td>\n      <td>-5.324</td>\n      <td>193.167</td>\n    </tr>\n  </tbody>\n</table>\n<p>9976 rows × 21 columns</p>\n</div>"
     },
     "execution_count": 115,
     "metadata": {},
     "output_type": "execute_result"
    }
   ],
   "source": [
    "metadata.drop(labels=['ArtistLatitude', 'ArtistLongitude', 'SongHotttnesss'], axis=1, inplace=True)\n",
    "metadata = metadata[metadata.ArtistFamiliarity > 0]\n",
    "\n",
    "metadata"
   ],
   "metadata": {
    "collapsed": false,
    "pycharm": {
     "name": "#%%\n"
    }
   }
  },
  {
   "cell_type": "markdown",
   "source": [
    "Energy and Danceability look like they are all zeros. Year seems to have a few.\n",
    "\n",
    "Let's fix this"
   ],
   "metadata": {
    "collapsed": false,
    "pycharm": {
     "name": "#%% md\n"
    }
   }
  },
  {
   "cell_type": "code",
   "execution_count": 116,
   "outputs": [
    {
     "name": "stdout",
     "output_type": "stream",
     "text": [
      "Empty Danceability values: (0, 21)\n",
      "Empty Energy values: (0, 21)\n",
      "Empty Year values: (4678, 21)\n"
     ]
    }
   ],
   "source": [
    "#Exploración de columnas vacias\n",
    "print('Empty Danceability values:', metadata[metadata['Danceability'] != 0].shape) #Nothing here, let's delete the column\n",
    "print('Empty Energy values:', metadata[metadata['Energy'] != 0].shape) #Nothing here, let's delete the column\n",
    "print('Empty Year values:', metadata[metadata['Year'] != 0].shape) # To many 0 values, let's delete the column"
   ],
   "metadata": {
    "collapsed": false,
    "pycharm": {
     "name": "#%%\n"
    }
   }
  },
  {
   "cell_type": "markdown",
   "source": [
    "There is no data in Danceability and Energy, and not enough values in Year.\n",
    "\n",
    "Let's drop all of them."
   ],
   "metadata": {
    "collapsed": false,
    "pycharm": {
     "name": "#%% md\n"
    }
   }
  },
  {
   "cell_type": "code",
   "execution_count": 117,
   "outputs": [
    {
     "data": {
      "text/plain": "                           SongID  AlbumID  \\\nSongNumber                                   \n1           b'SOMZWCG12A8C13C480'   300848   \n2           b'SOCIWDW12A8C13D406'   300822   \n3           b'SOXVLOJ12AB0189215'   514953   \n4           b'SONHOTT12A8C13493C'   287650   \n5           b'SOFSOCN12A8C143F5D'   611336   \n...                           ...      ...   \n9996        b'SOLXXPY12A67ADABA0'   691752   \n9997        b'SOAYONI12A6D4F85C8'    41649   \n9998        b'SOJZLAJ12AB017E8A2'   346402   \n9999        b'SORZSCJ12A8C132446'    86259   \n10000       b'SOFAOMI12A6D4FA2D8'    64501   \n\n                                         AlbumName               ArtistID  \\\nSongNumber                                                                  \n1                                   b'Fear Itself'  b'ARD7TVE1187B99BFB1'   \n2                                    b'Dimensions'  b'ARMJAGH1187FB546F3'   \n3           b'Las Numero 1 De La Sonora Santanera'  b'ARKRRTF1187B9984DA'   \n4                                 b'Friend Or Foe'  b'AR7G5I41187FB4CE6C'   \n5                                 b'Muertos Vivos'  b'ARXR32B1187FB57099'   \n...                                            ...                    ...   \n9996                               b'Sin / Pecado'  b'AR4C6V01187FB3BAF4'   \n9997                                 b'Collection'  b'AR9JLBU1187B9AAEC4'   \n9998                                    b'Reality'  b'ARS1DCR1187B9A4A56'   \n9999                             b'Nouveau Zydeco'  b'ARAGMIV11F4C843F78'   \n10000                b'Once Upon A Shattered Life'  b'ARYXOV81187B99831D'   \n\n                            ArtistLocation                   ArtistName  \\\nSongNumber                                                                \n1                       b'California - LA'                    b'Casual'   \n2                            b'Memphis TN'              b'The Box Tops'   \n3                                      b''          b'Sonora Santanera'   \n4                        b'London England'                  b'Adam Ant'   \n5                                      b''                       b'Gob'   \n...                                    ...                          ...   \n9996                           b'Portugal'                 b'Moonspell'   \n9997        b'Port Elizabeth South Africa'            b'Danny Williams'   \n9998                                   b''             b'Winston Reedy'   \n9999                                   b''  b'Myrick Freeze\" Guillory'\"   \n10000                                  b''       b'Seventh Day Slumber'   \n\n             Duration  KeySignature  KeySignatureConfidence    Tempo  \\\nSongNumber                                                             \n1           218.93179             1                   0.736   92.198   \n2           148.03546             6                   0.169  121.274   \n3           177.47546             8                   0.643  100.070   \n4           233.40363             0                   0.751  119.293   \n5           209.60608             2                   0.092  129.738   \n...               ...           ...                     ...      ...   \n9996        386.19383             7                   0.374  140.185   \n9997        168.01914             8                   0.223   77.072   \n9998        193.72363             1                   0.931  118.123   \n9999        300.82567             0                   0.297  137.663   \n10000       209.73669             2                   0.315  150.575   \n\n            TimeSignature  TimeSignatureConfidence  \\\nSongNumber                                           \n1                       4                    0.778   \n2                       4                    0.384   \n3                       1                    0.000   \n4                       4                    0.000   \n5                       4                    0.562   \n...                   ...                      ...   \n9996                    4                    0.099   \n9997                    3                    0.597   \n9998                    4                    0.205   \n9999                    4                    0.000   \n10000                   4                    0.317   \n\n                                          Title  ArtistFamiliarity  \\\nSongNumber                                                           \n1                           bI Didn't Mean To\"\"           0.581794   \n2                                  b'Soul Deep'           0.630630   \n3                            b'Amor De Cabaret'           0.487357   \n4                            b'Something Girls'           0.630382   \n5                             b'Face the Ashes'           0.651046   \n...                                         ...                ...   \n9996                          b'The Hanged Man'           0.722571   \n9997        b'The Wonderful World Of The Young'           0.511663   \n9998                         b'Sentimental Man'           0.433508   \n9999                       b'Zydeco In D-Minor'           0.334457   \n10000                         b'Shattered Life'           0.609182   \n\n            ArtistHotttnesss  EndOfFadeIn  Loudness  StartOfFadeOut  \nSongNumber                                                           \n1                   0.401998        0.247   -11.197         218.932  \n2                   0.417500        0.148    -9.843         137.915  \n3                   0.343428        0.282    -9.689         172.304  \n4                   0.454231        0.000    -9.013         217.124  \n5                   0.401724        0.066    -4.501         198.699  \n...                      ...          ...       ...             ...  \n9996                0.499826        0.177    -8.087         386.194  \n9997                0.409779        0.403   -14.517         163.463  \n9998                0.289903        0.173   -12.087         186.015  \n9999                0.216829        0.000   -12.574         300.826  \n10000               0.509243        0.125    -5.324         193.167  \n\n[9976 rows x 18 columns]",
      "text/html": "<div>\n<style scoped>\n    .dataframe tbody tr th:only-of-type {\n        vertical-align: middle;\n    }\n\n    .dataframe tbody tr th {\n        vertical-align: top;\n    }\n\n    .dataframe thead th {\n        text-align: right;\n    }\n</style>\n<table border=\"1\" class=\"dataframe\">\n  <thead>\n    <tr style=\"text-align: right;\">\n      <th></th>\n      <th>SongID</th>\n      <th>AlbumID</th>\n      <th>AlbumName</th>\n      <th>ArtistID</th>\n      <th>ArtistLocation</th>\n      <th>ArtistName</th>\n      <th>Duration</th>\n      <th>KeySignature</th>\n      <th>KeySignatureConfidence</th>\n      <th>Tempo</th>\n      <th>TimeSignature</th>\n      <th>TimeSignatureConfidence</th>\n      <th>Title</th>\n      <th>ArtistFamiliarity</th>\n      <th>ArtistHotttnesss</th>\n      <th>EndOfFadeIn</th>\n      <th>Loudness</th>\n      <th>StartOfFadeOut</th>\n    </tr>\n    <tr>\n      <th>SongNumber</th>\n      <th></th>\n      <th></th>\n      <th></th>\n      <th></th>\n      <th></th>\n      <th></th>\n      <th></th>\n      <th></th>\n      <th></th>\n      <th></th>\n      <th></th>\n      <th></th>\n      <th></th>\n      <th></th>\n      <th></th>\n      <th></th>\n      <th></th>\n      <th></th>\n    </tr>\n  </thead>\n  <tbody>\n    <tr>\n      <th>1</th>\n      <td>b'SOMZWCG12A8C13C480'</td>\n      <td>300848</td>\n      <td>b'Fear Itself'</td>\n      <td>b'ARD7TVE1187B99BFB1'</td>\n      <td>b'California - LA'</td>\n      <td>b'Casual'</td>\n      <td>218.93179</td>\n      <td>1</td>\n      <td>0.736</td>\n      <td>92.198</td>\n      <td>4</td>\n      <td>0.778</td>\n      <td>bI Didn't Mean To\"\"</td>\n      <td>0.581794</td>\n      <td>0.401998</td>\n      <td>0.247</td>\n      <td>-11.197</td>\n      <td>218.932</td>\n    </tr>\n    <tr>\n      <th>2</th>\n      <td>b'SOCIWDW12A8C13D406'</td>\n      <td>300822</td>\n      <td>b'Dimensions'</td>\n      <td>b'ARMJAGH1187FB546F3'</td>\n      <td>b'Memphis TN'</td>\n      <td>b'The Box Tops'</td>\n      <td>148.03546</td>\n      <td>6</td>\n      <td>0.169</td>\n      <td>121.274</td>\n      <td>4</td>\n      <td>0.384</td>\n      <td>b'Soul Deep'</td>\n      <td>0.630630</td>\n      <td>0.417500</td>\n      <td>0.148</td>\n      <td>-9.843</td>\n      <td>137.915</td>\n    </tr>\n    <tr>\n      <th>3</th>\n      <td>b'SOXVLOJ12AB0189215'</td>\n      <td>514953</td>\n      <td>b'Las Numero 1 De La Sonora Santanera'</td>\n      <td>b'ARKRRTF1187B9984DA'</td>\n      <td>b''</td>\n      <td>b'Sonora Santanera'</td>\n      <td>177.47546</td>\n      <td>8</td>\n      <td>0.643</td>\n      <td>100.070</td>\n      <td>1</td>\n      <td>0.000</td>\n      <td>b'Amor De Cabaret'</td>\n      <td>0.487357</td>\n      <td>0.343428</td>\n      <td>0.282</td>\n      <td>-9.689</td>\n      <td>172.304</td>\n    </tr>\n    <tr>\n      <th>4</th>\n      <td>b'SONHOTT12A8C13493C'</td>\n      <td>287650</td>\n      <td>b'Friend Or Foe'</td>\n      <td>b'AR7G5I41187FB4CE6C'</td>\n      <td>b'London England'</td>\n      <td>b'Adam Ant'</td>\n      <td>233.40363</td>\n      <td>0</td>\n      <td>0.751</td>\n      <td>119.293</td>\n      <td>4</td>\n      <td>0.000</td>\n      <td>b'Something Girls'</td>\n      <td>0.630382</td>\n      <td>0.454231</td>\n      <td>0.000</td>\n      <td>-9.013</td>\n      <td>217.124</td>\n    </tr>\n    <tr>\n      <th>5</th>\n      <td>b'SOFSOCN12A8C143F5D'</td>\n      <td>611336</td>\n      <td>b'Muertos Vivos'</td>\n      <td>b'ARXR32B1187FB57099'</td>\n      <td>b''</td>\n      <td>b'Gob'</td>\n      <td>209.60608</td>\n      <td>2</td>\n      <td>0.092</td>\n      <td>129.738</td>\n      <td>4</td>\n      <td>0.562</td>\n      <td>b'Face the Ashes'</td>\n      <td>0.651046</td>\n      <td>0.401724</td>\n      <td>0.066</td>\n      <td>-4.501</td>\n      <td>198.699</td>\n    </tr>\n    <tr>\n      <th>...</th>\n      <td>...</td>\n      <td>...</td>\n      <td>...</td>\n      <td>...</td>\n      <td>...</td>\n      <td>...</td>\n      <td>...</td>\n      <td>...</td>\n      <td>...</td>\n      <td>...</td>\n      <td>...</td>\n      <td>...</td>\n      <td>...</td>\n      <td>...</td>\n      <td>...</td>\n      <td>...</td>\n      <td>...</td>\n      <td>...</td>\n    </tr>\n    <tr>\n      <th>9996</th>\n      <td>b'SOLXXPY12A67ADABA0'</td>\n      <td>691752</td>\n      <td>b'Sin / Pecado'</td>\n      <td>b'AR4C6V01187FB3BAF4'</td>\n      <td>b'Portugal'</td>\n      <td>b'Moonspell'</td>\n      <td>386.19383</td>\n      <td>7</td>\n      <td>0.374</td>\n      <td>140.185</td>\n      <td>4</td>\n      <td>0.099</td>\n      <td>b'The Hanged Man'</td>\n      <td>0.722571</td>\n      <td>0.499826</td>\n      <td>0.177</td>\n      <td>-8.087</td>\n      <td>386.194</td>\n    </tr>\n    <tr>\n      <th>9997</th>\n      <td>b'SOAYONI12A6D4F85C8'</td>\n      <td>41649</td>\n      <td>b'Collection'</td>\n      <td>b'AR9JLBU1187B9AAEC4'</td>\n      <td>b'Port Elizabeth South Africa'</td>\n      <td>b'Danny Williams'</td>\n      <td>168.01914</td>\n      <td>8</td>\n      <td>0.223</td>\n      <td>77.072</td>\n      <td>3</td>\n      <td>0.597</td>\n      <td>b'The Wonderful World Of The Young'</td>\n      <td>0.511663</td>\n      <td>0.409779</td>\n      <td>0.403</td>\n      <td>-14.517</td>\n      <td>163.463</td>\n    </tr>\n    <tr>\n      <th>9998</th>\n      <td>b'SOJZLAJ12AB017E8A2'</td>\n      <td>346402</td>\n      <td>b'Reality'</td>\n      <td>b'ARS1DCR1187B9A4A56'</td>\n      <td>b''</td>\n      <td>b'Winston Reedy'</td>\n      <td>193.72363</td>\n      <td>1</td>\n      <td>0.931</td>\n      <td>118.123</td>\n      <td>4</td>\n      <td>0.205</td>\n      <td>b'Sentimental Man'</td>\n      <td>0.433508</td>\n      <td>0.289903</td>\n      <td>0.173</td>\n      <td>-12.087</td>\n      <td>186.015</td>\n    </tr>\n    <tr>\n      <th>9999</th>\n      <td>b'SORZSCJ12A8C132446'</td>\n      <td>86259</td>\n      <td>b'Nouveau Zydeco'</td>\n      <td>b'ARAGMIV11F4C843F78'</td>\n      <td>b''</td>\n      <td>b'Myrick Freeze\" Guillory'\"</td>\n      <td>300.82567</td>\n      <td>0</td>\n      <td>0.297</td>\n      <td>137.663</td>\n      <td>4</td>\n      <td>0.000</td>\n      <td>b'Zydeco In D-Minor'</td>\n      <td>0.334457</td>\n      <td>0.216829</td>\n      <td>0.000</td>\n      <td>-12.574</td>\n      <td>300.826</td>\n    </tr>\n    <tr>\n      <th>10000</th>\n      <td>b'SOFAOMI12A6D4FA2D8'</td>\n      <td>64501</td>\n      <td>b'Once Upon A Shattered Life'</td>\n      <td>b'ARYXOV81187B99831D'</td>\n      <td>b''</td>\n      <td>b'Seventh Day Slumber'</td>\n      <td>209.73669</td>\n      <td>2</td>\n      <td>0.315</td>\n      <td>150.575</td>\n      <td>4</td>\n      <td>0.317</td>\n      <td>b'Shattered Life'</td>\n      <td>0.609182</td>\n      <td>0.509243</td>\n      <td>0.125</td>\n      <td>-5.324</td>\n      <td>193.167</td>\n    </tr>\n  </tbody>\n</table>\n<p>9976 rows × 18 columns</p>\n</div>"
     },
     "execution_count": 117,
     "metadata": {},
     "output_type": "execute_result"
    }
   ],
   "source": [
    "metadata.drop(labels=['Danceability', 'Energy', 'Year'], axis=1, inplace=True)\n",
    "metadata"
   ],
   "metadata": {
    "collapsed": false,
    "pycharm": {
     "name": "#%%\n"
    }
   }
  },
  {
   "cell_type": "markdown",
   "source": [
    "Let's have a look to the rest of the columns, trying to find zeros or empty strings:"
   ],
   "metadata": {
    "collapsed": false
   }
  },
  {
   "cell_type": "code",
   "execution_count": 118,
   "outputs": [
    {
     "name": "stdout",
     "output_type": "stream",
     "text": [
      "Empty SongID values: 0\n",
      "Empty AlbumID values: 0\n",
      "Empty AlbumName values: 0\n",
      "Empty ArtistID values: 0\n",
      "Empty ArtistLocation values: 4276\n",
      "Empty ArtistName values: 0\n",
      "Empty Duration values: 0\n",
      "Empty KeySignature values: 1210\n",
      "Empty KeySignatureConfidence values: 522\n",
      "Empty Tempo values: 25\n",
      "Empty TimeSignature values: 3\n",
      "Empty TimeSignatureConfidence values: 2161\n",
      "Empty Title values: 1\n",
      "Empty ArtistFamiliarity values: 0\n",
      "Empty ArtistHotttnesss values: 483\n",
      "Empty EndOfFadeIn values: 3072\n",
      "Empty Loudness values: 0\n",
      "Empty StartOfFadeOut values: 0\n"
     ]
    }
   ],
   "source": [
    "print('Empty SongID values:', metadata[metadata['SongID'] == \"b''\"].shape[0])\n",
    "print('Empty AlbumID values:', metadata[metadata['AlbumID'] == 0].shape[0])\n",
    "print('Empty AlbumName values:', metadata[metadata['AlbumName'] == \"b''\"].shape[0])\n",
    "print('Empty ArtistID values:', metadata[metadata['ArtistID'] == \"b''\"].shape[0])\n",
    "print('Empty ArtistLocation values:', metadata[metadata['ArtistLocation'] == \"b''\"].shape[0])\n",
    "print('Empty ArtistName values:', metadata[metadata['ArtistName'] == \"b''\"].shape[0])\n",
    "print('Empty Duration values:', metadata[metadata['Duration'] == 0].shape[0])\n",
    "print('Empty KeySignature values:', metadata[metadata['KeySignature'] == 0].shape[0])\n",
    "print('Empty KeySignatureConfidence values:', metadata[metadata['KeySignatureConfidence'] == 0].shape[0])\n",
    "print('Empty Tempo values:', metadata[metadata['Tempo'] == 0].shape[0])\n",
    "print('Empty TimeSignature values:', metadata[metadata['TimeSignature'] == 0].shape[0])\n",
    "print('Empty TimeSignatureConfidence values:', metadata[metadata['TimeSignatureConfidence'] == 0].shape[0])\n",
    "print('Empty Title values:', metadata[metadata['Title'] == \"b''\"].shape[0])\n",
    "print('Empty ArtistFamiliarity values:', metadata[metadata['ArtistFamiliarity'] == 0].shape[0])\n",
    "print('Empty ArtistHotttnesss values:', metadata[metadata['ArtistHotttnesss'] == 0].shape[0])\n",
    "print('Empty EndOfFadeIn values:', metadata[metadata['EndOfFadeIn'] == 0].shape[0])\n",
    "print('Empty Loudness values:', metadata[metadata['Loudness'] == 0].shape[0])\n",
    "print('Empty StartOfFadeOut values:', metadata[metadata['StartOfFadeOut'] == 0].shape[0])"
   ],
   "metadata": {
    "collapsed": false,
    "pycharm": {
     "name": "#%%\n"
    }
   }
  },
  {
   "cell_type": "markdown",
   "source": [
    "# More cleaning\n",
    "\n",
    "Confidence columns have a lot of empty values. Let's drop them.\n",
    "ArtistLocation, KeySignature and EndOfFadeIn also have plenty of empty values.\n",
    "On top of that, we are going to delete empty records from Tempo, TimeSignature, Title and ArtistHotttnesss."
   ],
   "metadata": {
    "collapsed": false
   }
  },
  {
   "cell_type": "code",
   "execution_count": 119,
   "outputs": [
    {
     "data": {
      "text/plain": "                           SongID  AlbumID  \\\nSongNumber                                   \n1           b'SOMZWCG12A8C13C480'   300848   \n2           b'SOCIWDW12A8C13D406'   300822   \n3           b'SOXVLOJ12AB0189215'   514953   \n4           b'SONHOTT12A8C13493C'   287650   \n5           b'SOFSOCN12A8C143F5D'   611336   \n...                           ...      ...   \n9996        b'SOLXXPY12A67ADABA0'   691752   \n9997        b'SOAYONI12A6D4F85C8'    41649   \n9998        b'SOJZLAJ12AB017E8A2'   346402   \n9999        b'SORZSCJ12A8C132446'    86259   \n10000       b'SOFAOMI12A6D4FA2D8'    64501   \n\n                                         AlbumName               ArtistID  \\\nSongNumber                                                                  \n1                                   b'Fear Itself'  b'ARD7TVE1187B99BFB1'   \n2                                    b'Dimensions'  b'ARMJAGH1187FB546F3'   \n3           b'Las Numero 1 De La Sonora Santanera'  b'ARKRRTF1187B9984DA'   \n4                                 b'Friend Or Foe'  b'AR7G5I41187FB4CE6C'   \n5                                 b'Muertos Vivos'  b'ARXR32B1187FB57099'   \n...                                            ...                    ...   \n9996                               b'Sin / Pecado'  b'AR4C6V01187FB3BAF4'   \n9997                                 b'Collection'  b'AR9JLBU1187B9AAEC4'   \n9998                                    b'Reality'  b'ARS1DCR1187B9A4A56'   \n9999                             b'Nouveau Zydeco'  b'ARAGMIV11F4C843F78'   \n10000                b'Once Upon A Shattered Life'  b'ARYXOV81187B99831D'   \n\n                             ArtistName   Duration    Tempo  TimeSignature  \\\nSongNumber                                                                   \n1                             b'Casual'  218.93179   92.198              4   \n2                       b'The Box Tops'  148.03546  121.274              4   \n3                   b'Sonora Santanera'  177.47546  100.070              1   \n4                           b'Adam Ant'  233.40363  119.293              4   \n5                                b'Gob'  209.60608  129.738              4   \n...                                 ...        ...      ...            ...   \n9996                       b'Moonspell'  386.19383  140.185              4   \n9997                  b'Danny Williams'  168.01914   77.072              3   \n9998                   b'Winston Reedy'  193.72363  118.123              4   \n9999        b'Myrick Freeze\" Guillory'\"  300.82567  137.663              4   \n10000            b'Seventh Day Slumber'  209.73669  150.575              4   \n\n                                          Title  ArtistFamiliarity  \\\nSongNumber                                                           \n1                           bI Didn't Mean To\"\"           0.581794   \n2                                  b'Soul Deep'           0.630630   \n3                            b'Amor De Cabaret'           0.487357   \n4                            b'Something Girls'           0.630382   \n5                             b'Face the Ashes'           0.651046   \n...                                         ...                ...   \n9996                          b'The Hanged Man'           0.722571   \n9997        b'The Wonderful World Of The Young'           0.511663   \n9998                         b'Sentimental Man'           0.433508   \n9999                       b'Zydeco In D-Minor'           0.334457   \n10000                         b'Shattered Life'           0.609182   \n\n            ArtistHotttnesss  Loudness  StartOfFadeOut  \nSongNumber                                              \n1                   0.401998   -11.197         218.932  \n2                   0.417500    -9.843         137.915  \n3                   0.343428    -9.689         172.304  \n4                   0.454231    -9.013         217.124  \n5                   0.401724    -4.501         198.699  \n...                      ...       ...             ...  \n9996                0.499826    -8.087         386.194  \n9997                0.409779   -14.517         163.463  \n9998                0.289903   -12.087         186.015  \n9999                0.216829   -12.574         300.826  \n10000               0.509243    -5.324         193.167  \n\n[9470 rows x 13 columns]",
      "text/html": "<div>\n<style scoped>\n    .dataframe tbody tr th:only-of-type {\n        vertical-align: middle;\n    }\n\n    .dataframe tbody tr th {\n        vertical-align: top;\n    }\n\n    .dataframe thead th {\n        text-align: right;\n    }\n</style>\n<table border=\"1\" class=\"dataframe\">\n  <thead>\n    <tr style=\"text-align: right;\">\n      <th></th>\n      <th>SongID</th>\n      <th>AlbumID</th>\n      <th>AlbumName</th>\n      <th>ArtistID</th>\n      <th>ArtistName</th>\n      <th>Duration</th>\n      <th>Tempo</th>\n      <th>TimeSignature</th>\n      <th>Title</th>\n      <th>ArtistFamiliarity</th>\n      <th>ArtistHotttnesss</th>\n      <th>Loudness</th>\n      <th>StartOfFadeOut</th>\n    </tr>\n    <tr>\n      <th>SongNumber</th>\n      <th></th>\n      <th></th>\n      <th></th>\n      <th></th>\n      <th></th>\n      <th></th>\n      <th></th>\n      <th></th>\n      <th></th>\n      <th></th>\n      <th></th>\n      <th></th>\n      <th></th>\n    </tr>\n  </thead>\n  <tbody>\n    <tr>\n      <th>1</th>\n      <td>b'SOMZWCG12A8C13C480'</td>\n      <td>300848</td>\n      <td>b'Fear Itself'</td>\n      <td>b'ARD7TVE1187B99BFB1'</td>\n      <td>b'Casual'</td>\n      <td>218.93179</td>\n      <td>92.198</td>\n      <td>4</td>\n      <td>bI Didn't Mean To\"\"</td>\n      <td>0.581794</td>\n      <td>0.401998</td>\n      <td>-11.197</td>\n      <td>218.932</td>\n    </tr>\n    <tr>\n      <th>2</th>\n      <td>b'SOCIWDW12A8C13D406'</td>\n      <td>300822</td>\n      <td>b'Dimensions'</td>\n      <td>b'ARMJAGH1187FB546F3'</td>\n      <td>b'The Box Tops'</td>\n      <td>148.03546</td>\n      <td>121.274</td>\n      <td>4</td>\n      <td>b'Soul Deep'</td>\n      <td>0.630630</td>\n      <td>0.417500</td>\n      <td>-9.843</td>\n      <td>137.915</td>\n    </tr>\n    <tr>\n      <th>3</th>\n      <td>b'SOXVLOJ12AB0189215'</td>\n      <td>514953</td>\n      <td>b'Las Numero 1 De La Sonora Santanera'</td>\n      <td>b'ARKRRTF1187B9984DA'</td>\n      <td>b'Sonora Santanera'</td>\n      <td>177.47546</td>\n      <td>100.070</td>\n      <td>1</td>\n      <td>b'Amor De Cabaret'</td>\n      <td>0.487357</td>\n      <td>0.343428</td>\n      <td>-9.689</td>\n      <td>172.304</td>\n    </tr>\n    <tr>\n      <th>4</th>\n      <td>b'SONHOTT12A8C13493C'</td>\n      <td>287650</td>\n      <td>b'Friend Or Foe'</td>\n      <td>b'AR7G5I41187FB4CE6C'</td>\n      <td>b'Adam Ant'</td>\n      <td>233.40363</td>\n      <td>119.293</td>\n      <td>4</td>\n      <td>b'Something Girls'</td>\n      <td>0.630382</td>\n      <td>0.454231</td>\n      <td>-9.013</td>\n      <td>217.124</td>\n    </tr>\n    <tr>\n      <th>5</th>\n      <td>b'SOFSOCN12A8C143F5D'</td>\n      <td>611336</td>\n      <td>b'Muertos Vivos'</td>\n      <td>b'ARXR32B1187FB57099'</td>\n      <td>b'Gob'</td>\n      <td>209.60608</td>\n      <td>129.738</td>\n      <td>4</td>\n      <td>b'Face the Ashes'</td>\n      <td>0.651046</td>\n      <td>0.401724</td>\n      <td>-4.501</td>\n      <td>198.699</td>\n    </tr>\n    <tr>\n      <th>...</th>\n      <td>...</td>\n      <td>...</td>\n      <td>...</td>\n      <td>...</td>\n      <td>...</td>\n      <td>...</td>\n      <td>...</td>\n      <td>...</td>\n      <td>...</td>\n      <td>...</td>\n      <td>...</td>\n      <td>...</td>\n      <td>...</td>\n    </tr>\n    <tr>\n      <th>9996</th>\n      <td>b'SOLXXPY12A67ADABA0'</td>\n      <td>691752</td>\n      <td>b'Sin / Pecado'</td>\n      <td>b'AR4C6V01187FB3BAF4'</td>\n      <td>b'Moonspell'</td>\n      <td>386.19383</td>\n      <td>140.185</td>\n      <td>4</td>\n      <td>b'The Hanged Man'</td>\n      <td>0.722571</td>\n      <td>0.499826</td>\n      <td>-8.087</td>\n      <td>386.194</td>\n    </tr>\n    <tr>\n      <th>9997</th>\n      <td>b'SOAYONI12A6D4F85C8'</td>\n      <td>41649</td>\n      <td>b'Collection'</td>\n      <td>b'AR9JLBU1187B9AAEC4'</td>\n      <td>b'Danny Williams'</td>\n      <td>168.01914</td>\n      <td>77.072</td>\n      <td>3</td>\n      <td>b'The Wonderful World Of The Young'</td>\n      <td>0.511663</td>\n      <td>0.409779</td>\n      <td>-14.517</td>\n      <td>163.463</td>\n    </tr>\n    <tr>\n      <th>9998</th>\n      <td>b'SOJZLAJ12AB017E8A2'</td>\n      <td>346402</td>\n      <td>b'Reality'</td>\n      <td>b'ARS1DCR1187B9A4A56'</td>\n      <td>b'Winston Reedy'</td>\n      <td>193.72363</td>\n      <td>118.123</td>\n      <td>4</td>\n      <td>b'Sentimental Man'</td>\n      <td>0.433508</td>\n      <td>0.289903</td>\n      <td>-12.087</td>\n      <td>186.015</td>\n    </tr>\n    <tr>\n      <th>9999</th>\n      <td>b'SORZSCJ12A8C132446'</td>\n      <td>86259</td>\n      <td>b'Nouveau Zydeco'</td>\n      <td>b'ARAGMIV11F4C843F78'</td>\n      <td>b'Myrick Freeze\" Guillory'\"</td>\n      <td>300.82567</td>\n      <td>137.663</td>\n      <td>4</td>\n      <td>b'Zydeco In D-Minor'</td>\n      <td>0.334457</td>\n      <td>0.216829</td>\n      <td>-12.574</td>\n      <td>300.826</td>\n    </tr>\n    <tr>\n      <th>10000</th>\n      <td>b'SOFAOMI12A6D4FA2D8'</td>\n      <td>64501</td>\n      <td>b'Once Upon A Shattered Life'</td>\n      <td>b'ARYXOV81187B99831D'</td>\n      <td>b'Seventh Day Slumber'</td>\n      <td>209.73669</td>\n      <td>150.575</td>\n      <td>4</td>\n      <td>b'Shattered Life'</td>\n      <td>0.609182</td>\n      <td>0.509243</td>\n      <td>-5.324</td>\n      <td>193.167</td>\n    </tr>\n  </tbody>\n</table>\n<p>9470 rows × 13 columns</p>\n</div>"
     },
     "execution_count": 119,
     "metadata": {},
     "output_type": "execute_result"
    }
   ],
   "source": [
    "metadata.drop(labels=\n",
    "              ['ArtistLocation', 'KeySignature', 'KeySignatureConfidence', 'TimeSignatureConfidence', 'EndOfFadeIn'],\n",
    "              axis=1, inplace=True)\n",
    "\n",
    "metadata = metadata[metadata.Tempo > 0]\n",
    "metadata = metadata[metadata.TimeSignature > 0]\n",
    "metadata = metadata[metadata.Title != \"b''\"]\n",
    "metadata = metadata[metadata.ArtistHotttnesss > 0]\n",
    "\n",
    "metadata"
   ],
   "metadata": {
    "collapsed": false,
    "pycharm": {
     "name": "#%%\n"
    }
   }
  },
  {
   "cell_type": "markdown",
   "source": [
    "At a quick glance, we don't see anything wrong with the columns now.\n",
    "\n",
    "String columns have a strange b at the beggining and simple quotes. Let's remove them."
   ],
   "metadata": {
    "collapsed": false
   }
  },
  {
   "cell_type": "code",
   "execution_count": 120,
   "outputs": [
    {
     "data": {
      "text/plain": "                        SongID  AlbumID                            AlbumName  \\\nSongNumber                                                                     \n1           SOMZWCG12A8C13C480   300848                          Fear Itself   \n2           SOCIWDW12A8C13D406   300822                           Dimensions   \n3           SOXVLOJ12AB0189215   514953  Las Numero 1 De La Sonora Santanera   \n4           SONHOTT12A8C13493C   287650                        Friend Or Foe   \n5           SOFSOCN12A8C143F5D   611336                        Muertos Vivos   \n...                        ...      ...                                  ...   \n9996        SOLXXPY12A67ADABA0   691752                         Sin / Pecado   \n9997        SOAYONI12A6D4F85C8    41649                           Collection   \n9998        SOJZLAJ12AB017E8A2   346402                              Reality   \n9999        SORZSCJ12A8C132446    86259                       Nouveau Zydeco   \n10000       SOFAOMI12A6D4FA2D8    64501           Once Upon A Shattered Life   \n\n                      ArtistID                ArtistName   Duration    Tempo  \\\nSongNumber                                                                     \n1           ARD7TVE1187B99BFB1                    Casual  218.93179   92.198   \n2           ARMJAGH1187FB546F3              The Box Tops  148.03546  121.274   \n3           ARKRRTF1187B9984DA          Sonora Santanera  177.47546  100.070   \n4           AR7G5I41187FB4CE6C                  Adam Ant  233.40363  119.293   \n5           ARXR32B1187FB57099                       Gob  209.60608  129.738   \n...                        ...                       ...        ...      ...   \n9996        AR4C6V01187FB3BAF4                 Moonspell  386.19383  140.185   \n9997        AR9JLBU1187B9AAEC4            Danny Williams  168.01914   77.072   \n9998        ARS1DCR1187B9A4A56             Winston Reedy  193.72363  118.123   \n9999        ARAGMIV11F4C843F78  Myrick Freeze\" Guillory'  300.82567  137.663   \n10000       ARYXOV81187B99831D       Seventh Day Slumber  209.73669  150.575   \n\n            TimeSignature                             Title  \\\nSongNumber                                                    \n1                       4                   Didn't Mean To\"   \n2                       4                         Soul Deep   \n3                       1                   Amor De Cabaret   \n4                       4                   Something Girls   \n5                       4                    Face the Ashes   \n...                   ...                               ...   \n9996                    4                    The Hanged Man   \n9997                    3  The Wonderful World Of The Young   \n9998                    4                   Sentimental Man   \n9999                    4                 Zydeco In D-Minor   \n10000                   4                    Shattered Life   \n\n            ArtistFamiliarity  ArtistHotttnesss  Loudness  StartOfFadeOut  \nSongNumber                                                                 \n1                    0.581794          0.401998   -11.197         218.932  \n2                    0.630630          0.417500    -9.843         137.915  \n3                    0.487357          0.343428    -9.689         172.304  \n4                    0.630382          0.454231    -9.013         217.124  \n5                    0.651046          0.401724    -4.501         198.699  \n...                       ...               ...       ...             ...  \n9996                 0.722571          0.499826    -8.087         386.194  \n9997                 0.511663          0.409779   -14.517         163.463  \n9998                 0.433508          0.289903   -12.087         186.015  \n9999                 0.334457          0.216829   -12.574         300.826  \n10000                0.609182          0.509243    -5.324         193.167  \n\n[9470 rows x 13 columns]",
      "text/html": "<div>\n<style scoped>\n    .dataframe tbody tr th:only-of-type {\n        vertical-align: middle;\n    }\n\n    .dataframe tbody tr th {\n        vertical-align: top;\n    }\n\n    .dataframe thead th {\n        text-align: right;\n    }\n</style>\n<table border=\"1\" class=\"dataframe\">\n  <thead>\n    <tr style=\"text-align: right;\">\n      <th></th>\n      <th>SongID</th>\n      <th>AlbumID</th>\n      <th>AlbumName</th>\n      <th>ArtistID</th>\n      <th>ArtistName</th>\n      <th>Duration</th>\n      <th>Tempo</th>\n      <th>TimeSignature</th>\n      <th>Title</th>\n      <th>ArtistFamiliarity</th>\n      <th>ArtistHotttnesss</th>\n      <th>Loudness</th>\n      <th>StartOfFadeOut</th>\n    </tr>\n    <tr>\n      <th>SongNumber</th>\n      <th></th>\n      <th></th>\n      <th></th>\n      <th></th>\n      <th></th>\n      <th></th>\n      <th></th>\n      <th></th>\n      <th></th>\n      <th></th>\n      <th></th>\n      <th></th>\n      <th></th>\n    </tr>\n  </thead>\n  <tbody>\n    <tr>\n      <th>1</th>\n      <td>SOMZWCG12A8C13C480</td>\n      <td>300848</td>\n      <td>Fear Itself</td>\n      <td>ARD7TVE1187B99BFB1</td>\n      <td>Casual</td>\n      <td>218.93179</td>\n      <td>92.198</td>\n      <td>4</td>\n      <td>Didn't Mean To\"</td>\n      <td>0.581794</td>\n      <td>0.401998</td>\n      <td>-11.197</td>\n      <td>218.932</td>\n    </tr>\n    <tr>\n      <th>2</th>\n      <td>SOCIWDW12A8C13D406</td>\n      <td>300822</td>\n      <td>Dimensions</td>\n      <td>ARMJAGH1187FB546F3</td>\n      <td>The Box Tops</td>\n      <td>148.03546</td>\n      <td>121.274</td>\n      <td>4</td>\n      <td>Soul Deep</td>\n      <td>0.630630</td>\n      <td>0.417500</td>\n      <td>-9.843</td>\n      <td>137.915</td>\n    </tr>\n    <tr>\n      <th>3</th>\n      <td>SOXVLOJ12AB0189215</td>\n      <td>514953</td>\n      <td>Las Numero 1 De La Sonora Santanera</td>\n      <td>ARKRRTF1187B9984DA</td>\n      <td>Sonora Santanera</td>\n      <td>177.47546</td>\n      <td>100.070</td>\n      <td>1</td>\n      <td>Amor De Cabaret</td>\n      <td>0.487357</td>\n      <td>0.343428</td>\n      <td>-9.689</td>\n      <td>172.304</td>\n    </tr>\n    <tr>\n      <th>4</th>\n      <td>SONHOTT12A8C13493C</td>\n      <td>287650</td>\n      <td>Friend Or Foe</td>\n      <td>AR7G5I41187FB4CE6C</td>\n      <td>Adam Ant</td>\n      <td>233.40363</td>\n      <td>119.293</td>\n      <td>4</td>\n      <td>Something Girls</td>\n      <td>0.630382</td>\n      <td>0.454231</td>\n      <td>-9.013</td>\n      <td>217.124</td>\n    </tr>\n    <tr>\n      <th>5</th>\n      <td>SOFSOCN12A8C143F5D</td>\n      <td>611336</td>\n      <td>Muertos Vivos</td>\n      <td>ARXR32B1187FB57099</td>\n      <td>Gob</td>\n      <td>209.60608</td>\n      <td>129.738</td>\n      <td>4</td>\n      <td>Face the Ashes</td>\n      <td>0.651046</td>\n      <td>0.401724</td>\n      <td>-4.501</td>\n      <td>198.699</td>\n    </tr>\n    <tr>\n      <th>...</th>\n      <td>...</td>\n      <td>...</td>\n      <td>...</td>\n      <td>...</td>\n      <td>...</td>\n      <td>...</td>\n      <td>...</td>\n      <td>...</td>\n      <td>...</td>\n      <td>...</td>\n      <td>...</td>\n      <td>...</td>\n      <td>...</td>\n    </tr>\n    <tr>\n      <th>9996</th>\n      <td>SOLXXPY12A67ADABA0</td>\n      <td>691752</td>\n      <td>Sin / Pecado</td>\n      <td>AR4C6V01187FB3BAF4</td>\n      <td>Moonspell</td>\n      <td>386.19383</td>\n      <td>140.185</td>\n      <td>4</td>\n      <td>The Hanged Man</td>\n      <td>0.722571</td>\n      <td>0.499826</td>\n      <td>-8.087</td>\n      <td>386.194</td>\n    </tr>\n    <tr>\n      <th>9997</th>\n      <td>SOAYONI12A6D4F85C8</td>\n      <td>41649</td>\n      <td>Collection</td>\n      <td>AR9JLBU1187B9AAEC4</td>\n      <td>Danny Williams</td>\n      <td>168.01914</td>\n      <td>77.072</td>\n      <td>3</td>\n      <td>The Wonderful World Of The Young</td>\n      <td>0.511663</td>\n      <td>0.409779</td>\n      <td>-14.517</td>\n      <td>163.463</td>\n    </tr>\n    <tr>\n      <th>9998</th>\n      <td>SOJZLAJ12AB017E8A2</td>\n      <td>346402</td>\n      <td>Reality</td>\n      <td>ARS1DCR1187B9A4A56</td>\n      <td>Winston Reedy</td>\n      <td>193.72363</td>\n      <td>118.123</td>\n      <td>4</td>\n      <td>Sentimental Man</td>\n      <td>0.433508</td>\n      <td>0.289903</td>\n      <td>-12.087</td>\n      <td>186.015</td>\n    </tr>\n    <tr>\n      <th>9999</th>\n      <td>SORZSCJ12A8C132446</td>\n      <td>86259</td>\n      <td>Nouveau Zydeco</td>\n      <td>ARAGMIV11F4C843F78</td>\n      <td>Myrick Freeze\" Guillory'</td>\n      <td>300.82567</td>\n      <td>137.663</td>\n      <td>4</td>\n      <td>Zydeco In D-Minor</td>\n      <td>0.334457</td>\n      <td>0.216829</td>\n      <td>-12.574</td>\n      <td>300.826</td>\n    </tr>\n    <tr>\n      <th>10000</th>\n      <td>SOFAOMI12A6D4FA2D8</td>\n      <td>64501</td>\n      <td>Once Upon A Shattered Life</td>\n      <td>ARYXOV81187B99831D</td>\n      <td>Seventh Day Slumber</td>\n      <td>209.73669</td>\n      <td>150.575</td>\n      <td>4</td>\n      <td>Shattered Life</td>\n      <td>0.609182</td>\n      <td>0.509243</td>\n      <td>-5.324</td>\n      <td>193.167</td>\n    </tr>\n  </tbody>\n</table>\n<p>9470 rows × 13 columns</p>\n</div>"
     },
     "execution_count": 120,
     "metadata": {},
     "output_type": "execute_result"
    }
   ],
   "source": [
    "metadata['SongID'] = metadata['SongID'].apply(lambda x: x[2:-1])\n",
    "metadata['AlbumName'] = metadata['AlbumName'].apply(lambda x: x[2:-1])\n",
    "metadata['ArtistID'] = metadata['ArtistID'].apply(lambda x: x[2:-1])\n",
    "metadata['ArtistName'] = metadata['ArtistName'].apply(lambda x: x[2:-1])\n",
    "metadata['Title'] = metadata['Title'].apply(lambda x: x[2:-1])\n",
    "\n",
    "metadata"
   ],
   "metadata": {
    "collapsed": false,
    "pycharm": {
     "name": "#%%\n"
    }
   }
  },
  {
   "cell_type": "markdown",
   "source": [
    "# Guardamos el dataframe limpio"
   ],
   "metadata": {
    "collapsed": false,
    "pycharm": {
     "name": "#%% md\n"
    }
   }
  },
  {
   "cell_type": "code",
   "execution_count": 121,
   "outputs": [],
   "source": [
    "metadata.to_csv('../data/processed/metadata.csv')"
   ],
   "metadata": {
    "collapsed": false,
    "pycharm": {
     "name": "#%%\n"
    }
   }
  }
 ],
 "metadata": {
  "kernelspec": {
   "display_name": "Python 3",
   "language": "python",
   "name": "python3"
  },
  "language_info": {
   "codemirror_mode": {
    "name": "ipython",
    "version": 2
   },
   "file_extension": ".py",
   "mimetype": "text/x-python",
   "name": "python",
   "nbconvert_exporter": "python",
   "pygments_lexer": "ipython2",
   "version": "2.7.6"
  }
 },
 "nbformat": 4,
 "nbformat_minor": 0
}